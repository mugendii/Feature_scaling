{
 "cells": [
  {
   "cell_type": "code",
   "execution_count": 6,
   "metadata": {},
   "outputs": [
    {
     "name": "stdout",
     "output_type": "stream",
     "text": [
      "Requirement already satisfied: statsmodels in c:\\users\\user\\appdata\\local\\packages\\pythonsoftwarefoundation.python.3.10_qbz5n2kfra8p0\\localcache\\local-packages\\python310\\site-packages (0.14.0)\n",
      "Requirement already satisfied: pandas>=1.0 in c:\\users\\user\\appdata\\local\\packages\\pythonsoftwarefoundation.python.3.10_qbz5n2kfra8p0\\localcache\\local-packages\\python310\\site-packages (from statsmodels) (1.5.1)\n",
      "Requirement already satisfied: patsy>=0.5.2 in c:\\users\\user\\appdata\\local\\packages\\pythonsoftwarefoundation.python.3.10_qbz5n2kfra8p0\\localcache\\local-packages\\python310\\site-packages (from statsmodels) (0.5.3)\n",
      "Requirement already satisfied: numpy>=1.18 in c:\\users\\user\\appdata\\local\\packages\\pythonsoftwarefoundation.python.3.10_qbz5n2kfra8p0\\localcache\\local-packages\\python310\\site-packages (from statsmodels) (1.23.4)\n",
      "Requirement already satisfied: scipy!=1.9.2,>=1.4 in c:\\users\\user\\appdata\\local\\packages\\pythonsoftwarefoundation.python.3.10_qbz5n2kfra8p0\\localcache\\local-packages\\python310\\site-packages (from statsmodels) (1.10.1)\n",
      "Requirement already satisfied: packaging>=21.3 in c:\\users\\user\\appdata\\local\\packages\\pythonsoftwarefoundation.python.3.10_qbz5n2kfra8p0\\localcache\\local-packages\\python310\\site-packages (from statsmodels) (21.3)\n",
      "Requirement already satisfied: pyparsing!=3.0.5,>=2.0.2 in c:\\users\\user\\appdata\\local\\packages\\pythonsoftwarefoundation.python.3.10_qbz5n2kfra8p0\\localcache\\local-packages\\python310\\site-packages (from packaging>=21.3->statsmodels) (3.0.9)\n",
      "Requirement already satisfied: python-dateutil>=2.8.1 in c:\\users\\user\\appdata\\local\\packages\\pythonsoftwarefoundation.python.3.10_qbz5n2kfra8p0\\localcache\\local-packages\\python310\\site-packages (from pandas>=1.0->statsmodels) (2.8.2)\n",
      "Requirement already satisfied: pytz>=2020.1 in c:\\users\\user\\appdata\\local\\packages\\pythonsoftwarefoundation.python.3.10_qbz5n2kfra8p0\\localcache\\local-packages\\python310\\site-packages (from pandas>=1.0->statsmodels) (2022.6)\n",
      "Requirement already satisfied: six in c:\\users\\user\\appdata\\local\\packages\\pythonsoftwarefoundation.python.3.10_qbz5n2kfra8p0\\localcache\\local-packages\\python310\\site-packages (from patsy>=0.5.2->statsmodels) (1.16.0)\n"
     ]
    },
    {
     "name": "stderr",
     "output_type": "stream",
     "text": [
      "\n",
      "[notice] A new release of pip is available: 23.0.1 -> 23.2\n",
      "[notice] To update, run: C:\\Users\\User\\AppData\\Local\\Microsoft\\WindowsApps\\PythonSoftwareFoundation.Python.3.10_qbz5n2kfra8p0\\python.exe -m pip install --upgrade pip\n"
     ]
    }
   ],
   "source": [
    "!pip3 install statsmodels"
   ]
  },
  {
   "cell_type": "code",
   "execution_count": 11,
   "metadata": {},
   "outputs": [],
   "source": [
    "import pandas as pd\n",
    "import numpy as np\n",
    "import matplotlib.pyplot as plt\n",
    "import seaborn as sns\n",
    "import statsmodels.api as sm\n",
    "import sklearn\n",
    "\n"
   ]
  },
  {
   "cell_type": "code",
   "execution_count": 5,
   "metadata": {},
   "outputs": [
    {
     "data": {
      "text/html": [
       "<div>\n",
       "<style scoped>\n",
       "    .dataframe tbody tr th:only-of-type {\n",
       "        vertical-align: middle;\n",
       "    }\n",
       "\n",
       "    .dataframe tbody tr th {\n",
       "        vertical-align: top;\n",
       "    }\n",
       "\n",
       "    .dataframe thead th {\n",
       "        text-align: right;\n",
       "    }\n",
       "</style>\n",
       "<table border=\"1\" class=\"dataframe\">\n",
       "  <thead>\n",
       "    <tr style=\"text-align: right;\">\n",
       "      <th></th>\n",
       "      <th>month_old_when_trained</th>\n",
       "      <th>mean_rescues_per_year</th>\n",
       "      <th>age_last_year</th>\n",
       "      <th>weight_last_year</th>\n",
       "      <th>rescues_last_year</th>\n",
       "    </tr>\n",
       "  </thead>\n",
       "  <tbody>\n",
       "    <tr>\n",
       "      <th>0</th>\n",
       "      <td>68</td>\n",
       "      <td>21.1</td>\n",
       "      <td>9</td>\n",
       "      <td>14.5</td>\n",
       "      <td>35</td>\n",
       "    </tr>\n",
       "    <tr>\n",
       "      <th>1</th>\n",
       "      <td>53</td>\n",
       "      <td>14.9</td>\n",
       "      <td>5</td>\n",
       "      <td>14.0</td>\n",
       "      <td>30</td>\n",
       "    </tr>\n",
       "    <tr>\n",
       "      <th>2</th>\n",
       "      <td>41</td>\n",
       "      <td>20.5</td>\n",
       "      <td>6</td>\n",
       "      <td>17.7</td>\n",
       "      <td>34</td>\n",
       "    </tr>\n",
       "    <tr>\n",
       "      <th>3</th>\n",
       "      <td>3</td>\n",
       "      <td>19.4</td>\n",
       "      <td>1</td>\n",
       "      <td>13.7</td>\n",
       "      <td>29</td>\n",
       "    </tr>\n",
       "    <tr>\n",
       "      <th>4</th>\n",
       "      <td>4</td>\n",
       "      <td>24.9</td>\n",
       "      <td>4</td>\n",
       "      <td>18.4</td>\n",
       "      <td>30</td>\n",
       "    </tr>\n",
       "  </tbody>\n",
       "</table>\n",
       "</div>"
      ],
      "text/plain": [
       "   month_old_when_trained  mean_rescues_per_year  age_last_year  \\\n",
       "0                      68                   21.1              9   \n",
       "1                      53                   14.9              5   \n",
       "2                      41                   20.5              6   \n",
       "3                       3                   19.4              1   \n",
       "4                       4                   24.9              4   \n",
       "\n",
       "   weight_last_year  rescues_last_year  \n",
       "0              14.5                 35  \n",
       "1              14.0                 30  \n",
       "2              17.7                 34  \n",
       "3              13.7                 29  \n",
       "4              18.4                 30  "
      ]
     },
     "execution_count": 5,
     "metadata": {},
     "output_type": "execute_result"
    }
   ],
   "source": [
    "url = \"https://raw.githubusercontent.com/MicrosoftDocs/mslearn-introduction-to-machine-learning/main/Data/dog-training.csv\"\n",
    "df = pd.read_csv(url , delimiter= '\\t')\n",
    "df.head()"
   ]
  },
  {
   "cell_type": "code",
   "execution_count": 9,
   "metadata": {},
   "outputs": [
    {
     "data": {
      "application/vnd.plotly.v1+json": {
       "config": {
        "plotlyServerURL": "https://plot.ly"
       },
       "data": [
        {
         "hovertemplate": "weight last year=%{x}<br>rescues last year=%{y}<extra></extra>",
         "legendgroup": "",
         "marker": {
          "color": "#636efa",
          "size": 19,
          "symbol": "circle"
         },
         "mode": "markers",
         "name": "",
         "orientation": "v",
         "showlegend": false,
         "type": "scatter",
         "x": [
          14.5,
          14,
          17.7,
          13.7,
          18.4,
          12.4,
          13.1,
          17.1,
          14.3,
          20.2,
          14.5,
          17.8,
          18.6,
          19.5,
          18.3,
          19.6,
          22.7,
          19.6,
          17.8,
          19.1,
          23.1,
          21.1,
          28.5,
          20.6,
          11.4,
          22.2,
          14.6,
          16.5,
          16.1,
          17.2,
          21.6,
          22.5,
          21.2,
          19.4,
          16.2,
          21.4,
          18.6,
          12.6,
          14.8,
          9.3,
          7.2,
          19.4,
          19.5,
          20,
          15.4,
          16.9,
          21,
          17.1,
          23.5,
          23
         ],
         "xaxis": "x",
         "y": [
          35,
          30,
          34,
          29,
          30,
          25,
          26,
          37,
          32,
          30,
          35,
          32,
          33,
          36,
          32,
          36,
          38,
          35,
          33,
          34,
          37,
          35,
          34,
          40,
          20,
          32,
          31,
          38,
          31,
          36,
          44,
          28,
          39,
          30,
          44,
          42,
          39,
          30,
          26,
          29,
          27,
          37,
          30,
          26,
          25,
          29,
          29,
          30,
          29,
          37
         ],
         "yaxis": "y"
        }
       ],
       "layout": {
        "legend": {
         "tracegroupgap": 0
        },
        "shapes": [
         {
          "line": {
           "color": "rgb(228,26,28)"
          },
          "path": "M7.2 26.536859941675704 L 7.307035175879397 26.598734799905856 L 7.414070351758794 26.660609658136007 L 7.521105527638191 26.722484516366155 L 7.628140703517588 26.784359374596306 L 7.735175879396985 26.846234232826458 L 7.842211055276382 26.90810909105661 L 7.949246231155779 26.969983949286757 L 8.056281407035176 27.031858807516908 L 8.163316582914574 27.09373366574706 L 8.27035175879397 27.155608523977207 L 8.377386934673368 27.21748338220736 L 8.484422110552764 27.27935824043751 L 8.591457286432162 27.341233098667658 L 8.698492462311558 27.40310795689781 L 8.805527638190956 27.46498281512796 L 8.912562814070352 27.52685767335811 L 9.019597989949748 27.58873253158826 L 9.126633165829146 27.65060738981841 L 9.233668341708544 27.712482248048563 L 9.34070351758794 27.774357106278714 L 9.447738693467336 27.836231964508862 L 9.554773869346734 27.898106822739013 L 9.66180904522613 27.959981680969165 L 9.768844221105528 28.021856539199312 L 9.875879396984924 28.083731397429464 L 9.982914572864322 28.145606255659615 L 10.089949748743718 28.207481113889763 L 10.196984924623116 28.269355972119914 L 10.304020100502512 28.331230830350066 L 10.411055276381909 28.393105688580214 L 10.518090452261307 28.454980546810365 L 10.625125628140704 28.516855405040516 L 10.7321608040201 28.578730263270664 L 10.839195979899497 28.640605121500815 L 10.946231155778895 28.702479979730967 L 11.053266331658293 28.76435483796112 L 11.160301507537689 28.82622969619127 L 11.267336683417085 28.888104554421417 L 11.374371859296483 28.94997941265157 L 11.48140703517588 29.01185427088172 L 11.588442211055277 29.073729129111868 L 11.695477386934673 29.13560398734202 L 11.80251256281407 29.19747884557217 L 11.909547738693467 29.25935370380232 L 12.016582914572865 29.32122856203247 L 12.123618090452261 29.38310342026262 L 12.230653266331657 29.44497827849277 L 12.337688442211055 29.50685313672292 L 12.444723618090453 29.568727994953072 L 12.55175879396985 29.63060285318322 L 12.658793969849246 29.69247771141337 L 12.765829145728643 29.754352569643522 L 12.872864321608041 29.816227427873674 L 12.979899497487438 29.878102286103825 L 13.086934673366834 29.939977144333973 L 13.19396984924623 30.00185200256412 L 13.301005025125628 30.063726860794276 L 13.408040201005026 30.125601719024424 L 13.515075376884422 30.187476577254575 L 13.622110552763818 30.249351435484726 L 13.729145728643216 30.311226293714874 L 13.836180904522614 30.373101151945026 L 13.94321608040201 30.434976010175177 L 14.050251256281406 30.496850868405325 L 14.157286432160804 30.558725726635476 L 14.264321608040202 30.620600584865628 L 14.371356783919598 30.682475443095775 L 14.478391959798994 30.744350301325927 L 14.585427135678392 30.806225159556078 L 14.69246231155779 30.86810001778623 L 14.799497487437186 30.92997487601638 L 14.906532663316582 30.99184973424653 L 15.013567839195979 31.053724592476676 L 15.120603015075377 31.11559945070683 L 15.227638190954774 31.17747430893698 L 15.33467336683417 31.23934916716713 L 15.441708542713567 31.301224025397282 L 15.548743718592966 31.36309888362743 L 15.655778894472363 31.42497374185758 L 15.762814070351759 31.486848600087733 L 15.869849246231155 31.54872345831788 L 15.976884422110551 31.61059831654803 L 16.08391959798995 31.672473174778183 L 16.190954773869347 31.73434803300833 L 16.297989949748743 31.796222891238482 L 16.40502512562814 31.858097749468634 L 16.51206030150754 31.919972607698785 L 16.619095477386935 31.981847465928936 L 16.72613065326633 32.043722324159084 L 16.833165829145727 32.10559718238923 L 16.940201005025127 32.16747204061939 L 17.047236180904523 32.229346898849535 L 17.15427135678392 32.29122175707968 L 17.261306532663315 32.35309661530984 L 17.368341708542715 32.414971473539985 L 17.47537688442211 32.47684633177013 L 17.582412060301507 32.53872119000029 L 17.689447236180904 32.600596048230436 L 17.7964824120603 32.662470906460584 L 17.9035175879397 32.72434576469074 L 18.010552763819096 32.78622062292089 L 18.117587939698492 32.848095481151034 L 18.224623115577888 32.90997033938119 L 18.331658291457288 32.971845197611344 L 18.438693467336684 33.03372005584149 L 18.54572864321608 33.09559491407164 L 18.652763819095476 33.15746977230179 L 18.759798994974876 33.21934463053194 L 18.866834170854272 33.28121948876209 L 18.973869346733668 33.343094346992245 L 19.080904522613064 33.40496920522239 L 19.18793969849246 33.46684406345254 L 19.29497487437186 33.528718921682696 L 19.402010050251256 33.590593779912844 L 19.509045226130652 33.65246863814299 L 19.61608040201005 33.71434349637315 L 19.72311557788945 33.776218354603294 L 19.830150753768844 33.83809321283344 L 19.93718592964824 33.8999680710636 L 20.044221105527637 33.961842929293745 L 20.151256281407036 34.02371778752389 L 20.258291457286433 34.08559264575405 L 20.36532663316583 34.147467503984196 L 20.472361809045225 34.20934236221434 L 20.579396984924625 34.2712172204445 L 20.68643216080402 34.333092078674646 L 20.793467336683417 34.394966936904794 L 20.900502512562813 34.45684179513495 L 21.00753768844221 34.5187166533651 L 21.11457286432161 34.580591511595244 L 21.221608040201005 34.6424663698254 L 21.3286432160804 34.70434122805555 L 21.435678391959797 34.766216086285695 L 21.542713567839197 34.82809094451585 L 21.649748743718593 34.889965802746 L 21.75678391959799 34.951840660976146 L 21.863819095477385 35.0137155192063 L 21.970854271356785 35.075590377436455 L 22.07788944723618 35.1374652356666 L 22.184924623115577 35.19934009389675 L 22.291959798994974 35.2612149521269 L 22.398994974874373 35.323089810357054 L 22.50603015075377 35.3849646685872 L 22.613065326633166 35.44683952681736 L 22.72010050251256 35.508714385047504 L 22.827135678391958 35.57058924327765 L 22.934170854271358 35.63246410150781 L 23.041206030150754 35.694338959737955 L 23.14824120603015 35.7562138179681 L 23.255276381909546 35.81808867619826 L 23.362311557788942 35.879963534428406 L 23.469346733668342 35.94183839265855 L 23.576381909547738 36.00371325088871 L 23.683417085427134 36.065588109118856 L 23.79045226130653 36.127462967349004 L 23.89748743718593 36.18933782557916 L 24.004522613065326 36.25121268380931 L 24.111557788944722 36.313087542039455 L 24.21859296482412 36.37496240026961 L 24.325628140703518 36.43683725849976 L 24.432663316582914 36.498712116729905 L 24.53969849246231 36.56058697496006 L 24.646733668341707 36.62246183319021 L 24.753768844221103 36.684336691420356 L 24.860804020100502 36.74621154965051 L 24.9678391959799 36.80808640788066 L 25.074874371859295 36.869961266110806 L 25.18190954773869 36.93183612434096 L 25.28894472361809 36.99371098257111 L 25.395979899497487 37.05558584080126 L 25.503015075376883 37.11746069903141 L 25.61005025125628 37.17933555726156 L 25.71708542713568 37.241210415491715 L 25.824120603015075 37.30308527372186 L 25.93115577889447 37.36496013195201 L 26.038190954773867 37.42683499018216 L 26.145226130653263 37.48870984841231 L 26.252261306532663 37.55058470664247 L 26.35929648241206 37.612459564872616 L 26.466331658291455 37.67433442310276 L 26.57336683417085 37.73620928133291 L 26.68040201005025 37.798084139563066 L 26.787437185929647 37.859958997793214 L 26.894472361809044 37.92183385602337 L 27.00150753768844 37.98370871425352 L 27.10854271356784 38.045583572483665 L 27.215577889447236 38.10745843071382 L 27.32261306532663 38.16933328894397 L 27.429648241206028 38.231208147174115 L 27.536683417085428 38.29308300540427 L 27.643718592964824 38.35495786363442 L 27.75075376884422 38.416832721864566 L 27.857788944723616 38.47870758009472 L 27.964824120603012 38.54058243832487 L 28.071859296482412 38.602457296555016 L 28.178894472361808 38.66433215478517 L 28.285929648241204 38.72620701301532 L 28.3929648241206 38.78808187124547 L 28.5 38.84995672947562",
          "type": "path"
         }
        ],
        "template": {
         "data": {
          "bar": [
           {
            "error_x": {
             "color": "#2a3f5f"
            },
            "error_y": {
             "color": "#2a3f5f"
            },
            "marker": {
             "line": {
              "color": "white",
              "width": 0.5
             },
             "pattern": {
              "fillmode": "overlay",
              "size": 10,
              "solidity": 0.2
             }
            },
            "type": "bar"
           }
          ],
          "barpolar": [
           {
            "marker": {
             "line": {
              "color": "white",
              "width": 0.5
             },
             "pattern": {
              "fillmode": "overlay",
              "size": 10,
              "solidity": 0.2
             }
            },
            "type": "barpolar"
           }
          ],
          "box": [
           {
            "boxpoints": "outliers",
            "notched": false,
            "type": "box"
           }
          ],
          "carpet": [
           {
            "aaxis": {
             "endlinecolor": "#2a3f5f",
             "gridcolor": "#C8D4E3",
             "linecolor": "#C8D4E3",
             "minorgridcolor": "#C8D4E3",
             "startlinecolor": "#2a3f5f"
            },
            "baxis": {
             "endlinecolor": "#2a3f5f",
             "gridcolor": "#C8D4E3",
             "linecolor": "#C8D4E3",
             "minorgridcolor": "#C8D4E3",
             "startlinecolor": "#2a3f5f"
            },
            "type": "carpet"
           }
          ],
          "choropleth": [
           {
            "colorbar": {
             "outlinewidth": 0,
             "ticks": ""
            },
            "type": "choropleth"
           }
          ],
          "contour": [
           {
            "colorbar": {
             "outlinewidth": 0,
             "ticks": ""
            },
            "colorscale": [
             [
              0,
              "#0d0887"
             ],
             [
              0.1111111111111111,
              "#46039f"
             ],
             [
              0.2222222222222222,
              "#7201a8"
             ],
             [
              0.3333333333333333,
              "#9c179e"
             ],
             [
              0.4444444444444444,
              "#bd3786"
             ],
             [
              0.5555555555555556,
              "#d8576b"
             ],
             [
              0.6666666666666666,
              "#ed7953"
             ],
             [
              0.7777777777777778,
              "#fb9f3a"
             ],
             [
              0.8888888888888888,
              "#fdca26"
             ],
             [
              1,
              "#f0f921"
             ]
            ],
            "type": "contour"
           }
          ],
          "contourcarpet": [
           {
            "colorbar": {
             "outlinewidth": 0,
             "ticks": ""
            },
            "type": "contourcarpet"
           }
          ],
          "heatmap": [
           {
            "colorbar": {
             "outlinewidth": 0,
             "ticks": ""
            },
            "colorscale": [
             [
              0,
              "#0d0887"
             ],
             [
              0.1111111111111111,
              "#46039f"
             ],
             [
              0.2222222222222222,
              "#7201a8"
             ],
             [
              0.3333333333333333,
              "#9c179e"
             ],
             [
              0.4444444444444444,
              "#bd3786"
             ],
             [
              0.5555555555555556,
              "#d8576b"
             ],
             [
              0.6666666666666666,
              "#ed7953"
             ],
             [
              0.7777777777777778,
              "#fb9f3a"
             ],
             [
              0.8888888888888888,
              "#fdca26"
             ],
             [
              1,
              "#f0f921"
             ]
            ],
            "type": "heatmap"
           }
          ],
          "heatmapgl": [
           {
            "colorbar": {
             "outlinewidth": 0,
             "ticks": ""
            },
            "colorscale": [
             [
              0,
              "#0d0887"
             ],
             [
              0.1111111111111111,
              "#46039f"
             ],
             [
              0.2222222222222222,
              "#7201a8"
             ],
             [
              0.3333333333333333,
              "#9c179e"
             ],
             [
              0.4444444444444444,
              "#bd3786"
             ],
             [
              0.5555555555555556,
              "#d8576b"
             ],
             [
              0.6666666666666666,
              "#ed7953"
             ],
             [
              0.7777777777777778,
              "#fb9f3a"
             ],
             [
              0.8888888888888888,
              "#fdca26"
             ],
             [
              1,
              "#f0f921"
             ]
            ],
            "type": "heatmapgl"
           }
          ],
          "histogram": [
           {
            "marker": {
             "line": {
              "width": 1
             },
             "pattern": {
              "fillmode": "overlay",
              "size": 10,
              "solidity": 0.2
             }
            },
            "type": "histogram"
           }
          ],
          "histogram2d": [
           {
            "colorbar": {
             "outlinewidth": 0,
             "ticks": ""
            },
            "colorscale": [
             [
              0,
              "#0d0887"
             ],
             [
              0.1111111111111111,
              "#46039f"
             ],
             [
              0.2222222222222222,
              "#7201a8"
             ],
             [
              0.3333333333333333,
              "#9c179e"
             ],
             [
              0.4444444444444444,
              "#bd3786"
             ],
             [
              0.5555555555555556,
              "#d8576b"
             ],
             [
              0.6666666666666666,
              "#ed7953"
             ],
             [
              0.7777777777777778,
              "#fb9f3a"
             ],
             [
              0.8888888888888888,
              "#fdca26"
             ],
             [
              1,
              "#f0f921"
             ]
            ],
            "type": "histogram2d"
           }
          ],
          "histogram2dcontour": [
           {
            "colorbar": {
             "outlinewidth": 0,
             "ticks": ""
            },
            "colorscale": [
             [
              0,
              "#0d0887"
             ],
             [
              0.1111111111111111,
              "#46039f"
             ],
             [
              0.2222222222222222,
              "#7201a8"
             ],
             [
              0.3333333333333333,
              "#9c179e"
             ],
             [
              0.4444444444444444,
              "#bd3786"
             ],
             [
              0.5555555555555556,
              "#d8576b"
             ],
             [
              0.6666666666666666,
              "#ed7953"
             ],
             [
              0.7777777777777778,
              "#fb9f3a"
             ],
             [
              0.8888888888888888,
              "#fdca26"
             ],
             [
              1,
              "#f0f921"
             ]
            ],
            "type": "histogram2dcontour"
           }
          ],
          "mesh3d": [
           {
            "colorbar": {
             "outlinewidth": 0,
             "ticks": ""
            },
            "type": "mesh3d"
           }
          ],
          "parcoords": [
           {
            "line": {
             "colorbar": {
              "outlinewidth": 0,
              "ticks": ""
             }
            },
            "type": "parcoords"
           }
          ],
          "pie": [
           {
            "automargin": true,
            "type": "pie"
           }
          ],
          "scatter": [
           {
            "fillpattern": {
             "fillmode": "overlay",
             "size": 10,
             "solidity": 0.2
            },
            "marker": {
             "opacity": 0.8
            },
            "type": "scatter"
           }
          ],
          "scatter3d": [
           {
            "line": {
             "colorbar": {
              "outlinewidth": 0,
              "ticks": ""
             }
            },
            "marker": {
             "colorbar": {
              "outlinewidth": 0,
              "ticks": ""
             },
             "opacity": 0.8
            },
            "type": "scatter3d"
           }
          ],
          "scattercarpet": [
           {
            "marker": {
             "colorbar": {
              "outlinewidth": 0,
              "ticks": ""
             }
            },
            "type": "scattercarpet"
           }
          ],
          "scattergeo": [
           {
            "marker": {
             "colorbar": {
              "outlinewidth": 0,
              "ticks": ""
             }
            },
            "type": "scattergeo"
           }
          ],
          "scattergl": [
           {
            "marker": {
             "colorbar": {
              "outlinewidth": 0,
              "ticks": ""
             }
            },
            "type": "scattergl"
           }
          ],
          "scattermapbox": [
           {
            "marker": {
             "colorbar": {
              "outlinewidth": 0,
              "ticks": ""
             }
            },
            "type": "scattermapbox"
           }
          ],
          "scatterpolar": [
           {
            "marker": {
             "colorbar": {
              "outlinewidth": 0,
              "ticks": ""
             }
            },
            "type": "scatterpolar"
           }
          ],
          "scatterpolargl": [
           {
            "marker": {
             "colorbar": {
              "outlinewidth": 0,
              "ticks": ""
             }
            },
            "type": "scatterpolargl"
           }
          ],
          "scatterternary": [
           {
            "marker": {
             "colorbar": {
              "outlinewidth": 0,
              "ticks": ""
             }
            },
            "type": "scatterternary"
           }
          ],
          "surface": [
           {
            "colorbar": {
             "outlinewidth": 0,
             "ticks": ""
            },
            "colorscale": [
             [
              0,
              "#0d0887"
             ],
             [
              0.1111111111111111,
              "#46039f"
             ],
             [
              0.2222222222222222,
              "#7201a8"
             ],
             [
              0.3333333333333333,
              "#9c179e"
             ],
             [
              0.4444444444444444,
              "#bd3786"
             ],
             [
              0.5555555555555556,
              "#d8576b"
             ],
             [
              0.6666666666666666,
              "#ed7953"
             ],
             [
              0.7777777777777778,
              "#fb9f3a"
             ],
             [
              0.8888888888888888,
              "#fdca26"
             ],
             [
              1,
              "#f0f921"
             ]
            ],
            "type": "surface"
           }
          ],
          "table": [
           {
            "cells": {
             "fill": {
              "color": "#EBF0F8"
             },
             "line": {
              "color": "white"
             }
            },
            "header": {
             "fill": {
              "color": "#C8D4E3"
             },
             "line": {
              "color": "white"
             }
            },
            "type": "table"
           }
          ]
         },
         "layout": {
          "annotationdefaults": {
           "arrowcolor": "#2a3f5f",
           "arrowhead": 0,
           "arrowwidth": 1
          },
          "autotypenumbers": "strict",
          "coloraxis": {
           "colorbar": {
            "outlinewidth": 0,
            "ticks": ""
           }
          },
          "colorscale": {
           "diverging": [
            [
             0,
             "#8e0152"
            ],
            [
             0.1,
             "#c51b7d"
            ],
            [
             0.2,
             "#de77ae"
            ],
            [
             0.3,
             "#f1b6da"
            ],
            [
             0.4,
             "#fde0ef"
            ],
            [
             0.5,
             "#f7f7f7"
            ],
            [
             0.6,
             "#e6f5d0"
            ],
            [
             0.7,
             "#b8e186"
            ],
            [
             0.8,
             "#7fbc41"
            ],
            [
             0.9,
             "#4d9221"
            ],
            [
             1,
             "#276419"
            ]
           ],
           "sequential": [
            [
             0,
             "#0d0887"
            ],
            [
             0.1111111111111111,
             "#46039f"
            ],
            [
             0.2222222222222222,
             "#7201a8"
            ],
            [
             0.3333333333333333,
             "#9c179e"
            ],
            [
             0.4444444444444444,
             "#bd3786"
            ],
            [
             0.5555555555555556,
             "#d8576b"
            ],
            [
             0.6666666666666666,
             "#ed7953"
            ],
            [
             0.7777777777777778,
             "#fb9f3a"
            ],
            [
             0.8888888888888888,
             "#fdca26"
            ],
            [
             1,
             "#f0f921"
            ]
           ],
           "sequentialminus": [
            [
             0,
             "#0d0887"
            ],
            [
             0.1111111111111111,
             "#46039f"
            ],
            [
             0.2222222222222222,
             "#7201a8"
            ],
            [
             0.3333333333333333,
             "#9c179e"
            ],
            [
             0.4444444444444444,
             "#bd3786"
            ],
            [
             0.5555555555555556,
             "#d8576b"
            ],
            [
             0.6666666666666666,
             "#ed7953"
            ],
            [
             0.7777777777777778,
             "#fb9f3a"
            ],
            [
             0.8888888888888888,
             "#fdca26"
            ],
            [
             1,
             "#f0f921"
            ]
           ]
          },
          "colorway": [
           "#636efa",
           "#EF553B",
           "#00cc96",
           "#ab63fa",
           "#FFA15A",
           "#19d3f3",
           "#FF6692",
           "#B6E880",
           "#FF97FF",
           "#FECB52"
          ],
          "font": {
           "color": "#2a3f5f"
          },
          "geo": {
           "bgcolor": "white",
           "lakecolor": "white",
           "landcolor": "white",
           "showlakes": true,
           "showland": true,
           "subunitcolor": "#C8D4E3"
          },
          "height": 400,
          "hoverlabel": {
           "align": "left"
          },
          "hovermode": "closest",
          "mapbox": {
           "style": "light"
          },
          "margin": {
           "b": 2,
           "l": 2,
           "r": 2,
           "t": 30
          },
          "paper_bgcolor": "white",
          "plot_bgcolor": "white",
          "polar": {
           "angularaxis": {
            "gridcolor": "#EBF0F8",
            "linecolor": "#EBF0F8",
            "ticks": ""
           },
           "bgcolor": "white",
           "radialaxis": {
            "gridcolor": "#EBF0F8",
            "linecolor": "#EBF0F8",
            "ticks": ""
           }
          },
          "scene": {
           "camera": {
            "eye": {
             "x": 1.5,
             "y": 1.5,
             "z": 0.1
            }
           },
           "xaxis": {
            "backgroundcolor": "white",
            "gridcolor": "#DFE8F3",
            "gridwidth": 2,
            "linecolor": "#EBF0F8",
            "showbackground": true,
            "ticks": "",
            "zerolinecolor": "#EBF0F8"
           },
           "yaxis": {
            "backgroundcolor": "white",
            "gridcolor": "#DFE8F3",
            "gridwidth": 2,
            "linecolor": "#EBF0F8",
            "showbackground": true,
            "ticks": "",
            "zerolinecolor": "#EBF0F8"
           },
           "zaxis": {
            "backgroundcolor": "white",
            "gridcolor": "#DFE8F3",
            "gridwidth": 2,
            "linecolor": "#EBF0F8",
            "showbackground": true,
            "ticks": "",
            "zerolinecolor": "#EBF0F8"
           }
          },
          "shapedefaults": {
           "line": {
            "color": "#2a3f5f"
           }
          },
          "ternary": {
           "aaxis": {
            "gridcolor": "#DFE8F3",
            "linecolor": "#A2B1C6",
            "ticks": ""
           },
           "baxis": {
            "gridcolor": "#DFE8F3",
            "linecolor": "#A2B1C6",
            "ticks": ""
           },
           "bgcolor": "white",
           "caxis": {
            "gridcolor": "#DFE8F3",
            "linecolor": "#A2B1C6",
            "ticks": ""
           }
          },
          "title": {
           "x": 0.5
          },
          "xaxis": {
           "automargin": true,
           "gridcolor": "#EBF0F8",
           "linecolor": "#EBF0F8",
           "linewidth": 2,
           "showline": true,
           "ticks": "",
           "title": {
            "standoff": 15
           },
           "zerolinecolor": "#EBF0F8",
           "zerolinewidth": 2
          },
          "yaxis": {
           "automargin": true,
           "gridcolor": "#EBF0F8",
           "linecolor": "#EBF0F8",
           "linewidth": 2,
           "showline": true,
           "ticks": "",
           "title": {
            "standoff": 15
           },
           "zerolinecolor": "#EBF0F8",
           "zerolinewidth": 2
          }
         }
        },
        "xaxis": {
         "anchor": "y",
         "domain": [
          0,
          1
         ],
         "title": {
          "text": "weight last year"
         }
        },
        "yaxis": {
         "anchor": "x",
         "domain": [
          0,
          1
         ],
         "title": {
          "text": "rescues last year"
         }
        }
       }
      }
     },
     "metadata": {},
     "output_type": "display_data"
    }
   ],
   "source": [
    "import graphing\n",
    "import statsmodels.formula.api as smf\n",
    "\n",
    "# First, we define our formula using a special syntax\n",
    "# This says that rescues_last_year is explained by weight_last_year\n",
    "formula = \"rescues_last_year ~ weight_last_year\"\n",
    "\n",
    "model = smf.ols(formula = formula, data = df).fit()\n",
    "\n",
    "graphing.scatter_2D(df, \"weight_last_year\", \"rescues_last_year\", trendline = lambda x: model.params[1] * x + model.params[0])"
   ]
  },
  {
   "cell_type": "markdown",
   "metadata": {},
   "source": [
    "There seems to be a pretty clear relationship between a dog's weight and the number of rescues it's performed. That seems pretty reasonable, as we'd expect heavier dogs to be bigger and stronger and thus better at saving lives!"
   ]
  },
  {
   "cell_type": "markdown",
   "metadata": {},
   "source": [
    "Split the daaset into two parts, train and Test\n",
    "By splitting our data, we're able to gauge the performance of our model when confronted with previously unseen data."
   ]
  },
  {
   "cell_type": "code",
   "execution_count": 13,
   "metadata": {},
   "outputs": [],
   "source": [
    "from sklearn.model_selection import train_test_split\n",
    "\n",
    "\n",
    "# Obtain the label and feature from the original data\n",
    "dataset = df[['rescues_last_year','weight_last_year']]\n",
    "\n",
    "# Split the dataset in an 70/30 train/test ratio. We also obtain the respective corresponding indices from the original dataset.\n",
    "train, test = train_test_split(dataset, train_size=0.7, random_state=21)"
   ]
  },
  {
   "cell_type": "code",
   "execution_count": 14,
   "metadata": {},
   "outputs": [
    {
     "data": {
      "text/html": [
       "<div>\n",
       "<style scoped>\n",
       "    .dataframe tbody tr th:only-of-type {\n",
       "        vertical-align: middle;\n",
       "    }\n",
       "\n",
       "    .dataframe tbody tr th {\n",
       "        vertical-align: top;\n",
       "    }\n",
       "\n",
       "    .dataframe thead th {\n",
       "        text-align: right;\n",
       "    }\n",
       "</style>\n",
       "<table border=\"1\" class=\"dataframe\">\n",
       "  <thead>\n",
       "    <tr style=\"text-align: right;\">\n",
       "      <th></th>\n",
       "      <th>rescues_last_year</th>\n",
       "      <th>weight_last_year</th>\n",
       "    </tr>\n",
       "  </thead>\n",
       "  <tbody>\n",
       "    <tr>\n",
       "      <th>33</th>\n",
       "      <td>30</td>\n",
       "      <td>19.4</td>\n",
       "    </tr>\n",
       "    <tr>\n",
       "      <th>0</th>\n",
       "      <td>35</td>\n",
       "      <td>14.5</td>\n",
       "    </tr>\n",
       "    <tr>\n",
       "      <th>13</th>\n",
       "      <td>36</td>\n",
       "      <td>19.5</td>\n",
       "    </tr>\n",
       "    <tr>\n",
       "      <th>28</th>\n",
       "      <td>31</td>\n",
       "      <td>16.1</td>\n",
       "    </tr>\n",
       "    <tr>\n",
       "      <th>49</th>\n",
       "      <td>37</td>\n",
       "      <td>23.0</td>\n",
       "    </tr>\n",
       "  </tbody>\n",
       "</table>\n",
       "</div>"
      ],
      "text/plain": [
       "    rescues_last_year  weight_last_year\n",
       "33                 30              19.4\n",
       "0                  35              14.5\n",
       "13                 36              19.5\n",
       "28                 31              16.1\n",
       "49                 37              23.0"
      ]
     },
     "execution_count": 14,
     "metadata": {},
     "output_type": "execute_result"
    }
   ],
   "source": [
    "train.head()"
   ]
  },
  {
   "cell_type": "code",
   "execution_count": 16,
   "metadata": {},
   "outputs": [
    {
     "data": {
      "text/plain": [
       "(35, 2)"
      ]
     },
     "execution_count": 16,
     "metadata": {},
     "output_type": "execute_result"
    }
   ],
   "source": [
    "train.shape"
   ]
  },
  {
   "cell_type": "code",
   "execution_count": 15,
   "metadata": {},
   "outputs": [
    {
     "data": {
      "text/html": [
       "<div>\n",
       "<style scoped>\n",
       "    .dataframe tbody tr th:only-of-type {\n",
       "        vertical-align: middle;\n",
       "    }\n",
       "\n",
       "    .dataframe tbody tr th {\n",
       "        vertical-align: top;\n",
       "    }\n",
       "\n",
       "    .dataframe thead th {\n",
       "        text-align: right;\n",
       "    }\n",
       "</style>\n",
       "<table border=\"1\" class=\"dataframe\">\n",
       "  <thead>\n",
       "    <tr style=\"text-align: right;\">\n",
       "      <th></th>\n",
       "      <th>rescues_last_year</th>\n",
       "      <th>weight_last_year</th>\n",
       "    </tr>\n",
       "  </thead>\n",
       "  <tbody>\n",
       "    <tr>\n",
       "      <th>7</th>\n",
       "      <td>37</td>\n",
       "      <td>17.1</td>\n",
       "    </tr>\n",
       "    <tr>\n",
       "      <th>44</th>\n",
       "      <td>25</td>\n",
       "      <td>15.4</td>\n",
       "    </tr>\n",
       "    <tr>\n",
       "      <th>43</th>\n",
       "      <td>26</td>\n",
       "      <td>20.0</td>\n",
       "    </tr>\n",
       "    <tr>\n",
       "      <th>25</th>\n",
       "      <td>32</td>\n",
       "      <td>22.2</td>\n",
       "    </tr>\n",
       "    <tr>\n",
       "      <th>14</th>\n",
       "      <td>32</td>\n",
       "      <td>18.3</td>\n",
       "    </tr>\n",
       "  </tbody>\n",
       "</table>\n",
       "</div>"
      ],
      "text/plain": [
       "    rescues_last_year  weight_last_year\n",
       "7                  37              17.1\n",
       "44                 25              15.4\n",
       "43                 26              20.0\n",
       "25                 32              22.2\n",
       "14                 32              18.3"
      ]
     },
     "execution_count": 15,
     "metadata": {},
     "output_type": "execute_result"
    }
   ],
   "source": [
    "test.head()"
   ]
  },
  {
   "cell_type": "code",
   "execution_count": 17,
   "metadata": {},
   "outputs": [
    {
     "data": {
      "text/plain": [
       "(15, 2)"
      ]
     },
     "execution_count": 17,
     "metadata": {},
     "output_type": "execute_result"
    }
   ],
   "source": [
    "test.shape"
   ]
  },
  {
   "cell_type": "code",
   "execution_count": 19,
   "metadata": {},
   "outputs": [
    {
     "data": {
      "application/vnd.plotly.v1+json": {
       "config": {
        "plotlyServerURL": "https://plot.ly"
       },
       "data": [
        {
         "hovertemplate": "Dataset=train<br>weight last year=%{x}<br>rescues last year=%{y}<extra></extra>",
         "legendgroup": "train",
         "marker": {
          "color": "#636efa",
          "size": 19,
          "symbol": "circle"
         },
         "mode": "markers",
         "name": "train",
         "orientation": "v",
         "showlegend": true,
         "type": "scatter",
         "x": [
          19.4,
          14.5,
          19.5,
          16.1,
          23,
          7.2,
          16.9,
          23.5,
          21,
          17.2,
          12.6,
          14,
          16.5,
          11.4,
          21.2,
          13.7,
          14.6,
          22.7,
          19.5,
          13.1,
          17.8,
          12.4,
          18.6,
          9.3,
          23.1,
          14.8,
          18.6,
          19.4,
          14.3,
          14.5,
          16.2,
          21.4,
          18.4,
          19.6,
          20.2
         ],
         "xaxis": "x",
         "y": [
          30,
          35,
          36,
          31,
          37,
          27,
          29,
          29,
          29,
          36,
          30,
          30,
          38,
          20,
          39,
          29,
          31,
          38,
          30,
          26,
          33,
          25,
          33,
          29,
          37,
          26,
          39,
          37,
          32,
          35,
          44,
          42,
          30,
          36,
          30
         ],
         "yaxis": "y"
        },
        {
         "hovertemplate": "Dataset=test<br>weight last year=%{x}<br>rescues last year=%{y}<extra></extra>",
         "legendgroup": "test",
         "marker": {
          "color": "#EF553B",
          "size": 19,
          "symbol": "circle"
         },
         "mode": "markers",
         "name": "test",
         "orientation": "v",
         "showlegend": true,
         "type": "scatter",
         "x": [
          17.1,
          15.4,
          20,
          22.2,
          18.3,
          17.7,
          20.6,
          22.5,
          19.6,
          17.1,
          21.6,
          21.1,
          19.1,
          17.8,
          28.5
         ],
         "xaxis": "x",
         "y": [
          37,
          25,
          26,
          32,
          32,
          34,
          40,
          28,
          35,
          30,
          44,
          35,
          34,
          32,
          34
         ],
         "yaxis": "y"
        }
       ],
       "layout": {
        "legend": {
         "title": {
          "text": "Dataset"
         },
         "tracegroupgap": 0
        },
        "shapes": [
         {
          "line": {
           "color": "rgb(228,26,28)"
          },
          "path": "M7.2 26.536859941675704 L 7.307035175879397 26.598734799905856 L 7.414070351758794 26.660609658136007 L 7.521105527638191 26.722484516366155 L 7.628140703517588 26.784359374596306 L 7.735175879396985 26.846234232826458 L 7.842211055276382 26.90810909105661 L 7.949246231155779 26.969983949286757 L 8.056281407035176 27.031858807516908 L 8.163316582914574 27.09373366574706 L 8.27035175879397 27.155608523977207 L 8.377386934673368 27.21748338220736 L 8.484422110552764 27.27935824043751 L 8.591457286432162 27.341233098667658 L 8.698492462311558 27.40310795689781 L 8.805527638190956 27.46498281512796 L 8.912562814070352 27.52685767335811 L 9.019597989949748 27.58873253158826 L 9.126633165829146 27.65060738981841 L 9.233668341708544 27.712482248048563 L 9.34070351758794 27.774357106278714 L 9.447738693467336 27.836231964508862 L 9.554773869346734 27.898106822739013 L 9.66180904522613 27.959981680969165 L 9.768844221105528 28.021856539199312 L 9.875879396984924 28.083731397429464 L 9.982914572864322 28.145606255659615 L 10.089949748743718 28.207481113889763 L 10.196984924623116 28.269355972119914 L 10.304020100502512 28.331230830350066 L 10.411055276381909 28.393105688580214 L 10.518090452261307 28.454980546810365 L 10.625125628140704 28.516855405040516 L 10.7321608040201 28.578730263270664 L 10.839195979899497 28.640605121500815 L 10.946231155778895 28.702479979730967 L 11.053266331658293 28.76435483796112 L 11.160301507537689 28.82622969619127 L 11.267336683417085 28.888104554421417 L 11.374371859296483 28.94997941265157 L 11.48140703517588 29.01185427088172 L 11.588442211055277 29.073729129111868 L 11.695477386934673 29.13560398734202 L 11.80251256281407 29.19747884557217 L 11.909547738693467 29.25935370380232 L 12.016582914572865 29.32122856203247 L 12.123618090452261 29.38310342026262 L 12.230653266331657 29.44497827849277 L 12.337688442211055 29.50685313672292 L 12.444723618090453 29.568727994953072 L 12.55175879396985 29.63060285318322 L 12.658793969849246 29.69247771141337 L 12.765829145728643 29.754352569643522 L 12.872864321608041 29.816227427873674 L 12.979899497487438 29.878102286103825 L 13.086934673366834 29.939977144333973 L 13.19396984924623 30.00185200256412 L 13.301005025125628 30.063726860794276 L 13.408040201005026 30.125601719024424 L 13.515075376884422 30.187476577254575 L 13.622110552763818 30.249351435484726 L 13.729145728643216 30.311226293714874 L 13.836180904522614 30.373101151945026 L 13.94321608040201 30.434976010175177 L 14.050251256281406 30.496850868405325 L 14.157286432160804 30.558725726635476 L 14.264321608040202 30.620600584865628 L 14.371356783919598 30.682475443095775 L 14.478391959798994 30.744350301325927 L 14.585427135678392 30.806225159556078 L 14.69246231155779 30.86810001778623 L 14.799497487437186 30.92997487601638 L 14.906532663316582 30.99184973424653 L 15.013567839195979 31.053724592476676 L 15.120603015075377 31.11559945070683 L 15.227638190954774 31.17747430893698 L 15.33467336683417 31.23934916716713 L 15.441708542713567 31.301224025397282 L 15.548743718592966 31.36309888362743 L 15.655778894472363 31.42497374185758 L 15.762814070351759 31.486848600087733 L 15.869849246231155 31.54872345831788 L 15.976884422110551 31.61059831654803 L 16.08391959798995 31.672473174778183 L 16.190954773869347 31.73434803300833 L 16.297989949748743 31.796222891238482 L 16.40502512562814 31.858097749468634 L 16.51206030150754 31.919972607698785 L 16.619095477386935 31.981847465928936 L 16.72613065326633 32.043722324159084 L 16.833165829145727 32.10559718238923 L 16.940201005025127 32.16747204061939 L 17.047236180904523 32.229346898849535 L 17.15427135678392 32.29122175707968 L 17.261306532663315 32.35309661530984 L 17.368341708542715 32.414971473539985 L 17.47537688442211 32.47684633177013 L 17.582412060301507 32.53872119000029 L 17.689447236180904 32.600596048230436 L 17.7964824120603 32.662470906460584 L 17.9035175879397 32.72434576469074 L 18.010552763819096 32.78622062292089 L 18.117587939698492 32.848095481151034 L 18.224623115577888 32.90997033938119 L 18.331658291457288 32.971845197611344 L 18.438693467336684 33.03372005584149 L 18.54572864321608 33.09559491407164 L 18.652763819095476 33.15746977230179 L 18.759798994974876 33.21934463053194 L 18.866834170854272 33.28121948876209 L 18.973869346733668 33.343094346992245 L 19.080904522613064 33.40496920522239 L 19.18793969849246 33.46684406345254 L 19.29497487437186 33.528718921682696 L 19.402010050251256 33.590593779912844 L 19.509045226130652 33.65246863814299 L 19.61608040201005 33.71434349637315 L 19.72311557788945 33.776218354603294 L 19.830150753768844 33.83809321283344 L 19.93718592964824 33.8999680710636 L 20.044221105527637 33.961842929293745 L 20.151256281407036 34.02371778752389 L 20.258291457286433 34.08559264575405 L 20.36532663316583 34.147467503984196 L 20.472361809045225 34.20934236221434 L 20.579396984924625 34.2712172204445 L 20.68643216080402 34.333092078674646 L 20.793467336683417 34.394966936904794 L 20.900502512562813 34.45684179513495 L 21.00753768844221 34.5187166533651 L 21.11457286432161 34.580591511595244 L 21.221608040201005 34.6424663698254 L 21.3286432160804 34.70434122805555 L 21.435678391959797 34.766216086285695 L 21.542713567839197 34.82809094451585 L 21.649748743718593 34.889965802746 L 21.75678391959799 34.951840660976146 L 21.863819095477385 35.0137155192063 L 21.970854271356785 35.075590377436455 L 22.07788944723618 35.1374652356666 L 22.184924623115577 35.19934009389675 L 22.291959798994974 35.2612149521269 L 22.398994974874373 35.323089810357054 L 22.50603015075377 35.3849646685872 L 22.613065326633166 35.44683952681736 L 22.72010050251256 35.508714385047504 L 22.827135678391958 35.57058924327765 L 22.934170854271358 35.63246410150781 L 23.041206030150754 35.694338959737955 L 23.14824120603015 35.7562138179681 L 23.255276381909546 35.81808867619826 L 23.362311557788942 35.879963534428406 L 23.469346733668342 35.94183839265855 L 23.576381909547738 36.00371325088871 L 23.683417085427134 36.065588109118856 L 23.79045226130653 36.127462967349004 L 23.89748743718593 36.18933782557916 L 24.004522613065326 36.25121268380931 L 24.111557788944722 36.313087542039455 L 24.21859296482412 36.37496240026961 L 24.325628140703518 36.43683725849976 L 24.432663316582914 36.498712116729905 L 24.53969849246231 36.56058697496006 L 24.646733668341707 36.62246183319021 L 24.753768844221103 36.684336691420356 L 24.860804020100502 36.74621154965051 L 24.9678391959799 36.80808640788066 L 25.074874371859295 36.869961266110806 L 25.18190954773869 36.93183612434096 L 25.28894472361809 36.99371098257111 L 25.395979899497487 37.05558584080126 L 25.503015075376883 37.11746069903141 L 25.61005025125628 37.17933555726156 L 25.71708542713568 37.241210415491715 L 25.824120603015075 37.30308527372186 L 25.93115577889447 37.36496013195201 L 26.038190954773867 37.42683499018216 L 26.145226130653263 37.48870984841231 L 26.252261306532663 37.55058470664247 L 26.35929648241206 37.612459564872616 L 26.466331658291455 37.67433442310276 L 26.57336683417085 37.73620928133291 L 26.68040201005025 37.798084139563066 L 26.787437185929647 37.859958997793214 L 26.894472361809044 37.92183385602337 L 27.00150753768844 37.98370871425352 L 27.10854271356784 38.045583572483665 L 27.215577889447236 38.10745843071382 L 27.32261306532663 38.16933328894397 L 27.429648241206028 38.231208147174115 L 27.536683417085428 38.29308300540427 L 27.643718592964824 38.35495786363442 L 27.75075376884422 38.416832721864566 L 27.857788944723616 38.47870758009472 L 27.964824120603012 38.54058243832487 L 28.071859296482412 38.602457296555016 L 28.178894472361808 38.66433215478517 L 28.285929648241204 38.72620701301532 L 28.3929648241206 38.78808187124547 L 28.5 38.84995672947562",
          "type": "path"
         }
        ],
        "template": {
         "data": {
          "bar": [
           {
            "error_x": {
             "color": "#2a3f5f"
            },
            "error_y": {
             "color": "#2a3f5f"
            },
            "marker": {
             "line": {
              "color": "white",
              "width": 0.5
             },
             "pattern": {
              "fillmode": "overlay",
              "size": 10,
              "solidity": 0.2
             }
            },
            "type": "bar"
           }
          ],
          "barpolar": [
           {
            "marker": {
             "line": {
              "color": "white",
              "width": 0.5
             },
             "pattern": {
              "fillmode": "overlay",
              "size": 10,
              "solidity": 0.2
             }
            },
            "type": "barpolar"
           }
          ],
          "box": [
           {
            "boxpoints": "outliers",
            "notched": false,
            "type": "box"
           }
          ],
          "carpet": [
           {
            "aaxis": {
             "endlinecolor": "#2a3f5f",
             "gridcolor": "#C8D4E3",
             "linecolor": "#C8D4E3",
             "minorgridcolor": "#C8D4E3",
             "startlinecolor": "#2a3f5f"
            },
            "baxis": {
             "endlinecolor": "#2a3f5f",
             "gridcolor": "#C8D4E3",
             "linecolor": "#C8D4E3",
             "minorgridcolor": "#C8D4E3",
             "startlinecolor": "#2a3f5f"
            },
            "type": "carpet"
           }
          ],
          "choropleth": [
           {
            "colorbar": {
             "outlinewidth": 0,
             "ticks": ""
            },
            "type": "choropleth"
           }
          ],
          "contour": [
           {
            "colorbar": {
             "outlinewidth": 0,
             "ticks": ""
            },
            "colorscale": [
             [
              0,
              "#0d0887"
             ],
             [
              0.1111111111111111,
              "#46039f"
             ],
             [
              0.2222222222222222,
              "#7201a8"
             ],
             [
              0.3333333333333333,
              "#9c179e"
             ],
             [
              0.4444444444444444,
              "#bd3786"
             ],
             [
              0.5555555555555556,
              "#d8576b"
             ],
             [
              0.6666666666666666,
              "#ed7953"
             ],
             [
              0.7777777777777778,
              "#fb9f3a"
             ],
             [
              0.8888888888888888,
              "#fdca26"
             ],
             [
              1,
              "#f0f921"
             ]
            ],
            "type": "contour"
           }
          ],
          "contourcarpet": [
           {
            "colorbar": {
             "outlinewidth": 0,
             "ticks": ""
            },
            "type": "contourcarpet"
           }
          ],
          "heatmap": [
           {
            "colorbar": {
             "outlinewidth": 0,
             "ticks": ""
            },
            "colorscale": [
             [
              0,
              "#0d0887"
             ],
             [
              0.1111111111111111,
              "#46039f"
             ],
             [
              0.2222222222222222,
              "#7201a8"
             ],
             [
              0.3333333333333333,
              "#9c179e"
             ],
             [
              0.4444444444444444,
              "#bd3786"
             ],
             [
              0.5555555555555556,
              "#d8576b"
             ],
             [
              0.6666666666666666,
              "#ed7953"
             ],
             [
              0.7777777777777778,
              "#fb9f3a"
             ],
             [
              0.8888888888888888,
              "#fdca26"
             ],
             [
              1,
              "#f0f921"
             ]
            ],
            "type": "heatmap"
           }
          ],
          "heatmapgl": [
           {
            "colorbar": {
             "outlinewidth": 0,
             "ticks": ""
            },
            "colorscale": [
             [
              0,
              "#0d0887"
             ],
             [
              0.1111111111111111,
              "#46039f"
             ],
             [
              0.2222222222222222,
              "#7201a8"
             ],
             [
              0.3333333333333333,
              "#9c179e"
             ],
             [
              0.4444444444444444,
              "#bd3786"
             ],
             [
              0.5555555555555556,
              "#d8576b"
             ],
             [
              0.6666666666666666,
              "#ed7953"
             ],
             [
              0.7777777777777778,
              "#fb9f3a"
             ],
             [
              0.8888888888888888,
              "#fdca26"
             ],
             [
              1,
              "#f0f921"
             ]
            ],
            "type": "heatmapgl"
           }
          ],
          "histogram": [
           {
            "marker": {
             "line": {
              "width": 1
             },
             "pattern": {
              "fillmode": "overlay",
              "size": 10,
              "solidity": 0.2
             }
            },
            "type": "histogram"
           }
          ],
          "histogram2d": [
           {
            "colorbar": {
             "outlinewidth": 0,
             "ticks": ""
            },
            "colorscale": [
             [
              0,
              "#0d0887"
             ],
             [
              0.1111111111111111,
              "#46039f"
             ],
             [
              0.2222222222222222,
              "#7201a8"
             ],
             [
              0.3333333333333333,
              "#9c179e"
             ],
             [
              0.4444444444444444,
              "#bd3786"
             ],
             [
              0.5555555555555556,
              "#d8576b"
             ],
             [
              0.6666666666666666,
              "#ed7953"
             ],
             [
              0.7777777777777778,
              "#fb9f3a"
             ],
             [
              0.8888888888888888,
              "#fdca26"
             ],
             [
              1,
              "#f0f921"
             ]
            ],
            "type": "histogram2d"
           }
          ],
          "histogram2dcontour": [
           {
            "colorbar": {
             "outlinewidth": 0,
             "ticks": ""
            },
            "colorscale": [
             [
              0,
              "#0d0887"
             ],
             [
              0.1111111111111111,
              "#46039f"
             ],
             [
              0.2222222222222222,
              "#7201a8"
             ],
             [
              0.3333333333333333,
              "#9c179e"
             ],
             [
              0.4444444444444444,
              "#bd3786"
             ],
             [
              0.5555555555555556,
              "#d8576b"
             ],
             [
              0.6666666666666666,
              "#ed7953"
             ],
             [
              0.7777777777777778,
              "#fb9f3a"
             ],
             [
              0.8888888888888888,
              "#fdca26"
             ],
             [
              1,
              "#f0f921"
             ]
            ],
            "type": "histogram2dcontour"
           }
          ],
          "mesh3d": [
           {
            "colorbar": {
             "outlinewidth": 0,
             "ticks": ""
            },
            "type": "mesh3d"
           }
          ],
          "parcoords": [
           {
            "line": {
             "colorbar": {
              "outlinewidth": 0,
              "ticks": ""
             }
            },
            "type": "parcoords"
           }
          ],
          "pie": [
           {
            "automargin": true,
            "type": "pie"
           }
          ],
          "scatter": [
           {
            "fillpattern": {
             "fillmode": "overlay",
             "size": 10,
             "solidity": 0.2
            },
            "marker": {
             "opacity": 0.8
            },
            "type": "scatter"
           }
          ],
          "scatter3d": [
           {
            "line": {
             "colorbar": {
              "outlinewidth": 0,
              "ticks": ""
             }
            },
            "marker": {
             "colorbar": {
              "outlinewidth": 0,
              "ticks": ""
             },
             "opacity": 0.8
            },
            "type": "scatter3d"
           }
          ],
          "scattercarpet": [
           {
            "marker": {
             "colorbar": {
              "outlinewidth": 0,
              "ticks": ""
             }
            },
            "type": "scattercarpet"
           }
          ],
          "scattergeo": [
           {
            "marker": {
             "colorbar": {
              "outlinewidth": 0,
              "ticks": ""
             }
            },
            "type": "scattergeo"
           }
          ],
          "scattergl": [
           {
            "marker": {
             "colorbar": {
              "outlinewidth": 0,
              "ticks": ""
             }
            },
            "type": "scattergl"
           }
          ],
          "scattermapbox": [
           {
            "marker": {
             "colorbar": {
              "outlinewidth": 0,
              "ticks": ""
             }
            },
            "type": "scattermapbox"
           }
          ],
          "scatterpolar": [
           {
            "marker": {
             "colorbar": {
              "outlinewidth": 0,
              "ticks": ""
             }
            },
            "type": "scatterpolar"
           }
          ],
          "scatterpolargl": [
           {
            "marker": {
             "colorbar": {
              "outlinewidth": 0,
              "ticks": ""
             }
            },
            "type": "scatterpolargl"
           }
          ],
          "scatterternary": [
           {
            "marker": {
             "colorbar": {
              "outlinewidth": 0,
              "ticks": ""
             }
            },
            "type": "scatterternary"
           }
          ],
          "surface": [
           {
            "colorbar": {
             "outlinewidth": 0,
             "ticks": ""
            },
            "colorscale": [
             [
              0,
              "#0d0887"
             ],
             [
              0.1111111111111111,
              "#46039f"
             ],
             [
              0.2222222222222222,
              "#7201a8"
             ],
             [
              0.3333333333333333,
              "#9c179e"
             ],
             [
              0.4444444444444444,
              "#bd3786"
             ],
             [
              0.5555555555555556,
              "#d8576b"
             ],
             [
              0.6666666666666666,
              "#ed7953"
             ],
             [
              0.7777777777777778,
              "#fb9f3a"
             ],
             [
              0.8888888888888888,
              "#fdca26"
             ],
             [
              1,
              "#f0f921"
             ]
            ],
            "type": "surface"
           }
          ],
          "table": [
           {
            "cells": {
             "fill": {
              "color": "#EBF0F8"
             },
             "line": {
              "color": "white"
             }
            },
            "header": {
             "fill": {
              "color": "#C8D4E3"
             },
             "line": {
              "color": "white"
             }
            },
            "type": "table"
           }
          ]
         },
         "layout": {
          "annotationdefaults": {
           "arrowcolor": "#2a3f5f",
           "arrowhead": 0,
           "arrowwidth": 1
          },
          "autotypenumbers": "strict",
          "coloraxis": {
           "colorbar": {
            "outlinewidth": 0,
            "ticks": ""
           }
          },
          "colorscale": {
           "diverging": [
            [
             0,
             "#8e0152"
            ],
            [
             0.1,
             "#c51b7d"
            ],
            [
             0.2,
             "#de77ae"
            ],
            [
             0.3,
             "#f1b6da"
            ],
            [
             0.4,
             "#fde0ef"
            ],
            [
             0.5,
             "#f7f7f7"
            ],
            [
             0.6,
             "#e6f5d0"
            ],
            [
             0.7,
             "#b8e186"
            ],
            [
             0.8,
             "#7fbc41"
            ],
            [
             0.9,
             "#4d9221"
            ],
            [
             1,
             "#276419"
            ]
           ],
           "sequential": [
            [
             0,
             "#0d0887"
            ],
            [
             0.1111111111111111,
             "#46039f"
            ],
            [
             0.2222222222222222,
             "#7201a8"
            ],
            [
             0.3333333333333333,
             "#9c179e"
            ],
            [
             0.4444444444444444,
             "#bd3786"
            ],
            [
             0.5555555555555556,
             "#d8576b"
            ],
            [
             0.6666666666666666,
             "#ed7953"
            ],
            [
             0.7777777777777778,
             "#fb9f3a"
            ],
            [
             0.8888888888888888,
             "#fdca26"
            ],
            [
             1,
             "#f0f921"
            ]
           ],
           "sequentialminus": [
            [
             0,
             "#0d0887"
            ],
            [
             0.1111111111111111,
             "#46039f"
            ],
            [
             0.2222222222222222,
             "#7201a8"
            ],
            [
             0.3333333333333333,
             "#9c179e"
            ],
            [
             0.4444444444444444,
             "#bd3786"
            ],
            [
             0.5555555555555556,
             "#d8576b"
            ],
            [
             0.6666666666666666,
             "#ed7953"
            ],
            [
             0.7777777777777778,
             "#fb9f3a"
            ],
            [
             0.8888888888888888,
             "#fdca26"
            ],
            [
             1,
             "#f0f921"
            ]
           ]
          },
          "colorway": [
           "#636efa",
           "#EF553B",
           "#00cc96",
           "#ab63fa",
           "#FFA15A",
           "#19d3f3",
           "#FF6692",
           "#B6E880",
           "#FF97FF",
           "#FECB52"
          ],
          "font": {
           "color": "#2a3f5f"
          },
          "geo": {
           "bgcolor": "white",
           "lakecolor": "white",
           "landcolor": "white",
           "showlakes": true,
           "showland": true,
           "subunitcolor": "#C8D4E3"
          },
          "height": 400,
          "hoverlabel": {
           "align": "left"
          },
          "hovermode": "closest",
          "mapbox": {
           "style": "light"
          },
          "margin": {
           "b": 2,
           "l": 2,
           "r": 2,
           "t": 30
          },
          "paper_bgcolor": "white",
          "plot_bgcolor": "white",
          "polar": {
           "angularaxis": {
            "gridcolor": "#EBF0F8",
            "linecolor": "#EBF0F8",
            "ticks": ""
           },
           "bgcolor": "white",
           "radialaxis": {
            "gridcolor": "#EBF0F8",
            "linecolor": "#EBF0F8",
            "ticks": ""
           }
          },
          "scene": {
           "camera": {
            "eye": {
             "x": 1.5,
             "y": 1.5,
             "z": 0.1
            }
           },
           "xaxis": {
            "backgroundcolor": "white",
            "gridcolor": "#DFE8F3",
            "gridwidth": 2,
            "linecolor": "#EBF0F8",
            "showbackground": true,
            "ticks": "",
            "zerolinecolor": "#EBF0F8"
           },
           "yaxis": {
            "backgroundcolor": "white",
            "gridcolor": "#DFE8F3",
            "gridwidth": 2,
            "linecolor": "#EBF0F8",
            "showbackground": true,
            "ticks": "",
            "zerolinecolor": "#EBF0F8"
           },
           "zaxis": {
            "backgroundcolor": "white",
            "gridcolor": "#DFE8F3",
            "gridwidth": 2,
            "linecolor": "#EBF0F8",
            "showbackground": true,
            "ticks": "",
            "zerolinecolor": "#EBF0F8"
           }
          },
          "shapedefaults": {
           "line": {
            "color": "#2a3f5f"
           }
          },
          "ternary": {
           "aaxis": {
            "gridcolor": "#DFE8F3",
            "linecolor": "#A2B1C6",
            "ticks": ""
           },
           "baxis": {
            "gridcolor": "#DFE8F3",
            "linecolor": "#A2B1C6",
            "ticks": ""
           },
           "bgcolor": "white",
           "caxis": {
            "gridcolor": "#DFE8F3",
            "linecolor": "#A2B1C6",
            "ticks": ""
           }
          },
          "title": {
           "x": 0.5
          },
          "xaxis": {
           "automargin": true,
           "gridcolor": "#EBF0F8",
           "linecolor": "#EBF0F8",
           "linewidth": 2,
           "showline": true,
           "ticks": "",
           "title": {
            "standoff": 15
           },
           "zerolinecolor": "#EBF0F8",
           "zerolinewidth": 2
          },
          "yaxis": {
           "automargin": true,
           "gridcolor": "#EBF0F8",
           "linecolor": "#EBF0F8",
           "linewidth": 2,
           "showline": true,
           "ticks": "",
           "title": {
            "standoff": 15
           },
           "zerolinecolor": "#EBF0F8",
           "zerolinewidth": 2
          }
         }
        },
        "xaxis": {
         "anchor": "y",
         "domain": [
          0,
          1
         ],
         "title": {
          "text": "weight last year"
         }
        },
        "yaxis": {
         "anchor": "x",
         "domain": [
          0,
          1
         ],
         "title": {
          "text": "rescues last year"
         }
        }
       }
      }
     },
     "metadata": {},
     "output_type": "display_data"
    }
   ],
   "source": [
    "# concatenate training and test so they can be graphed\n",
    "plot_set = pd.concat([train,test])\n",
    "plot_set[\"Dataset\"] = [\"train\"] * len(train) + [\"test\"] * len(test)\n",
    "\n",
    "# Create graph\n",
    "graphing.scatter_2D(plot_set, \"weight_last_year\", \"rescues_last_year\", \"Dataset\", trendline = lambda x: model.params[1] * x + model.params[0])"
   ]
  },
  {
   "cell_type": "markdown",
   "metadata": {},
   "source": [
    "Train the model using the training set"
   ]
  },
  {
   "cell_type": "code",
   "execution_count": 20,
   "metadata": {},
   "outputs": [
    {
     "data": {
      "application/vnd.plotly.v1+json": {
       "config": {
        "plotlyServerURL": "https://plot.ly"
       },
       "data": [
        {
         "hovertemplate": "weight last year=%{x}<br>rescues last year=%{y}<extra></extra>",
         "legendgroup": "",
         "marker": {
          "color": "#636efa",
          "size": 19,
          "symbol": "circle"
         },
         "mode": "markers",
         "name": "",
         "orientation": "v",
         "showlegend": false,
         "type": "scatter",
         "x": [
          19.4,
          14.5,
          19.5,
          16.1,
          23,
          7.2,
          16.9,
          23.5,
          21,
          17.2,
          12.6,
          14,
          16.5,
          11.4,
          21.2,
          13.7,
          14.6,
          22.7,
          19.5,
          13.1,
          17.8,
          12.4,
          18.6,
          9.3,
          23.1,
          14.8,
          18.6,
          19.4,
          14.3,
          14.5,
          16.2,
          21.4,
          18.4,
          19.6,
          20.2
         ],
         "xaxis": "x",
         "y": [
          30,
          35,
          36,
          31,
          37,
          27,
          29,
          29,
          29,
          36,
          30,
          30,
          38,
          20,
          39,
          29,
          31,
          38,
          30,
          26,
          33,
          25,
          33,
          29,
          37,
          26,
          39,
          37,
          32,
          35,
          44,
          42,
          30,
          36,
          30
         ],
         "yaxis": "y"
        }
       ],
       "layout": {
        "legend": {
         "tracegroupgap": 0
        },
        "shapes": [
         {
          "line": {
           "color": "rgb(228,26,28)"
          },
          "path": "M7.2 25.780056775396904 L 7.281909547738693 25.83614601896565 L 7.363819095477387 25.892235262534395 L 7.44572864321608 25.94832450610314 L 7.527638190954774 26.004413749671883 L 7.609547738693467 26.06050299324063 L 7.691457286432161 26.116592236809375 L 7.773366834170854 26.17268148037812 L 7.8552763819095475 26.228770723946866 L 7.937185929648241 26.28485996751561 L 8.019095477386935 26.340949211084357 L 8.101005025125628 26.397038454653103 L 8.182914572864322 26.45312769822185 L 8.264824120603015 26.50921694179059 L 8.34673366834171 26.56530618535934 L 8.428643216080403 26.621395428928082 L 8.510552763819096 26.677484672496828 L 8.592462311557789 26.733573916065573 L 8.674371859296482 26.78966315963432 L 8.756281407035177 26.845752403203065 L 8.83819095477387 26.90184164677181 L 8.920100502512563 26.957930890340556 L 9.002010050251256 27.0140201339093 L 9.08391959798995 27.070109377478047 L 9.165829145728644 27.12619862104679 L 9.247738693467337 27.182287864615535 L 9.32964824120603 27.23837710818428 L 9.411557788944723 27.294466351753027 L 9.493467336683416 27.350555595321772 L 9.575376884422111 27.406644838890518 L 9.657286432160804 27.462734082459264 L 9.739195979899497 27.518823326028006 L 9.821105527638192 27.574912569596755 L 9.903015075376885 27.631001813165497 L 9.984924623115578 27.687091056734243 L 10.066834170854271 27.74318030030299 L 10.148743718592964 27.799269543871734 L 10.230653266331657 27.85535878744048 L 10.312562814070352 27.911448031009225 L 10.394472361809045 27.96753727457797 L 10.476381909547738 28.023626518146713 L 10.558291457286433 28.079715761715462 L 10.640201005025126 28.135805005284205 L 10.72211055276382 28.19189424885295 L 10.804020100502512 28.247983492421696 L 10.885929648241206 28.30407273599044 L 10.967839195979899 28.360161979559187 L 11.049748743718594 28.416251223127933 L 11.131658291457287 28.47234046669668 L 11.21356783919598 28.52842971026542 L 11.295477386934675 28.58451895383417 L 11.377386934673368 28.640608197402912 L 11.45929648241206 28.696697440971658 L 11.541206030150754 28.752786684540403 L 11.623115577889447 28.80887592810915 L 11.70502512562814 28.864965171677895 L 11.786934673366833 28.921054415246637 L 11.868844221105528 28.977143658815386 L 11.950753768844221 29.03323290238413 L 12.032663316582916 29.089322145952877 L 12.114572864321609 29.14541138952162 L 12.196482412060302 29.201500633090365 L 12.278391959798995 29.25758987665911 L 12.360301507537688 29.313679120227857 L 12.442211055276381 29.369768363796602 L 12.524120603015074 29.425857607365344 L 12.606030150753769 29.481946850934094 L 12.687939698492462 29.538036094502836 L 12.769849246231157 29.594125338071585 L 12.85175879396985 29.650214581640327 L 12.933668341708543 29.706303825209073 L 13.015577889447236 29.76239306877782 L 13.09748743718593 29.818482312346564 L 13.179396984924622 29.87457155591531 L 13.261306532663315 29.930660799484052 L 13.34321608040201 29.9867500430528 L 13.425125628140703 30.042839286621543 L 13.507035175879398 30.098928530190292 L 13.588944723618091 30.155017773759035 L 13.670854271356784 30.211107017327784 L 13.752763819095478 30.267196260896526 L 13.83467336683417 30.32328550446527 L 13.916582914572864 30.379374748034017 L 13.998492462311557 30.43546399160276 L 14.080402010050252 30.49155323517151 L 14.162311557788945 30.54764247874025 L 14.24422110552764 30.603731722309 L 14.326130653266333 30.659820965877742 L 14.408040201005026 30.71591020944649 L 14.489949748743719 30.771999453015233 L 14.571859296482412 30.82808869658398 L 14.653768844221105 30.884177940152725 L 14.735678391959798 30.940267183721467 L 14.817587939698493 30.996356427290216 L 14.899497487437186 31.05244567085896 L 14.98140703517588 31.108534914427707 L 15.063316582914574 31.16462415799645 L 15.145226130653267 31.2207134015652 L 15.22713567839196 31.27680264513394 L 15.309045226130653 31.332891888702687 L 15.390954773869346 31.388981132271432 L 15.47286432160804 31.445070375840174 L 15.554773869346732 31.501159619408924 L 15.636683417085429 31.55724886297767 L 15.718592964824122 31.613338106546415 L 15.800502512562815 31.669427350115157 L 15.882412060301508 31.725516593683906 L 15.964321608040201 31.78160583725265 L 16.046231155778894 31.837695080821394 L 16.128140703517587 31.89378432439014 L 16.21005025125628 31.949873567958882 L 16.291959798994974 32.00596281152763 L 16.373869346733667 32.06205205509637 L 16.455778894472363 32.11814129866512 L 16.537688442211056 32.174230542233865 L 16.61959798994975 32.230319785802614 L 16.701507537688443 32.286409029371356 L 16.783417085427136 32.342498272940105 L 16.86532663316583 32.39858751650885 L 16.94723618090452 32.45467676007759 L 17.029145728643215 32.51076600364634 L 17.111055276381908 32.56685524721508 L 17.192964824120605 32.62294449078383 L 17.274874371859298 32.67903373435257 L 17.35678391959799 32.73512297792132 L 17.438693467336684 32.79121222149006 L 17.520603015075377 32.847301465058806 L 17.60251256281407 32.903390708627555 L 17.684422110552763 32.9594799521963 L 17.766331658291456 33.015569195765046 L 17.84824120603015 33.07165843933379 L 17.930150753768846 33.12774768290254 L 18.01206030150754 33.18383692647128 L 18.093969849246232 33.23992617004003 L 18.175879396984925 33.29601541360877 L 18.257788944723618 33.35210465717752 L 18.33969849246231 33.40819390074626 L 18.421608040201004 33.464283144315004 L 18.503517587939697 33.520372387883754 L 18.58542713567839 33.576461631452496 L 18.667336683417087 33.632550875021245 L 18.74924623115578 33.68864011858999 L 18.831155778894473 33.744729362158736 L 18.913065326633166 33.80081860572748 L 18.99497487437186 33.85690784929622 L 19.076884422110552 33.91299709286497 L 19.158793969849246 33.96908633643371 L 19.24070351758794 34.02517558000246 L 19.32261306532663 34.0812648235712 L 19.40452261306533 34.13735406713995 L 19.48643216080402 34.193443310708695 L 19.568341708542714 34.249532554277444 L 19.650251256281408 34.305621797846186 L 19.7321608040201 34.361711041414935 L 19.814070351758794 34.41780028498368 L 19.895979899497487 34.47388952855242 L 19.97788944723618 34.52997877212117 L 20.059798994974873 34.58606801568991 L 20.14170854271357 34.64215725925866 L 20.223618090452263 34.6982465028274 L 20.305527638190956 34.75433574639615 L 20.38743718592965 34.81042498996489 L 20.469346733668342 34.866514233533636 L 20.551256281407035 34.922603477102385 L 20.633165829145728 34.97869272067113 L 20.71507537688442 35.034781964239876 L 20.796984924623114 35.09087120780862 L 20.87889447236181 35.14696045137737 L 20.960804020100504 35.20304969494611 L 21.042713567839197 35.25913893851486 L 21.12462311557789 35.3152281820836 L 21.206532663316583 35.37131742565235 L 21.288442211055276 35.42740666922109 L 21.37035175879397 35.483495912789834 L 21.452261306532662 35.539585156358584 L 21.534170854271355 35.595674399927326 L 21.61608040201005 35.65176364349607 L 21.697989949748745 35.70785288706482 L 21.77989949748744 35.763942130633566 L 21.86180904522613 35.82003137420231 L 21.943718592964824 35.87612061777105 L 22.025628140703517 35.9322098613398 L 22.10753768844221 35.98829910490854 L 22.189447236180904 36.04438834847729 L 22.271356783919597 36.10047759204603 L 22.35326633165829 36.15656683561478 L 22.435175879396986 36.212656079183525 L 22.51708542713568 36.268745322752274 L 22.598994974874373 36.324834566321016 L 22.680904522613066 36.380923809889765 L 22.76281407035176 36.43701305345851 L 22.844723618090452 36.49310229702725 L 22.926633165829145 36.549191540596 L 23.008542713567838 36.60528078416474 L 23.09045226130653 36.66137002773348 L 23.172361809045228 36.71745927130223 L 23.254271356783917 36.77354851487098 L 23.336180904522614 36.82963775843972 L 23.418090452261307 36.885727002008466 L 23.5 36.941816245577215",
          "type": "path"
         }
        ],
        "template": {
         "data": {
          "bar": [
           {
            "error_x": {
             "color": "#2a3f5f"
            },
            "error_y": {
             "color": "#2a3f5f"
            },
            "marker": {
             "line": {
              "color": "white",
              "width": 0.5
             },
             "pattern": {
              "fillmode": "overlay",
              "size": 10,
              "solidity": 0.2
             }
            },
            "type": "bar"
           }
          ],
          "barpolar": [
           {
            "marker": {
             "line": {
              "color": "white",
              "width": 0.5
             },
             "pattern": {
              "fillmode": "overlay",
              "size": 10,
              "solidity": 0.2
             }
            },
            "type": "barpolar"
           }
          ],
          "box": [
           {
            "boxpoints": "outliers",
            "notched": false,
            "type": "box"
           }
          ],
          "carpet": [
           {
            "aaxis": {
             "endlinecolor": "#2a3f5f",
             "gridcolor": "#C8D4E3",
             "linecolor": "#C8D4E3",
             "minorgridcolor": "#C8D4E3",
             "startlinecolor": "#2a3f5f"
            },
            "baxis": {
             "endlinecolor": "#2a3f5f",
             "gridcolor": "#C8D4E3",
             "linecolor": "#C8D4E3",
             "minorgridcolor": "#C8D4E3",
             "startlinecolor": "#2a3f5f"
            },
            "type": "carpet"
           }
          ],
          "choropleth": [
           {
            "colorbar": {
             "outlinewidth": 0,
             "ticks": ""
            },
            "type": "choropleth"
           }
          ],
          "contour": [
           {
            "colorbar": {
             "outlinewidth": 0,
             "ticks": ""
            },
            "colorscale": [
             [
              0,
              "#0d0887"
             ],
             [
              0.1111111111111111,
              "#46039f"
             ],
             [
              0.2222222222222222,
              "#7201a8"
             ],
             [
              0.3333333333333333,
              "#9c179e"
             ],
             [
              0.4444444444444444,
              "#bd3786"
             ],
             [
              0.5555555555555556,
              "#d8576b"
             ],
             [
              0.6666666666666666,
              "#ed7953"
             ],
             [
              0.7777777777777778,
              "#fb9f3a"
             ],
             [
              0.8888888888888888,
              "#fdca26"
             ],
             [
              1,
              "#f0f921"
             ]
            ],
            "type": "contour"
           }
          ],
          "contourcarpet": [
           {
            "colorbar": {
             "outlinewidth": 0,
             "ticks": ""
            },
            "type": "contourcarpet"
           }
          ],
          "heatmap": [
           {
            "colorbar": {
             "outlinewidth": 0,
             "ticks": ""
            },
            "colorscale": [
             [
              0,
              "#0d0887"
             ],
             [
              0.1111111111111111,
              "#46039f"
             ],
             [
              0.2222222222222222,
              "#7201a8"
             ],
             [
              0.3333333333333333,
              "#9c179e"
             ],
             [
              0.4444444444444444,
              "#bd3786"
             ],
             [
              0.5555555555555556,
              "#d8576b"
             ],
             [
              0.6666666666666666,
              "#ed7953"
             ],
             [
              0.7777777777777778,
              "#fb9f3a"
             ],
             [
              0.8888888888888888,
              "#fdca26"
             ],
             [
              1,
              "#f0f921"
             ]
            ],
            "type": "heatmap"
           }
          ],
          "heatmapgl": [
           {
            "colorbar": {
             "outlinewidth": 0,
             "ticks": ""
            },
            "colorscale": [
             [
              0,
              "#0d0887"
             ],
             [
              0.1111111111111111,
              "#46039f"
             ],
             [
              0.2222222222222222,
              "#7201a8"
             ],
             [
              0.3333333333333333,
              "#9c179e"
             ],
             [
              0.4444444444444444,
              "#bd3786"
             ],
             [
              0.5555555555555556,
              "#d8576b"
             ],
             [
              0.6666666666666666,
              "#ed7953"
             ],
             [
              0.7777777777777778,
              "#fb9f3a"
             ],
             [
              0.8888888888888888,
              "#fdca26"
             ],
             [
              1,
              "#f0f921"
             ]
            ],
            "type": "heatmapgl"
           }
          ],
          "histogram": [
           {
            "marker": {
             "line": {
              "width": 1
             },
             "pattern": {
              "fillmode": "overlay",
              "size": 10,
              "solidity": 0.2
             }
            },
            "type": "histogram"
           }
          ],
          "histogram2d": [
           {
            "colorbar": {
             "outlinewidth": 0,
             "ticks": ""
            },
            "colorscale": [
             [
              0,
              "#0d0887"
             ],
             [
              0.1111111111111111,
              "#46039f"
             ],
             [
              0.2222222222222222,
              "#7201a8"
             ],
             [
              0.3333333333333333,
              "#9c179e"
             ],
             [
              0.4444444444444444,
              "#bd3786"
             ],
             [
              0.5555555555555556,
              "#d8576b"
             ],
             [
              0.6666666666666666,
              "#ed7953"
             ],
             [
              0.7777777777777778,
              "#fb9f3a"
             ],
             [
              0.8888888888888888,
              "#fdca26"
             ],
             [
              1,
              "#f0f921"
             ]
            ],
            "type": "histogram2d"
           }
          ],
          "histogram2dcontour": [
           {
            "colorbar": {
             "outlinewidth": 0,
             "ticks": ""
            },
            "colorscale": [
             [
              0,
              "#0d0887"
             ],
             [
              0.1111111111111111,
              "#46039f"
             ],
             [
              0.2222222222222222,
              "#7201a8"
             ],
             [
              0.3333333333333333,
              "#9c179e"
             ],
             [
              0.4444444444444444,
              "#bd3786"
             ],
             [
              0.5555555555555556,
              "#d8576b"
             ],
             [
              0.6666666666666666,
              "#ed7953"
             ],
             [
              0.7777777777777778,
              "#fb9f3a"
             ],
             [
              0.8888888888888888,
              "#fdca26"
             ],
             [
              1,
              "#f0f921"
             ]
            ],
            "type": "histogram2dcontour"
           }
          ],
          "mesh3d": [
           {
            "colorbar": {
             "outlinewidth": 0,
             "ticks": ""
            },
            "type": "mesh3d"
           }
          ],
          "parcoords": [
           {
            "line": {
             "colorbar": {
              "outlinewidth": 0,
              "ticks": ""
             }
            },
            "type": "parcoords"
           }
          ],
          "pie": [
           {
            "automargin": true,
            "type": "pie"
           }
          ],
          "scatter": [
           {
            "fillpattern": {
             "fillmode": "overlay",
             "size": 10,
             "solidity": 0.2
            },
            "marker": {
             "opacity": 0.8
            },
            "type": "scatter"
           }
          ],
          "scatter3d": [
           {
            "line": {
             "colorbar": {
              "outlinewidth": 0,
              "ticks": ""
             }
            },
            "marker": {
             "colorbar": {
              "outlinewidth": 0,
              "ticks": ""
             },
             "opacity": 0.8
            },
            "type": "scatter3d"
           }
          ],
          "scattercarpet": [
           {
            "marker": {
             "colorbar": {
              "outlinewidth": 0,
              "ticks": ""
             }
            },
            "type": "scattercarpet"
           }
          ],
          "scattergeo": [
           {
            "marker": {
             "colorbar": {
              "outlinewidth": 0,
              "ticks": ""
             }
            },
            "type": "scattergeo"
           }
          ],
          "scattergl": [
           {
            "marker": {
             "colorbar": {
              "outlinewidth": 0,
              "ticks": ""
             }
            },
            "type": "scattergl"
           }
          ],
          "scattermapbox": [
           {
            "marker": {
             "colorbar": {
              "outlinewidth": 0,
              "ticks": ""
             }
            },
            "type": "scattermapbox"
           }
          ],
          "scatterpolar": [
           {
            "marker": {
             "colorbar": {
              "outlinewidth": 0,
              "ticks": ""
             }
            },
            "type": "scatterpolar"
           }
          ],
          "scatterpolargl": [
           {
            "marker": {
             "colorbar": {
              "outlinewidth": 0,
              "ticks": ""
             }
            },
            "type": "scatterpolargl"
           }
          ],
          "scatterternary": [
           {
            "marker": {
             "colorbar": {
              "outlinewidth": 0,
              "ticks": ""
             }
            },
            "type": "scatterternary"
           }
          ],
          "surface": [
           {
            "colorbar": {
             "outlinewidth": 0,
             "ticks": ""
            },
            "colorscale": [
             [
              0,
              "#0d0887"
             ],
             [
              0.1111111111111111,
              "#46039f"
             ],
             [
              0.2222222222222222,
              "#7201a8"
             ],
             [
              0.3333333333333333,
              "#9c179e"
             ],
             [
              0.4444444444444444,
              "#bd3786"
             ],
             [
              0.5555555555555556,
              "#d8576b"
             ],
             [
              0.6666666666666666,
              "#ed7953"
             ],
             [
              0.7777777777777778,
              "#fb9f3a"
             ],
             [
              0.8888888888888888,
              "#fdca26"
             ],
             [
              1,
              "#f0f921"
             ]
            ],
            "type": "surface"
           }
          ],
          "table": [
           {
            "cells": {
             "fill": {
              "color": "#EBF0F8"
             },
             "line": {
              "color": "white"
             }
            },
            "header": {
             "fill": {
              "color": "#C8D4E3"
             },
             "line": {
              "color": "white"
             }
            },
            "type": "table"
           }
          ]
         },
         "layout": {
          "annotationdefaults": {
           "arrowcolor": "#2a3f5f",
           "arrowhead": 0,
           "arrowwidth": 1
          },
          "autotypenumbers": "strict",
          "coloraxis": {
           "colorbar": {
            "outlinewidth": 0,
            "ticks": ""
           }
          },
          "colorscale": {
           "diverging": [
            [
             0,
             "#8e0152"
            ],
            [
             0.1,
             "#c51b7d"
            ],
            [
             0.2,
             "#de77ae"
            ],
            [
             0.3,
             "#f1b6da"
            ],
            [
             0.4,
             "#fde0ef"
            ],
            [
             0.5,
             "#f7f7f7"
            ],
            [
             0.6,
             "#e6f5d0"
            ],
            [
             0.7,
             "#b8e186"
            ],
            [
             0.8,
             "#7fbc41"
            ],
            [
             0.9,
             "#4d9221"
            ],
            [
             1,
             "#276419"
            ]
           ],
           "sequential": [
            [
             0,
             "#0d0887"
            ],
            [
             0.1111111111111111,
             "#46039f"
            ],
            [
             0.2222222222222222,
             "#7201a8"
            ],
            [
             0.3333333333333333,
             "#9c179e"
            ],
            [
             0.4444444444444444,
             "#bd3786"
            ],
            [
             0.5555555555555556,
             "#d8576b"
            ],
            [
             0.6666666666666666,
             "#ed7953"
            ],
            [
             0.7777777777777778,
             "#fb9f3a"
            ],
            [
             0.8888888888888888,
             "#fdca26"
            ],
            [
             1,
             "#f0f921"
            ]
           ],
           "sequentialminus": [
            [
             0,
             "#0d0887"
            ],
            [
             0.1111111111111111,
             "#46039f"
            ],
            [
             0.2222222222222222,
             "#7201a8"
            ],
            [
             0.3333333333333333,
             "#9c179e"
            ],
            [
             0.4444444444444444,
             "#bd3786"
            ],
            [
             0.5555555555555556,
             "#d8576b"
            ],
            [
             0.6666666666666666,
             "#ed7953"
            ],
            [
             0.7777777777777778,
             "#fb9f3a"
            ],
            [
             0.8888888888888888,
             "#fdca26"
            ],
            [
             1,
             "#f0f921"
            ]
           ]
          },
          "colorway": [
           "#636efa",
           "#EF553B",
           "#00cc96",
           "#ab63fa",
           "#FFA15A",
           "#19d3f3",
           "#FF6692",
           "#B6E880",
           "#FF97FF",
           "#FECB52"
          ],
          "font": {
           "color": "#2a3f5f"
          },
          "geo": {
           "bgcolor": "white",
           "lakecolor": "white",
           "landcolor": "white",
           "showlakes": true,
           "showland": true,
           "subunitcolor": "#C8D4E3"
          },
          "height": 400,
          "hoverlabel": {
           "align": "left"
          },
          "hovermode": "closest",
          "mapbox": {
           "style": "light"
          },
          "margin": {
           "b": 2,
           "l": 2,
           "r": 2,
           "t": 30
          },
          "paper_bgcolor": "white",
          "plot_bgcolor": "white",
          "polar": {
           "angularaxis": {
            "gridcolor": "#EBF0F8",
            "linecolor": "#EBF0F8",
            "ticks": ""
           },
           "bgcolor": "white",
           "radialaxis": {
            "gridcolor": "#EBF0F8",
            "linecolor": "#EBF0F8",
            "ticks": ""
           }
          },
          "scene": {
           "camera": {
            "eye": {
             "x": 1.5,
             "y": 1.5,
             "z": 0.1
            }
           },
           "xaxis": {
            "backgroundcolor": "white",
            "gridcolor": "#DFE8F3",
            "gridwidth": 2,
            "linecolor": "#EBF0F8",
            "showbackground": true,
            "ticks": "",
            "zerolinecolor": "#EBF0F8"
           },
           "yaxis": {
            "backgroundcolor": "white",
            "gridcolor": "#DFE8F3",
            "gridwidth": 2,
            "linecolor": "#EBF0F8",
            "showbackground": true,
            "ticks": "",
            "zerolinecolor": "#EBF0F8"
           },
           "zaxis": {
            "backgroundcolor": "white",
            "gridcolor": "#DFE8F3",
            "gridwidth": 2,
            "linecolor": "#EBF0F8",
            "showbackground": true,
            "ticks": "",
            "zerolinecolor": "#EBF0F8"
           }
          },
          "shapedefaults": {
           "line": {
            "color": "#2a3f5f"
           }
          },
          "ternary": {
           "aaxis": {
            "gridcolor": "#DFE8F3",
            "linecolor": "#A2B1C6",
            "ticks": ""
           },
           "baxis": {
            "gridcolor": "#DFE8F3",
            "linecolor": "#A2B1C6",
            "ticks": ""
           },
           "bgcolor": "white",
           "caxis": {
            "gridcolor": "#DFE8F3",
            "linecolor": "#A2B1C6",
            "ticks": ""
           }
          },
          "title": {
           "x": 0.5
          },
          "xaxis": {
           "automargin": true,
           "gridcolor": "#EBF0F8",
           "linecolor": "#EBF0F8",
           "linewidth": 2,
           "showline": true,
           "ticks": "",
           "title": {
            "standoff": 15
           },
           "zerolinecolor": "#EBF0F8",
           "zerolinewidth": 2
          },
          "yaxis": {
           "automargin": true,
           "gridcolor": "#EBF0F8",
           "linecolor": "#EBF0F8",
           "linewidth": 2,
           "showline": true,
           "ticks": "",
           "title": {
            "standoff": 15
           },
           "zerolinecolor": "#EBF0F8",
           "zerolinewidth": 2
          }
         }
        },
        "xaxis": {
         "anchor": "y",
         "domain": [
          0,
          1
         ],
         "title": {
          "text": "weight last year"
         }
        },
        "yaxis": {
         "anchor": "x",
         "domain": [
          0,
          1
         ],
         "title": {
          "text": "rescues last year"
         }
        }
       }
      }
     },
     "metadata": {},
     "output_type": "display_data"
    }
   ],
   "source": [
    "import statsmodels.formula.api as smf\n",
    "from sklearn.metrics import mean_squared_error as mse\n",
    "\n",
    "# First, we define our formula using a special syntax\n",
    "# This says that rescues_last_year is explained by weight_last_year\n",
    "formula = \"rescues_last_year ~ weight_last_year\"\n",
    "\n",
    "# Create and train the model\n",
    "model = smf.ols(formula = formula, data = train).fit()\n",
    "\n",
    "# Graph the result against the data\n",
    "graphing.scatter_2D(train, \"weight_last_year\", \"rescues_last_year\", trendline = lambda x: model.params[1] * x + model.params[0])"
   ]
  },
  {
   "cell_type": "code",
   "execution_count": 21,
   "metadata": {},
   "outputs": [
    {
     "name": "stdout",
     "output_type": "stream",
     "text": [
      "MSE = 18.674546 \n"
     ]
    }
   ],
   "source": [
    "# we gauge the performance using mean squared error MSE\n",
    "# We use the in-buit sklearn function to calculate the MSE\n",
    "correct_labels = train['rescues_last_year']\n",
    "predicted = model.predict(train['weight_last_year'])\n",
    "\n",
    "MSE = mse(correct_labels, predicted)\n",
    "print('MSE = %f ' % MSE)"
   ]
  },
  {
   "cell_type": "code",
   "execution_count": 22,
   "metadata": {},
   "outputs": [
    {
     "data": {
      "application/vnd.plotly.v1+json": {
       "config": {
        "plotlyServerURL": "https://plot.ly"
       },
       "data": [
        {
         "hovertemplate": "weight last year=%{x}<br>rescues last year=%{y}<extra></extra>",
         "legendgroup": "",
         "marker": {
          "color": "#636efa",
          "size": 19,
          "symbol": "circle"
         },
         "mode": "markers",
         "name": "",
         "orientation": "v",
         "showlegend": false,
         "type": "scatter",
         "x": [
          17.1,
          15.4,
          20,
          22.2,
          18.3,
          17.7,
          20.6,
          22.5,
          19.6,
          17.1,
          21.6,
          21.1,
          19.1,
          17.8,
          28.5
         ],
         "xaxis": "x",
         "y": [
          37,
          25,
          26,
          32,
          32,
          34,
          40,
          28,
          35,
          30,
          44,
          35,
          34,
          32,
          34
         ],
         "yaxis": "y"
        }
       ],
       "layout": {
        "legend": {
         "tracegroupgap": 0
        },
        "shapes": [
         {
          "line": {
           "color": "rgb(228,26,28)"
          },
          "path": "M15.4 31.395175036469208 L 15.465829145728643 31.44025289479746 L 15.531658291457287 31.485330753125716 L 15.59748743718593 31.53040861145397 L 15.663316582914574 31.575486469782227 L 15.729145728643216 31.620564328110483 L 15.79497487437186 31.66564218643874 L 15.860804020100502 31.710720044766994 L 15.926633165829147 31.75579790309525 L 15.992462311557789 31.800875761423505 L 16.058291457286433 31.84595361975176 L 16.124120603015076 31.891031478080016 L 16.189949748743718 31.936109336408272 L 16.255778894472364 31.981187194736528 L 16.321608040201006 32.02626505306478 L 16.38743718592965 32.07134291139304 L 16.45326633165829 32.116420769721294 L 16.519095477386934 32.16149862804955 L 16.58492462311558 32.206576486377806 L 16.650753768844222 32.25165434470606 L 16.716582914572864 32.29673220303432 L 16.782412060301507 32.34181006136257 L 16.848241206030153 32.38688791969083 L 16.914070351758795 32.431965778019084 L 16.979899497487438 32.47704363634734 L 17.04572864321608 32.52212149467559 L 17.111557788944722 32.56719935300384 L 17.17738693467337 32.612277211332106 L 17.24321608040201 32.65735506966036 L 17.309045226130653 32.70243292798861 L 17.374874371859296 32.747510786316866 L 17.44070351758794 32.79258864464513 L 17.506532663316584 32.83766650297338 L 17.572361809045226 32.88274436130163 L 17.63819095477387 32.92782221962989 L 17.704020100502515 32.972900077958144 L 17.769849246231157 33.0179779362864 L 17.8356783919598 33.063055794614655 L 17.901507537688442 33.10813365294291 L 17.967336683417088 33.15321151127117 L 18.03316582914573 33.19828936959942 L 18.098994974874373 33.24336722792768 L 18.164824120603015 33.28844508625593 L 18.230653266331657 33.33352294458419 L 18.296482412060303 33.378600802912445 L 18.362311557788946 33.4236786612407 L 18.428140703517588 33.468756519568956 L 18.49396984924623 33.51383437789721 L 18.559798994974877 33.55891223622547 L 18.62562814070352 33.60399009455372 L 18.69145728643216 33.64906795288198 L 18.757286432160804 33.694145811210234 L 18.823115577889446 33.73922366953849 L 18.888944723618092 33.784301527866745 L 18.954773869346734 33.829379386195 L 19.020603015075377 33.874457244523256 L 19.08643216080402 33.91953510285151 L 19.152261306532665 33.96461296117977 L 19.218090452261308 34.00969081950802 L 19.28391959798995 34.05476867783628 L 19.349748743718592 34.099846536164534 L 19.415577889447235 34.14492439449279 L 19.48140703517588 34.190002252821046 L 19.547236180904523 34.2350801111493 L 19.613065326633166 34.28015796947756 L 19.67889447236181 34.32523582780581 L 19.744723618090454 34.37031368613407 L 19.810552763819096 34.415391544462324 L 19.87638190954774 34.46046940279058 L 19.94221105527638 34.50554726111883 L 20.008040201005027 34.55062511944709 L 20.07386934673367 34.595702977775346 L 20.139698492462312 34.640780836103595 L 20.205527638190954 34.68585869443185 L 20.2713567839196 34.73093655276011 L 20.337185929648243 34.77601441108836 L 20.403015075376885 34.82109226941662 L 20.468844221105527 34.86617012774487 L 20.53467336683417 34.91124798607313 L 20.600502512562816 34.956325844401384 L 20.66633165829146 35.00140370272964 L 20.7321608040201 35.046481561057895 L 20.797989949748747 35.09155941938615 L 20.86381909547739 35.13663727771441 L 20.92964824120603 35.18171513604266 L 20.995477386934674 35.22679299437092 L 21.061306532663316 35.27187085269917 L 21.12713567839196 35.31694871102743 L 21.192964824120605 35.362026569355685 L 21.258793969849247 35.40710442768394 L 21.32462311557789 35.452182286012196 L 21.390452261306535 35.49726014434045 L 21.456281407035178 35.54233800266871 L 21.52211055276382 35.58741586099696 L 21.587939698492463 35.63249371932522 L 21.653768844221105 35.67757157765347 L 21.719597989949747 35.72264943598172 L 21.785427135678393 35.767727294309985 L 21.851256281407036 35.812805152638234 L 21.917085427135678 35.85788301096649 L 21.982914572864324 35.90296086929475 L 22.048743718592966 35.948038727623 L 22.11457286432161 35.993116585951256 L 22.18040201005025 36.03819444427951 L 22.246231155778894 36.08327230260777 L 22.31206030150754 36.12835016093602 L 22.377889447236182 36.17342801926428 L 22.443718592964824 36.218505877592534 L 22.50954773869347 36.26358373592079 L 22.575376884422113 36.308661594249045 L 22.641206030150755 36.3537394525773 L 22.707035175879398 36.39881731090556 L 22.77286432160804 36.44389516923381 L 22.838693467336682 36.48897302756207 L 22.90452261306533 36.53405088589032 L 22.97035175879397 36.57912874421858 L 23.036180904522613 36.624206602546835 L 23.10201005025126 36.66928446087509 L 23.1678391959799 36.714362319203346 L 23.233668341708544 36.7594401775316 L 23.299497487437186 36.80451803585986 L 23.36532663316583 36.84959589418811 L 23.43115577889447 36.89467375251637 L 23.496984924623117 36.939751610844624 L 23.56281407035176 36.98482946917288 L 23.628643216080405 37.029907327501135 L 23.694472361809048 37.07498518582939 L 23.76030150753769 37.12006304415765 L 23.826130653266333 37.1651409024859 L 23.891959798994975 37.21021876081416 L 23.957788944723617 37.25529661914241 L 24.02361809045226 37.30037447747067 L 24.089447236180906 37.345452335798925 L 24.155276381909548 37.39053019412718 L 24.221105527638194 37.435608052455436 L 24.286934673366837 37.48068591078369 L 24.35276381909548 37.52576376911195 L 24.41859296482412 37.5708416274402 L 24.484422110552764 37.61591948576846 L 24.550251256281406 37.660997344096714 L 24.616080402010052 37.70607520242497 L 24.681909547738694 37.751153060753225 L 24.747738693467337 37.79623091908148 L 24.813567839195983 37.841308777409736 L 24.879396984924625 37.88638663573799 L 24.945226130653268 37.93146449406625 L 25.01105527638191 37.976542352394496 L 25.076884422110552 38.02162021072275 L 25.142713567839195 38.06669806905101 L 25.20854271356784 38.11177592737926 L 25.274371859296483 38.15685378570752 L 25.34020100502513 38.20193164403578 L 25.40603015075377 38.24700950236404 L 25.471859296482414 38.292087360692285 L 25.537688442211056 38.33716521902054 L 25.6035175879397 38.3822430773488 L 25.66934673366834 38.42732093567705 L 25.735175879396984 38.4723987940053 L 25.80100502512563 38.51747665233356 L 25.866834170854272 38.56255451066182 L 25.932663316582918 38.607632368990075 L 25.99849246231156 38.65271022731833 L 26.064321608040203 38.697788085646586 L 26.130150753768845 38.74286594397484 L 26.195979899497488 38.78794380230309 L 26.26180904522613 38.833021660631346 L 26.327638190954776 38.87809951895961 L 26.39346733668342 38.92317737728786 L 26.45929648241206 38.96825523561611 L 26.525125628140707 39.013333093944375 L 26.59095477386935 39.058410952272624 L 26.65678391959799 39.10348881060088 L 26.722613065326634 39.148566668929135 L 26.788442211055276 39.19364452725739 L 26.85427135678392 39.238722385585646 L 26.920100502512565 39.2838002439139 L 26.985929648241207 39.32887810224216 L 27.051758793969853 39.37395596057041 L 27.117587939698495 39.41903381889867 L 27.183417085427138 39.464111677226924 L 27.24924623115578 39.50918953555518 L 27.315075376884423 39.554267393883435 L 27.380904522613065 39.59934525221169 L 27.446733668341707 39.64442311053995 L 27.512562814070353 39.6895009688682 L 27.578391959798996 39.73457882719646 L 27.64422110552764 39.779656685524714 L 27.710050251256284 39.82473454385297 L 27.775879396984926 39.869812402181225 L 27.84170854271357 39.91489026050948 L 27.90753768844221 39.959968118837736 L 27.973366834170854 40.00504597716599 L 28.039195979899496 40.05012383549425 L 28.105025125628142 40.0952016938225 L 28.170854271356784 40.14027955215076 L 28.23668341708543 40.185357410479014 L 28.302512562814073 40.23043526880727 L 28.368341708542715 40.275513127135525 L 28.434170854271358 40.32059098546378 L 28.5 40.36566884379204",
          "type": "path"
         }
        ],
        "template": {
         "data": {
          "bar": [
           {
            "error_x": {
             "color": "#2a3f5f"
            },
            "error_y": {
             "color": "#2a3f5f"
            },
            "marker": {
             "line": {
              "color": "white",
              "width": 0.5
             },
             "pattern": {
              "fillmode": "overlay",
              "size": 10,
              "solidity": 0.2
             }
            },
            "type": "bar"
           }
          ],
          "barpolar": [
           {
            "marker": {
             "line": {
              "color": "white",
              "width": 0.5
             },
             "pattern": {
              "fillmode": "overlay",
              "size": 10,
              "solidity": 0.2
             }
            },
            "type": "barpolar"
           }
          ],
          "box": [
           {
            "boxpoints": "outliers",
            "notched": false,
            "type": "box"
           }
          ],
          "carpet": [
           {
            "aaxis": {
             "endlinecolor": "#2a3f5f",
             "gridcolor": "#C8D4E3",
             "linecolor": "#C8D4E3",
             "minorgridcolor": "#C8D4E3",
             "startlinecolor": "#2a3f5f"
            },
            "baxis": {
             "endlinecolor": "#2a3f5f",
             "gridcolor": "#C8D4E3",
             "linecolor": "#C8D4E3",
             "minorgridcolor": "#C8D4E3",
             "startlinecolor": "#2a3f5f"
            },
            "type": "carpet"
           }
          ],
          "choropleth": [
           {
            "colorbar": {
             "outlinewidth": 0,
             "ticks": ""
            },
            "type": "choropleth"
           }
          ],
          "contour": [
           {
            "colorbar": {
             "outlinewidth": 0,
             "ticks": ""
            },
            "colorscale": [
             [
              0,
              "#0d0887"
             ],
             [
              0.1111111111111111,
              "#46039f"
             ],
             [
              0.2222222222222222,
              "#7201a8"
             ],
             [
              0.3333333333333333,
              "#9c179e"
             ],
             [
              0.4444444444444444,
              "#bd3786"
             ],
             [
              0.5555555555555556,
              "#d8576b"
             ],
             [
              0.6666666666666666,
              "#ed7953"
             ],
             [
              0.7777777777777778,
              "#fb9f3a"
             ],
             [
              0.8888888888888888,
              "#fdca26"
             ],
             [
              1,
              "#f0f921"
             ]
            ],
            "type": "contour"
           }
          ],
          "contourcarpet": [
           {
            "colorbar": {
             "outlinewidth": 0,
             "ticks": ""
            },
            "type": "contourcarpet"
           }
          ],
          "heatmap": [
           {
            "colorbar": {
             "outlinewidth": 0,
             "ticks": ""
            },
            "colorscale": [
             [
              0,
              "#0d0887"
             ],
             [
              0.1111111111111111,
              "#46039f"
             ],
             [
              0.2222222222222222,
              "#7201a8"
             ],
             [
              0.3333333333333333,
              "#9c179e"
             ],
             [
              0.4444444444444444,
              "#bd3786"
             ],
             [
              0.5555555555555556,
              "#d8576b"
             ],
             [
              0.6666666666666666,
              "#ed7953"
             ],
             [
              0.7777777777777778,
              "#fb9f3a"
             ],
             [
              0.8888888888888888,
              "#fdca26"
             ],
             [
              1,
              "#f0f921"
             ]
            ],
            "type": "heatmap"
           }
          ],
          "heatmapgl": [
           {
            "colorbar": {
             "outlinewidth": 0,
             "ticks": ""
            },
            "colorscale": [
             [
              0,
              "#0d0887"
             ],
             [
              0.1111111111111111,
              "#46039f"
             ],
             [
              0.2222222222222222,
              "#7201a8"
             ],
             [
              0.3333333333333333,
              "#9c179e"
             ],
             [
              0.4444444444444444,
              "#bd3786"
             ],
             [
              0.5555555555555556,
              "#d8576b"
             ],
             [
              0.6666666666666666,
              "#ed7953"
             ],
             [
              0.7777777777777778,
              "#fb9f3a"
             ],
             [
              0.8888888888888888,
              "#fdca26"
             ],
             [
              1,
              "#f0f921"
             ]
            ],
            "type": "heatmapgl"
           }
          ],
          "histogram": [
           {
            "marker": {
             "line": {
              "width": 1
             },
             "pattern": {
              "fillmode": "overlay",
              "size": 10,
              "solidity": 0.2
             }
            },
            "type": "histogram"
           }
          ],
          "histogram2d": [
           {
            "colorbar": {
             "outlinewidth": 0,
             "ticks": ""
            },
            "colorscale": [
             [
              0,
              "#0d0887"
             ],
             [
              0.1111111111111111,
              "#46039f"
             ],
             [
              0.2222222222222222,
              "#7201a8"
             ],
             [
              0.3333333333333333,
              "#9c179e"
             ],
             [
              0.4444444444444444,
              "#bd3786"
             ],
             [
              0.5555555555555556,
              "#d8576b"
             ],
             [
              0.6666666666666666,
              "#ed7953"
             ],
             [
              0.7777777777777778,
              "#fb9f3a"
             ],
             [
              0.8888888888888888,
              "#fdca26"
             ],
             [
              1,
              "#f0f921"
             ]
            ],
            "type": "histogram2d"
           }
          ],
          "histogram2dcontour": [
           {
            "colorbar": {
             "outlinewidth": 0,
             "ticks": ""
            },
            "colorscale": [
             [
              0,
              "#0d0887"
             ],
             [
              0.1111111111111111,
              "#46039f"
             ],
             [
              0.2222222222222222,
              "#7201a8"
             ],
             [
              0.3333333333333333,
              "#9c179e"
             ],
             [
              0.4444444444444444,
              "#bd3786"
             ],
             [
              0.5555555555555556,
              "#d8576b"
             ],
             [
              0.6666666666666666,
              "#ed7953"
             ],
             [
              0.7777777777777778,
              "#fb9f3a"
             ],
             [
              0.8888888888888888,
              "#fdca26"
             ],
             [
              1,
              "#f0f921"
             ]
            ],
            "type": "histogram2dcontour"
           }
          ],
          "mesh3d": [
           {
            "colorbar": {
             "outlinewidth": 0,
             "ticks": ""
            },
            "type": "mesh3d"
           }
          ],
          "parcoords": [
           {
            "line": {
             "colorbar": {
              "outlinewidth": 0,
              "ticks": ""
             }
            },
            "type": "parcoords"
           }
          ],
          "pie": [
           {
            "automargin": true,
            "type": "pie"
           }
          ],
          "scatter": [
           {
            "fillpattern": {
             "fillmode": "overlay",
             "size": 10,
             "solidity": 0.2
            },
            "marker": {
             "opacity": 0.8
            },
            "type": "scatter"
           }
          ],
          "scatter3d": [
           {
            "line": {
             "colorbar": {
              "outlinewidth": 0,
              "ticks": ""
             }
            },
            "marker": {
             "colorbar": {
              "outlinewidth": 0,
              "ticks": ""
             },
             "opacity": 0.8
            },
            "type": "scatter3d"
           }
          ],
          "scattercarpet": [
           {
            "marker": {
             "colorbar": {
              "outlinewidth": 0,
              "ticks": ""
             }
            },
            "type": "scattercarpet"
           }
          ],
          "scattergeo": [
           {
            "marker": {
             "colorbar": {
              "outlinewidth": 0,
              "ticks": ""
             }
            },
            "type": "scattergeo"
           }
          ],
          "scattergl": [
           {
            "marker": {
             "colorbar": {
              "outlinewidth": 0,
              "ticks": ""
             }
            },
            "type": "scattergl"
           }
          ],
          "scattermapbox": [
           {
            "marker": {
             "colorbar": {
              "outlinewidth": 0,
              "ticks": ""
             }
            },
            "type": "scattermapbox"
           }
          ],
          "scatterpolar": [
           {
            "marker": {
             "colorbar": {
              "outlinewidth": 0,
              "ticks": ""
             }
            },
            "type": "scatterpolar"
           }
          ],
          "scatterpolargl": [
           {
            "marker": {
             "colorbar": {
              "outlinewidth": 0,
              "ticks": ""
             }
            },
            "type": "scatterpolargl"
           }
          ],
          "scatterternary": [
           {
            "marker": {
             "colorbar": {
              "outlinewidth": 0,
              "ticks": ""
             }
            },
            "type": "scatterternary"
           }
          ],
          "surface": [
           {
            "colorbar": {
             "outlinewidth": 0,
             "ticks": ""
            },
            "colorscale": [
             [
              0,
              "#0d0887"
             ],
             [
              0.1111111111111111,
              "#46039f"
             ],
             [
              0.2222222222222222,
              "#7201a8"
             ],
             [
              0.3333333333333333,
              "#9c179e"
             ],
             [
              0.4444444444444444,
              "#bd3786"
             ],
             [
              0.5555555555555556,
              "#d8576b"
             ],
             [
              0.6666666666666666,
              "#ed7953"
             ],
             [
              0.7777777777777778,
              "#fb9f3a"
             ],
             [
              0.8888888888888888,
              "#fdca26"
             ],
             [
              1,
              "#f0f921"
             ]
            ],
            "type": "surface"
           }
          ],
          "table": [
           {
            "cells": {
             "fill": {
              "color": "#EBF0F8"
             },
             "line": {
              "color": "white"
             }
            },
            "header": {
             "fill": {
              "color": "#C8D4E3"
             },
             "line": {
              "color": "white"
             }
            },
            "type": "table"
           }
          ]
         },
         "layout": {
          "annotationdefaults": {
           "arrowcolor": "#2a3f5f",
           "arrowhead": 0,
           "arrowwidth": 1
          },
          "autotypenumbers": "strict",
          "coloraxis": {
           "colorbar": {
            "outlinewidth": 0,
            "ticks": ""
           }
          },
          "colorscale": {
           "diverging": [
            [
             0,
             "#8e0152"
            ],
            [
             0.1,
             "#c51b7d"
            ],
            [
             0.2,
             "#de77ae"
            ],
            [
             0.3,
             "#f1b6da"
            ],
            [
             0.4,
             "#fde0ef"
            ],
            [
             0.5,
             "#f7f7f7"
            ],
            [
             0.6,
             "#e6f5d0"
            ],
            [
             0.7,
             "#b8e186"
            ],
            [
             0.8,
             "#7fbc41"
            ],
            [
             0.9,
             "#4d9221"
            ],
            [
             1,
             "#276419"
            ]
           ],
           "sequential": [
            [
             0,
             "#0d0887"
            ],
            [
             0.1111111111111111,
             "#46039f"
            ],
            [
             0.2222222222222222,
             "#7201a8"
            ],
            [
             0.3333333333333333,
             "#9c179e"
            ],
            [
             0.4444444444444444,
             "#bd3786"
            ],
            [
             0.5555555555555556,
             "#d8576b"
            ],
            [
             0.6666666666666666,
             "#ed7953"
            ],
            [
             0.7777777777777778,
             "#fb9f3a"
            ],
            [
             0.8888888888888888,
             "#fdca26"
            ],
            [
             1,
             "#f0f921"
            ]
           ],
           "sequentialminus": [
            [
             0,
             "#0d0887"
            ],
            [
             0.1111111111111111,
             "#46039f"
            ],
            [
             0.2222222222222222,
             "#7201a8"
            ],
            [
             0.3333333333333333,
             "#9c179e"
            ],
            [
             0.4444444444444444,
             "#bd3786"
            ],
            [
             0.5555555555555556,
             "#d8576b"
            ],
            [
             0.6666666666666666,
             "#ed7953"
            ],
            [
             0.7777777777777778,
             "#fb9f3a"
            ],
            [
             0.8888888888888888,
             "#fdca26"
            ],
            [
             1,
             "#f0f921"
            ]
           ]
          },
          "colorway": [
           "#636efa",
           "#EF553B",
           "#00cc96",
           "#ab63fa",
           "#FFA15A",
           "#19d3f3",
           "#FF6692",
           "#B6E880",
           "#FF97FF",
           "#FECB52"
          ],
          "font": {
           "color": "#2a3f5f"
          },
          "geo": {
           "bgcolor": "white",
           "lakecolor": "white",
           "landcolor": "white",
           "showlakes": true,
           "showland": true,
           "subunitcolor": "#C8D4E3"
          },
          "height": 400,
          "hoverlabel": {
           "align": "left"
          },
          "hovermode": "closest",
          "mapbox": {
           "style": "light"
          },
          "margin": {
           "b": 2,
           "l": 2,
           "r": 2,
           "t": 30
          },
          "paper_bgcolor": "white",
          "plot_bgcolor": "white",
          "polar": {
           "angularaxis": {
            "gridcolor": "#EBF0F8",
            "linecolor": "#EBF0F8",
            "ticks": ""
           },
           "bgcolor": "white",
           "radialaxis": {
            "gridcolor": "#EBF0F8",
            "linecolor": "#EBF0F8",
            "ticks": ""
           }
          },
          "scene": {
           "camera": {
            "eye": {
             "x": 1.5,
             "y": 1.5,
             "z": 0.1
            }
           },
           "xaxis": {
            "backgroundcolor": "white",
            "gridcolor": "#DFE8F3",
            "gridwidth": 2,
            "linecolor": "#EBF0F8",
            "showbackground": true,
            "ticks": "",
            "zerolinecolor": "#EBF0F8"
           },
           "yaxis": {
            "backgroundcolor": "white",
            "gridcolor": "#DFE8F3",
            "gridwidth": 2,
            "linecolor": "#EBF0F8",
            "showbackground": true,
            "ticks": "",
            "zerolinecolor": "#EBF0F8"
           },
           "zaxis": {
            "backgroundcolor": "white",
            "gridcolor": "#DFE8F3",
            "gridwidth": 2,
            "linecolor": "#EBF0F8",
            "showbackground": true,
            "ticks": "",
            "zerolinecolor": "#EBF0F8"
           }
          },
          "shapedefaults": {
           "line": {
            "color": "#2a3f5f"
           }
          },
          "ternary": {
           "aaxis": {
            "gridcolor": "#DFE8F3",
            "linecolor": "#A2B1C6",
            "ticks": ""
           },
           "baxis": {
            "gridcolor": "#DFE8F3",
            "linecolor": "#A2B1C6",
            "ticks": ""
           },
           "bgcolor": "white",
           "caxis": {
            "gridcolor": "#DFE8F3",
            "linecolor": "#A2B1C6",
            "ticks": ""
           }
          },
          "title": {
           "x": 0.5
          },
          "xaxis": {
           "automargin": true,
           "gridcolor": "#EBF0F8",
           "linecolor": "#EBF0F8",
           "linewidth": 2,
           "showline": true,
           "ticks": "",
           "title": {
            "standoff": 15
           },
           "zerolinecolor": "#EBF0F8",
           "zerolinewidth": 2
          },
          "yaxis": {
           "automargin": true,
           "gridcolor": "#EBF0F8",
           "linecolor": "#EBF0F8",
           "linewidth": 2,
           "showline": true,
           "ticks": "",
           "title": {
            "standoff": 15
           },
           "zerolinecolor": "#EBF0F8",
           "zerolinewidth": 2
          }
         }
        },
        "xaxis": {
         "anchor": "y",
         "domain": [
          0,
          1
         ],
         "title": {
          "text": "weight last year"
         }
        },
        "yaxis": {
         "anchor": "x",
         "domain": [
          0,
          1
         ],
         "title": {
          "text": "rescues last year"
         }
        }
       }
      }
     },
     "metadata": {},
     "output_type": "display_data"
    }
   ],
   "source": [
    "# lets loook at the model on test set\n",
    "graphing.scatter_2D(test, \"weight_last_year\", \"rescues_last_year\", trendline = lambda x: model.params[1] * x + model.params[0])"
   ]
  },
  {
   "cell_type": "code",
   "execution_count": 24,
   "metadata": {},
   "outputs": [
    {
     "name": "stdout",
     "output_type": "stream",
     "text": [
      "MSE = 24.352949 \n"
     ]
    }
   ],
   "source": [
    "correct_labels = test['rescues_last_year']\n",
    "predicted = model.predict(test['weight_last_year'])\n",
    "\n",
    "MSE = mse(correct_labels, predicted)\n",
    "print('MSE = %f ' % MSE)"
   ]
  }
 ],
 "metadata": {
  "kernelspec": {
   "display_name": "Python 3",
   "language": "python",
   "name": "python3"
  },
  "language_info": {
   "codemirror_mode": {
    "name": "ipython",
    "version": 3
   },
   "file_extension": ".py",
   "mimetype": "text/x-python",
   "name": "python",
   "nbconvert_exporter": "python",
   "pygments_lexer": "ipython3",
   "version": "3.10.11"
  },
  "orig_nbformat": 4
 },
 "nbformat": 4,
 "nbformat_minor": 2
}
