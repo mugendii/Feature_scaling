{
 "cells": [
  {
   "cell_type": "code",
   "execution_count": null,
   "metadata": {},
   "outputs": [],
   "source": [
    "import pandas as pd\n",
    "import numpy as np\n",
    "import matplotlib.pyplot as plt"
   ]
  },
  {
   "cell_type": "code",
   "execution_count": null,
   "metadata": {},
   "outputs": [],
   "source": []
  },
  {
   "cell_type": "code",
   "execution_count": 7,
   "metadata": {},
   "outputs": [],
   "source": [
    "import sys\n",
    "sys.path.insert(1,'C:/Users/User/Desktop/Dog Training/graphing.py')\n",
    "sys.path.insert(1,'C:/Users/User/Desktop/Dog Training/m1b_gradient_descent.py')"
   ]
  },
  {
   "cell_type": "code",
   "execution_count": 5,
   "metadata": {},
   "outputs": [
    {
     "data": {
      "text/html": [
       "<div>\n",
       "<style scoped>\n",
       "    .dataframe tbody tr th:only-of-type {\n",
       "        vertical-align: middle;\n",
       "    }\n",
       "\n",
       "    .dataframe tbody tr th {\n",
       "        vertical-align: top;\n",
       "    }\n",
       "\n",
       "    .dataframe thead th {\n",
       "        text-align: right;\n",
       "    }\n",
       "</style>\n",
       "<table border=\"1\" class=\"dataframe\">\n",
       "  <thead>\n",
       "    <tr style=\"text-align: right;\">\n",
       "      <th></th>\n",
       "      <th>month_old_when_trained</th>\n",
       "      <th>mean_rescues_per_year</th>\n",
       "      <th>age_last_year</th>\n",
       "      <th>weight_last_year</th>\n",
       "      <th>rescues_last_year</th>\n",
       "    </tr>\n",
       "  </thead>\n",
       "  <tbody>\n",
       "    <tr>\n",
       "      <th>0</th>\n",
       "      <td>68</td>\n",
       "      <td>21.1</td>\n",
       "      <td>9</td>\n",
       "      <td>14.5</td>\n",
       "      <td>35</td>\n",
       "    </tr>\n",
       "    <tr>\n",
       "      <th>1</th>\n",
       "      <td>53</td>\n",
       "      <td>14.9</td>\n",
       "      <td>5</td>\n",
       "      <td>14.0</td>\n",
       "      <td>30</td>\n",
       "    </tr>\n",
       "    <tr>\n",
       "      <th>2</th>\n",
       "      <td>41</td>\n",
       "      <td>20.5</td>\n",
       "      <td>6</td>\n",
       "      <td>17.7</td>\n",
       "      <td>34</td>\n",
       "    </tr>\n",
       "    <tr>\n",
       "      <th>3</th>\n",
       "      <td>3</td>\n",
       "      <td>19.4</td>\n",
       "      <td>1</td>\n",
       "      <td>13.7</td>\n",
       "      <td>29</td>\n",
       "    </tr>\n",
       "    <tr>\n",
       "      <th>4</th>\n",
       "      <td>4</td>\n",
       "      <td>24.9</td>\n",
       "      <td>4</td>\n",
       "      <td>18.4</td>\n",
       "      <td>30</td>\n",
       "    </tr>\n",
       "  </tbody>\n",
       "</table>\n",
       "</div>"
      ],
      "text/plain": [
       "   month_old_when_trained  mean_rescues_per_year  age_last_year  \\\n",
       "0                      68                   21.1              9   \n",
       "1                      53                   14.9              5   \n",
       "2                      41                   20.5              6   \n",
       "3                       3                   19.4              1   \n",
       "4                       4                   24.9              4   \n",
       "\n",
       "   weight_last_year  rescues_last_year  \n",
       "0              14.5                 35  \n",
       "1              14.0                 30  \n",
       "2              17.7                 34  \n",
       "3              13.7                 29  \n",
       "4              18.4                 30  "
      ]
     },
     "execution_count": 5,
     "metadata": {},
     "output_type": "execute_result"
    }
   ],
   "source": [
    "import pandas\n",
    "url =  \"https://raw.githubusercontent.com/MicrosoftDocs/mslearn-introduction-to-machine-learning/main/Data/dog-training.csv\"\n",
    "data = pandas.read_csv(url, delimiter=\"\\t\")\n",
    "data.head()"
   ]
  },
  {
   "cell_type": "markdown",
   "metadata": {},
   "source": [
    "we have variables expressed in different units, such as month_old_when_trained in months, age_last_year in years, and weight_last_year in kilograms.\n",
    "\n",
    "Having features in widely different ranges and units is a good indicator that a model can benefit from feature scaling.\n",
    "\n",
    "First, let's train our model using the dataset \"as is:\""
   ]
  },
  {
   "cell_type": "code",
   "execution_count": 15,
   "metadata": {},
   "outputs": [
    {
     "name": "stdout",
     "output_type": "stream",
     "text": [
      "Iteration 0  Current estimate: y = 0.6551939999999999 * x + 0.01989 Cost: 285.7519204585047\n",
      "Iteration 100  Current estimate: y = 0.37017703051219436 * x + 0.6317811959477302 Cost: 151.3711059205156\n",
      "Iteration 200  Current estimate: y = 0.35765990734380276 * x + 1.233468946326008 Cost: 144.12794309730637\n",
      "Iteration 300  Current estimate: y = 0.3454643601625017 * x + 1.819698805170826 Cost: 137.252166173823\n",
      "Iteration 400  Current estimate: y = 0.33358212739619614 * x + 2.390867899414735 Cost: 130.7251406940121\n",
      "Iteration 500  Current estimate: y = 0.3220051597199002 * x + 2.947363153447446 Cost: 124.52917737405625\n",
      "Iteration 600  Current estimate: y = 0.3107256146029201 * x + 3.4895615512281988 Cost: 118.64748416158396\n",
      "Iteration 700  Current estimate: y = 0.29973585099612604 * x + 4.01783039166423 Cost: 113.06412072651936\n",
      "Iteration 800  Current estimate: y = 0.2890284241557118 * x + 4.532527537428349 Cost: 107.76395526023639\n",
      "Iteration 900  Current estimate: y = 0.27859608059993735 * x + 5.03400165738414 Cost: 102.73262346593542\n",
      "Iteration 1000  Current estimate: y = 0.2684317531954367 * x + 5.522592462783106 Cost: 97.95648962909934\n",
      "Iteration 1100  Current estimate: y = 0.25852855636976285 * x + 5.998630937393628 Cost: 93.42260966252485\n",
      "Iteration 1200  Current estimate: y = 0.24887978144692743 * x + 6.462439561717758 Cost: 89.11869602577409\n",
      "Iteration 1300  Current estimate: y = 0.23947889210277318 * x + 6.914332531447663 Cost: 85.0330844239732\n",
      "Iteration 1400  Current estimate: y = 0.2303195199371034 * x + 7.354615970309726 Cost: 81.15470219570629\n",
      "Iteration 1500  Current estimate: y = 0.22139546015956607 * x + 7.7835881374405105 Cost: 77.47303830433046\n",
      "Iteration 1600  Current estimate: y = 0.21270066738637206 * x + 8.201539629435041 Cost: 73.97811485138402\n",
      "Iteration 1700  Current estimate: y = 0.20422925154499919 * x + 8.608753577204295 Cost: 70.66046003488451\n",
      "Iteration 1800  Current estimate: y = 0.19597547388410835 * x + 9.005505837775218 Cost: 67.51108247922933\n",
      "Iteration 1900  Current estimate: y = 0.18793374308596855 * x + 9.392065181163254 Cost: 64.52144686712867\n",
      "Iteration 2000  Current estimate: y = 0.18009861147875597 * x + 9.768693472443973 Cost: 61.68345080752916\n",
      "Iteration 2100  Current estimate: y = 0.17246477134616384 * x + 10.135645849147087 Cost: 58.98940287683734\n",
      "Iteration 2200  Current estimate: y = 0.16502705133182075 * x + 10.49317089409308 Cost: 56.43200177393041\n",
      "Iteration 2300  Current estimate: y = 0.15778041293608433 * x + 10.841510803789433 Cost: 54.00431653246198\n",
      "Iteration 2400  Current estimate: y = 0.15071994710283232 * x + 11.180901552500751 Cost: 51.699767736833195\n",
      "Iteration 2500  Current estimate: y = 0.14384087089394534 * x + 11.51157305210364 Cost: 49.51210969092377\n",
      "Iteration 2600  Current estimate: y = 0.13713852424922274 * x + 11.83374930783484 Cost: 47.435413491255616\n",
      "Iteration 2700  Current estimate: y = 0.13060836682954005 * x + 12.147648570038065 Cost: 45.46405095871516\n",
      "Iteration 2800  Current estimate: y = 0.1242459749411091 * x + 12.453483482012256 Cost: 43.59267938528758\n",
      "Iteration 2900  Current estimate: y = 0.11804703853875538 * x + 12.75146122406156 Cost: 41.81622705446246\n",
      "Iteration 3000  Current estimate: y = 0.1120073583061843 * x + 13.041783653844513 Cost: 40.12987949607034\n",
      "Iteration 3100  Current estimate: y = 0.10612284281125836 * x + 13.324647443117522 Cost: 38.52906643829785\n",
      "Iteration 3200  Current estimate: y = 0.10038950573435822 * x + 13.600244210965243 Cost: 37.00944942151988\n",
      "Iteration 3300  Current estimate: y = 0.0948034631679476 * x + 13.86876065360826 Cost: 35.56691004037906\n",
      "Iteration 3400  Current estimate: y = 0.0893609309855168 * x + 14.130378670875809 Cost: 34.19753878224823\n",
      "Iteration 3500  Current estimate: y = 0.08405822227812025 * x + 14.385275489429269 Cost: 32.89762443182565\n",
      "Iteration 3600  Current estimate: y = 0.07889174485677009 * x + 14.633623782820067 Cost: 31.663644013147078\n",
      "Iteration 3700  Current estimate: y = 0.07385799881899743 * x + 14.875591788463032 Cost: 30.49225324175739\n",
      "Iteration 3800  Current estimate: y = 0.06895357417792916 * x + 15.111343421604744 Cost: 29.380277461164045\n",
      "Iteration 3900  Current estimate: y = 0.06417514855227718 * x + 15.341038386363806 Cost: 28.324703039010114\n",
      "Iteration 4000  Current estimate: y = 0.05951948491567278 * x + 15.564832283918504 Cost: 27.32266919964799\n",
      "Iteration 4100  Current estimate: y = 0.05498342940382368 * x + 15.782876717914935 Cost: 26.371460270979636\n",
      "Iteration 4200  Current estimate: y = 0.05056390917800589 * x + 15.995319397167195 Cost: 25.468498324550364\n",
      "Iteration 4300  Current estimate: y = 0.04625793034344588 * x + 16.202304235719033 Cost: 24.61133618895016\n",
      "Iteration 4400  Current estimate: y = 0.04206257592117959 * x + 16.403971450334883 Cost: 23.797650817587442\n",
      "Iteration 4500  Current estimate: y = 0.03797500387201801 * x + 16.600457655486228 Cost: 23.025236992860947\n",
      "Iteration 4600  Current estimate: y = 0.03399244517127737 * x + 16.791895955897715 Cost: 22.292001349667036\n",
      "Iteration 4700  Current estimate: y = 0.03011220193297242 * x + 16.97841603671564 Cost: 21.595956702045257\n",
      "Iteration 4800  Current estimate: y = 0.026331645582198727 * x + 17.160144251360002 Cost: 20.935216657586064\n",
      "Iteration 4900  Current estimate: y = 0.022648215074472025 * x + 17.337203707119407 Cost: 20.307990505005847\n",
      "Iteration 5000  Current estimate: y = 0.019059415160809598 * x + 17.50971434854716 Cost: 19.712578361032318\n",
      "Iteration 5100  Current estimate: y = 0.015562814697386552 * x + 17.677793038714672 Cost: 19.147366563448994\n",
      "Iteration 5200  Current estimate: y = 0.01215604499861769 * x + 17.841553638377494 Cost: 18.610823297812168\n",
      "Iteration 5300  Current estimate: y = 0.008836798232548777 * x + 18.001107083107485 Cost: 18.101494445988557\n",
      "Iteration 5400  Current estimate: y = 0.005602825857475188 * x + 18.156561458443285 Cost: 17.61799964526266\n",
      "Iteration 5500  Current estimate: y = 0.002451937098720467 * x + 18.308022073110305 Cost: 17.159028547332532\n",
      "Iteration 5600  Current estimate: y = -0.0006180025354489446 * x + 18.455591530359474 Cost: 16.723337267056227\n",
      "Iteration 5700  Current estimate: y = -0.0036090726997821156 * x + 18.599369797473273 Cost: 16.309745011324004\n",
      "Iteration 5800  Current estimate: y = -0.006523299620854942 * x + 18.7394542734861 Cost: 15.91713087892002\n",
      "Iteration 5900  Current estimate: y = -0.009362657469686548 * x + 18.875939855164848 Cost: 15.544430822700528\n",
      "Iteration 6000  Current estimate: y = -0.012129069699092871 * x + 19.00891900129435 Cost: 15.190634765855933\n",
      "Iteration 6100  Current estimate: y = -0.014824410346682842 * x + 19.138481795311336 Cost: 14.854783864440767\n",
      "Iteration 6200  Current estimate: y = -0.01745050530437757 * x + 19.26471600632918 Cost: 14.535967908753351\n",
      "Iteration 6300  Current estimate: y = -0.020009133555317988 * x + 19.387707148595023 Cost: 14.233322856521475\n",
      "Iteration 6400  Current estimate: y = -0.0225020283789903 * x + 19.507538539419137 Cost: 13.946028491209917\n",
      "Iteration 6500  Current estimate: y = -0.024930878525395363 * x + 19.624291355616297 Cost: 13.673306199102067\n",
      "Iteration 6600  Current estimate: y = -0.027297329359049917 * x + 19.738044688496974 Cost: 13.414416859132203\n",
      "Iteration 6700  Current estimate: y = -0.029602983973597438 * x + 19.848875597445733 Cost: 13.16865883974921\n",
      "Iteration 6800  Current estimate: y = -0.031849404277785875 * x + 19.95685916212332 Cost: 12.935366097382541\n",
      "Iteration 6900  Current estimate: y = -0.034038112053542804 * x + 20.06206853332741 Cost: 12.713906371357744\n",
      "Iteration 7000  Current estimate: y = -0.03617058998686888 * x + 20.16457498254686 Cost: 12.503679470368743\n",
      "Iteration 7100  Current estimate: y = -0.03824828267224864 * x + 20.264447950242857 Cost: 12.304115645863241\n",
      "Iteration 7200  Current estimate: y = -0.04027259759125314 * x + 20.36175509288956 Cost: 12.114674047933109\n",
      "Iteration 7300  Current estimate: y = -0.04224490606600518 * x + 20.45656232880638 Cost: 11.934841259524408\n",
      "Iteration 7400  Current estimate: y = -0.04416654418814607 * x + 20.548933882812644 Cost: 11.764129904995157\n",
      "Iteration 7500  Current estimate: y = -0.04603881372394046 * x + 20.63893232973523 Cost: 11.602077329249084\n",
      "Iteration 7600  Current estimate: y = -0.04786298299612151 * x + 20.72661863679814 Cost: 11.448244343866628\n",
      "Iteration 7700  Current estimate: y = -0.049640287743089706 * x + 20.81205220492347 Cost: 11.302214036833613\n",
      "Iteration 7800  Current estimate: y = -0.0513719319560293 * x + 20.89529090897092 Cost: 11.163590642643264\n",
      "Iteration 7900  Current estimate: y = -0.053059088694525074 * x + 20.976391136943796 Cost: 11.031998469708142\n",
      "Maximum number of iterations reached. Stopping training\n"
     ]
    }
   ],
   "source": [
    "from m1b_gradient_descent import gradient_descent\n",
    "import numpy\n",
    "import graphing\n",
    "\n",
    "# Train model using Gradient Descent\n",
    "# This method uses custom code that will print out progress as training advances.\n",
    "# You don't need to inspect how this works for these exercises, but if you are\n",
    "# curious, you can find it in out GitHub repository\n",
    "model = gradient_descent(data.month_old_when_trained, data.mean_rescues_per_year, learning_rate=5E-4, number_of_iterations=8000)"
   ]
  },
  {
   "cell_type": "markdown",
   "metadata": {},
   "source": [
    "Training Analysis\n",
    "In the preceding output, we're printing an estimate of weights and the calculated cost at each iteration.\n",
    "\n",
    "The final line in the output shows that the model stopped training because it reached its maximum allowed number of iterations, but the cost could still be lower if we had let it run longer."
   ]
  },
  {
   "cell_type": "code",
   "execution_count": 16,
   "metadata": {},
   "outputs": [
    {
     "ename": "ValueError",
     "evalue": "Mime type rendering requires nbformat>=4.2.0 but it is not installed",
     "output_type": "error",
     "traceback": [
      "\u001b[1;31m---------------------------------------------------------------------------\u001b[0m",
      "\u001b[1;31mValueError\u001b[0m                                Traceback (most recent call last)",
      "File \u001b[1;32m~\\AppData\\Local\\Packages\\PythonSoftwareFoundation.Python.3.10_qbz5n2kfra8p0\\LocalCache\\local-packages\\Python310\\site-packages\\IPython\\core\\formatters.py:921\u001b[0m, in \u001b[0;36mIPythonDisplayFormatter.__call__\u001b[1;34m(self, obj)\u001b[0m\n\u001b[0;32m    919\u001b[0m method \u001b[39m=\u001b[39m get_real_method(obj, \u001b[39mself\u001b[39m\u001b[39m.\u001b[39mprint_method)\n\u001b[0;32m    920\u001b[0m \u001b[39mif\u001b[39;00m method \u001b[39mis\u001b[39;00m \u001b[39mnot\u001b[39;00m \u001b[39mNone\u001b[39;00m:\n\u001b[1;32m--> 921\u001b[0m     method()\n\u001b[0;32m    922\u001b[0m     \u001b[39mreturn\u001b[39;00m \u001b[39mTrue\u001b[39;00m\n",
      "File \u001b[1;32m~\\AppData\\Local\\Packages\\PythonSoftwareFoundation.Python.3.10_qbz5n2kfra8p0\\LocalCache\\local-packages\\Python310\\site-packages\\plotly\\basedatatypes.py:834\u001b[0m, in \u001b[0;36mBaseFigure._ipython_display_\u001b[1;34m(self)\u001b[0m\n\u001b[0;32m    831\u001b[0m \u001b[39mimport\u001b[39;00m \u001b[39mplotly\u001b[39;00m\u001b[39m.\u001b[39;00m\u001b[39mio\u001b[39;00m \u001b[39mas\u001b[39;00m \u001b[39mpio\u001b[39;00m\n\u001b[0;32m    833\u001b[0m \u001b[39mif\u001b[39;00m pio\u001b[39m.\u001b[39mrenderers\u001b[39m.\u001b[39mrender_on_display \u001b[39mand\u001b[39;00m pio\u001b[39m.\u001b[39mrenderers\u001b[39m.\u001b[39mdefault:\n\u001b[1;32m--> 834\u001b[0m     pio\u001b[39m.\u001b[39;49mshow(\u001b[39mself\u001b[39;49m)\n\u001b[0;32m    835\u001b[0m \u001b[39melse\u001b[39;00m:\n\u001b[0;32m    836\u001b[0m     \u001b[39mprint\u001b[39m(\u001b[39mrepr\u001b[39m(\u001b[39mself\u001b[39m))\n",
      "File \u001b[1;32m~\\AppData\\Local\\Packages\\PythonSoftwareFoundation.Python.3.10_qbz5n2kfra8p0\\LocalCache\\local-packages\\Python310\\site-packages\\plotly\\io\\_renderers.py:396\u001b[0m, in \u001b[0;36mshow\u001b[1;34m(fig, renderer, validate, **kwargs)\u001b[0m\n\u001b[0;32m    391\u001b[0m         \u001b[39mraise\u001b[39;00m \u001b[39mValueError\u001b[39;00m(\n\u001b[0;32m    392\u001b[0m             \u001b[39m\"\u001b[39m\u001b[39mMime type rendering requires ipython but it is not installed\u001b[39m\u001b[39m\"\u001b[39m\n\u001b[0;32m    393\u001b[0m         )\n\u001b[0;32m    395\u001b[0m     \u001b[39mif\u001b[39;00m \u001b[39mnot\u001b[39;00m nbformat \u001b[39mor\u001b[39;00m Version(nbformat\u001b[39m.\u001b[39m__version__) \u001b[39m<\u001b[39m Version(\u001b[39m\"\u001b[39m\u001b[39m4.2.0\u001b[39m\u001b[39m\"\u001b[39m):\n\u001b[1;32m--> 396\u001b[0m         \u001b[39mraise\u001b[39;00m \u001b[39mValueError\u001b[39;00m(\n\u001b[0;32m    397\u001b[0m             \u001b[39m\"\u001b[39m\u001b[39mMime type rendering requires nbformat>=4.2.0 but it is not installed\u001b[39m\u001b[39m\"\u001b[39m\n\u001b[0;32m    398\u001b[0m         )\n\u001b[0;32m    400\u001b[0m     ipython_display\u001b[39m.\u001b[39mdisplay(bundle, raw\u001b[39m=\u001b[39m\u001b[39mTrue\u001b[39;00m)\n\u001b[0;32m    402\u001b[0m \u001b[39m# external renderers\u001b[39;00m\n",
      "\u001b[1;31mValueError\u001b[0m: Mime type rendering requires nbformat>=4.2.0 but it is not installed"
     ]
    },
    {
     "data": {
      "application/vnd.plotly.v1+json": {
       "config": {
        "plotlyServerURL": "https://plot.ly"
       },
       "data": [
        {
         "hovertemplate": "month old when trained=%{x}<br>mean rescues per year=%{y}<extra></extra>",
         "legendgroup": "",
         "marker": {
          "color": "#636efa",
          "size": 19,
          "symbol": "circle"
         },
         "mode": "markers",
         "name": "",
         "orientation": "v",
         "showlegend": false,
         "type": "scatter",
         "x": [
          68,
          53,
          41,
          3,
          4,
          50,
          12,
          63,
          43,
          36,
          36,
          14,
          26,
          50,
          51,
          35,
          38,
          52,
          58,
          9,
          23,
          34,
          26,
          29,
          57,
          6,
          1,
          68,
          18,
          9,
          71,
          18,
          70,
          55,
          35,
          47,
          21,
          20,
          7,
          17,
          71,
          65,
          62,
          44,
          61,
          23,
          29,
          7,
          19,
          23
         ],
         "xaxis": "x",
         "y": [
          21.1,
          14.9,
          20.5,
          19.4,
          24.9,
          12.9,
          21.1,
          16.6,
          15.3,
          19.6,
          20.2,
          24.2,
          21.8,
          20,
          23.8,
          19.8,
          18.3,
          19.2,
          17.9,
          21.5,
          20.9,
          19.3,
          19.5,
          19.3,
          14.1,
          24,
          32.4,
          17.7,
          24.5,
          21.1,
          15.4,
          23,
          16.8,
          13.4,
          21.7,
          15.8,
          14.9,
          15.9,
          23.7,
          25.4,
          15.3,
          16.5,
          21.2,
          16.7,
          16.7,
          23.6,
          24.3,
          21.8,
          25.9,
          20.7
         ],
         "yaxis": "y"
        }
       ],
       "layout": {
        "legend": {
         "tracegroupgap": 0
        },
        "shapes": [
         {
          "line": {
           "color": "rgb(228,26,28)"
          },
          "path": "M1.0 20.999941124236486 L 1.3517587939698492 20.980704605872578 L 1.7035175879396984 20.961468087508667 L 2.0552763819095476 20.942231569144756 L 2.407035175879397 20.922995050780845 L 2.758793969849246 20.903758532416937 L 3.1105527638190957 20.884522014053026 L 3.462311557788945 20.865285495689115 L 3.814070351758794 20.846048977325207 L 4.165829145728644 20.826812458961296 L 4.517587939698492 20.807575940597385 L 4.869346733668342 20.788339422233474 L 5.2211055276381915 20.769102903869566 L 5.572864321608041 20.749866385505655 L 5.92462311557789 20.730629867141744 L 6.276381909547739 20.711393348777836 L 6.628140703517588 20.692156830413925 L 6.9798994974874375 20.672920312050014 L 7.331658291457287 20.653683793686103 L 7.683417085427136 20.634447275322195 L 8.035175879396984 20.615210756958284 L 8.386934673366834 20.595974238594373 L 8.738693467336685 20.57673772023046 L 9.090452261306533 20.557501201866554 L 9.442211055276383 20.538264683502643 L 9.793969849246231 20.51902816513873 L 10.145728643216081 20.499791646774824 L 10.49748743718593 20.480555128410913 L 10.84924623115578 20.461318610047 L 11.201005025125628 20.44208209168309 L 11.552763819095478 20.422845573319183 L 11.904522613065327 20.40360905495527 L 12.256281407035177 20.38437253659136 L 12.608040201005027 20.365136018227453 L 12.959798994974875 20.345899499863542 L 13.311557788944725 20.32666298149963 L 13.663316582914574 20.30742646313572 L 14.015075376884424 20.288189944771812 L 14.366834170854272 20.2689534264079 L 14.718592964824122 20.24971690804399 L 15.07035175879397 20.230480389680082 L 15.42211055276382 20.21124387131617 L 15.773869346733669 20.19200735295226 L 16.12562814070352 20.17277083458835 L 16.47738693467337 20.15353431622444 L 16.82914572864322 20.13429779786053 L 17.180904522613066 20.11506127949662 L 17.532663316582916 20.09582476113271 L 17.884422110552766 20.0765882427688 L 18.236180904522616 20.05735172440489 L 18.587939698492463 20.038115206040978 L 18.939698492462313 20.01887868767707 L 19.291457286432163 19.99964216931316 L 19.643216080402013 19.980405650949248 L 19.99497487437186 19.96116913258534 L 20.34673366834171 19.94193261422143 L 20.69849246231156 19.922696095857518 L 21.05025125628141 19.903459577493607 L 21.402010050251256 19.8842230591297 L 21.753768844221106 19.864986540765788 L 22.105527638190956 19.845750022401877 L 22.457286432160807 19.82651350403797 L 22.809045226130653 19.807276985674058 L 23.160804020100503 19.788040467310147 L 23.512562814070353 19.768803948946235 L 23.864321608040203 19.749567430582328 L 24.216080402010054 19.730330912218417 L 24.5678391959799 19.711094393854506 L 24.91959798994975 19.691857875490598 L 25.2713567839196 19.672621357126687 L 25.62311557788945 19.653384838762776 L 25.974874371859297 19.634148320398864 L 26.326633165829147 19.614911802034957 L 26.678391959798997 19.595675283671046 L 27.030150753768847 19.576438765307135 L 27.381909547738694 19.557202246943227 L 27.733668341708544 19.537965728579316 L 28.085427135678394 19.518729210215405 L 28.437185929648244 19.499492691851493 L 28.78894472361809 19.480256173487586 L 29.14070351758794 19.461019655123675 L 29.49246231155779 19.441783136759764 L 29.84422110552764 19.422546618395852 L 30.19597989949749 19.403310100031945 L 30.547738693467338 19.384073581668034 L 30.899497487437188 19.364837063304122 L 31.251256281407038 19.345600544940215 L 31.603015075376888 19.326364026576304 L 31.954773869346734 19.307127508212393 L 32.30653266331659 19.28789098984848 L 32.65829145728644 19.268654471484574 L 33.01005025125628 19.249417953120663 L 33.36180904522613 19.23018143475675 L 33.71356783919598 19.210944916392844 L 34.06532663316583 19.191708398028933 L 34.41708542713568 19.17247187966502 L 34.76884422110553 19.15323536130111 L 35.12060301507538 19.133998842937203 L 35.47236180904523 19.11476232457329 L 35.824120603015075 19.09552580620938 L 36.175879396984925 19.07628928784547 L 36.527638190954775 19.05705276948156 L 36.879396984924625 19.03781625111765 L 37.231155778894475 19.01857973275374 L 37.582914572864325 18.99934321438983 L 37.934673366834176 18.98010669602592 L 38.286432160804026 18.96087017766201 L 38.63819095477387 18.9416336592981 L 38.98994974874372 18.92239714093419 L 39.34170854271357 18.90316062257028 L 39.69346733668342 18.88392410420637 L 40.04522613065327 18.86468758584246 L 40.39698492462312 18.84545106747855 L 40.74874371859297 18.82621454911464 L 41.10050251256282 18.806978030750727 L 41.45226130653267 18.78774151238682 L 41.80402010050251 18.76850499402291 L 42.15577889447236 18.749268475658997 L 42.50753768844221 18.73003195729509 L 42.85929648241206 18.71079543893118 L 43.21105527638191 18.691558920567267 L 43.56281407035176 18.672322402203356 L 43.91457286432161 18.65308588383945 L 44.26633165829146 18.633849365475537 L 44.618090452261306 18.614612847111626 L 44.969849246231156 18.59537632874772 L 45.321608040201006 18.576139810383808 L 45.67336683417086 18.556903292019896 L 46.02512562814071 18.537666773655985 L 46.37688442211056 18.518430255292078 L 46.72864321608041 18.499193736928166 L 47.08040201005026 18.479957218564255 L 47.43216080402011 18.460720700200348 L 47.78391959798995 18.441484181836437 L 48.1356783919598 18.422247663472525 L 48.48743718592965 18.403011145108614 L 48.8391959798995 18.383774626744707 L 49.19095477386935 18.364538108380795 L 49.5427135678392 18.345301590016884 L 49.89447236180905 18.326065071652977 L 50.2462311557789 18.306828553289066 L 50.597989949748744 18.287592034925154 L 50.949748743718594 18.268355516561243 L 51.301507537688444 18.249118998197336 L 51.653266331658294 18.229882479833424 L 52.005025125628144 18.210645961469513 L 52.356783919597994 18.191409443105606 L 52.708542713567844 18.172172924741695 L 53.060301507537694 18.152936406377783 L 53.412060301507545 18.133699888013872 L 53.76381909547739 18.114463369649965 L 54.11557788944724 18.095226851286053 L 54.46733668341709 18.075990332922142 L 54.81909547738694 18.05675381455823 L 55.17085427135679 18.037517296194324 L 55.52261306532664 18.018280777830412 L 55.87437185929649 17.9990442594665 L 56.22613065326634 17.97980774110259 L 56.57788944723618 17.960571222738682 L 56.92964824120603 17.94133470437477 L 57.28140703517588 17.92209818601086 L 57.63316582914573 17.902861667646953 L 57.98492462311558 17.88362514928304 L 58.33668341708543 17.86438863091913 L 58.68844221105528 17.84515211255522 L 59.04020100502513 17.82591559419131 L 59.39195979899498 17.8066790758274 L 59.743718592964825 17.78744255746349 L 60.095477386934675 17.76820603909958 L 60.447236180904525 17.74896952073567 L 60.798994974874375 17.72973300237176 L 61.150753768844226 17.710496484007848 L 61.502512562814076 17.69125996564394 L 61.854271356783926 17.67202344728003 L 62.206030150753776 17.652786928916118 L 62.55778894472362 17.63355041055221 L 62.90954773869347 17.6143138921883 L 63.26130653266332 17.595077373824388 L 63.61306532663317 17.575840855460477 L 63.96482412060302 17.55660433709657 L 64.31658291457288 17.53736781873266 L 64.66834170854273 17.518131300368747 L 65.02010050251256 17.49889478200484 L 65.37185929648241 17.47965826364093 L 65.72361809045226 17.460421745277017 L 66.07537688442211 17.441185226913106 L 66.42713567839196 17.4219487085492 L 66.77889447236181 17.402712190185287 L 67.13065326633166 17.383475671821376 L 67.48241206030151 17.36423915345747 L 67.83417085427136 17.345002635093557 L 68.18592964824121 17.325766116729646 L 68.53768844221106 17.306529598365735 L 68.88944723618091 17.287293080001827 L 69.24120603015076 17.268056561637916 L 69.59296482412061 17.248820043274005 L 69.94472361809046 17.229583524910097 L 70.2964824120603 17.210347006546186 L 70.64824120603015 17.191110488182275 L 71.0 17.171873969818364",
          "type": "path"
         }
        ],
        "template": {
         "data": {
          "bar": [
           {
            "error_x": {
             "color": "#2a3f5f"
            },
            "error_y": {
             "color": "#2a3f5f"
            },
            "marker": {
             "line": {
              "color": "white",
              "width": 0.5
             },
             "pattern": {
              "fillmode": "overlay",
              "size": 10,
              "solidity": 0.2
             }
            },
            "type": "bar"
           }
          ],
          "barpolar": [
           {
            "marker": {
             "line": {
              "color": "white",
              "width": 0.5
             },
             "pattern": {
              "fillmode": "overlay",
              "size": 10,
              "solidity": 0.2
             }
            },
            "type": "barpolar"
           }
          ],
          "box": [
           {
            "boxpoints": "outliers",
            "notched": false,
            "type": "box"
           }
          ],
          "carpet": [
           {
            "aaxis": {
             "endlinecolor": "#2a3f5f",
             "gridcolor": "#C8D4E3",
             "linecolor": "#C8D4E3",
             "minorgridcolor": "#C8D4E3",
             "startlinecolor": "#2a3f5f"
            },
            "baxis": {
             "endlinecolor": "#2a3f5f",
             "gridcolor": "#C8D4E3",
             "linecolor": "#C8D4E3",
             "minorgridcolor": "#C8D4E3",
             "startlinecolor": "#2a3f5f"
            },
            "type": "carpet"
           }
          ],
          "choropleth": [
           {
            "colorbar": {
             "outlinewidth": 0,
             "ticks": ""
            },
            "type": "choropleth"
           }
          ],
          "contour": [
           {
            "colorbar": {
             "outlinewidth": 0,
             "ticks": ""
            },
            "colorscale": [
             [
              0,
              "#0d0887"
             ],
             [
              0.1111111111111111,
              "#46039f"
             ],
             [
              0.2222222222222222,
              "#7201a8"
             ],
             [
              0.3333333333333333,
              "#9c179e"
             ],
             [
              0.4444444444444444,
              "#bd3786"
             ],
             [
              0.5555555555555556,
              "#d8576b"
             ],
             [
              0.6666666666666666,
              "#ed7953"
             ],
             [
              0.7777777777777778,
              "#fb9f3a"
             ],
             [
              0.8888888888888888,
              "#fdca26"
             ],
             [
              1,
              "#f0f921"
             ]
            ],
            "type": "contour"
           }
          ],
          "contourcarpet": [
           {
            "colorbar": {
             "outlinewidth": 0,
             "ticks": ""
            },
            "type": "contourcarpet"
           }
          ],
          "heatmap": [
           {
            "colorbar": {
             "outlinewidth": 0,
             "ticks": ""
            },
            "colorscale": [
             [
              0,
              "#0d0887"
             ],
             [
              0.1111111111111111,
              "#46039f"
             ],
             [
              0.2222222222222222,
              "#7201a8"
             ],
             [
              0.3333333333333333,
              "#9c179e"
             ],
             [
              0.4444444444444444,
              "#bd3786"
             ],
             [
              0.5555555555555556,
              "#d8576b"
             ],
             [
              0.6666666666666666,
              "#ed7953"
             ],
             [
              0.7777777777777778,
              "#fb9f3a"
             ],
             [
              0.8888888888888888,
              "#fdca26"
             ],
             [
              1,
              "#f0f921"
             ]
            ],
            "type": "heatmap"
           }
          ],
          "heatmapgl": [
           {
            "colorbar": {
             "outlinewidth": 0,
             "ticks": ""
            },
            "colorscale": [
             [
              0,
              "#0d0887"
             ],
             [
              0.1111111111111111,
              "#46039f"
             ],
             [
              0.2222222222222222,
              "#7201a8"
             ],
             [
              0.3333333333333333,
              "#9c179e"
             ],
             [
              0.4444444444444444,
              "#bd3786"
             ],
             [
              0.5555555555555556,
              "#d8576b"
             ],
             [
              0.6666666666666666,
              "#ed7953"
             ],
             [
              0.7777777777777778,
              "#fb9f3a"
             ],
             [
              0.8888888888888888,
              "#fdca26"
             ],
             [
              1,
              "#f0f921"
             ]
            ],
            "type": "heatmapgl"
           }
          ],
          "histogram": [
           {
            "marker": {
             "line": {
              "width": 1
             },
             "pattern": {
              "fillmode": "overlay",
              "size": 10,
              "solidity": 0.2
             }
            },
            "type": "histogram"
           }
          ],
          "histogram2d": [
           {
            "colorbar": {
             "outlinewidth": 0,
             "ticks": ""
            },
            "colorscale": [
             [
              0,
              "#0d0887"
             ],
             [
              0.1111111111111111,
              "#46039f"
             ],
             [
              0.2222222222222222,
              "#7201a8"
             ],
             [
              0.3333333333333333,
              "#9c179e"
             ],
             [
              0.4444444444444444,
              "#bd3786"
             ],
             [
              0.5555555555555556,
              "#d8576b"
             ],
             [
              0.6666666666666666,
              "#ed7953"
             ],
             [
              0.7777777777777778,
              "#fb9f3a"
             ],
             [
              0.8888888888888888,
              "#fdca26"
             ],
             [
              1,
              "#f0f921"
             ]
            ],
            "type": "histogram2d"
           }
          ],
          "histogram2dcontour": [
           {
            "colorbar": {
             "outlinewidth": 0,
             "ticks": ""
            },
            "colorscale": [
             [
              0,
              "#0d0887"
             ],
             [
              0.1111111111111111,
              "#46039f"
             ],
             [
              0.2222222222222222,
              "#7201a8"
             ],
             [
              0.3333333333333333,
              "#9c179e"
             ],
             [
              0.4444444444444444,
              "#bd3786"
             ],
             [
              0.5555555555555556,
              "#d8576b"
             ],
             [
              0.6666666666666666,
              "#ed7953"
             ],
             [
              0.7777777777777778,
              "#fb9f3a"
             ],
             [
              0.8888888888888888,
              "#fdca26"
             ],
             [
              1,
              "#f0f921"
             ]
            ],
            "type": "histogram2dcontour"
           }
          ],
          "mesh3d": [
           {
            "colorbar": {
             "outlinewidth": 0,
             "ticks": ""
            },
            "type": "mesh3d"
           }
          ],
          "parcoords": [
           {
            "line": {
             "colorbar": {
              "outlinewidth": 0,
              "ticks": ""
             }
            },
            "type": "parcoords"
           }
          ],
          "pie": [
           {
            "automargin": true,
            "type": "pie"
           }
          ],
          "scatter": [
           {
            "fillpattern": {
             "fillmode": "overlay",
             "size": 10,
             "solidity": 0.2
            },
            "marker": {
             "opacity": 0.8
            },
            "type": "scatter"
           }
          ],
          "scatter3d": [
           {
            "line": {
             "colorbar": {
              "outlinewidth": 0,
              "ticks": ""
             }
            },
            "marker": {
             "colorbar": {
              "outlinewidth": 0,
              "ticks": ""
             },
             "opacity": 0.8
            },
            "type": "scatter3d"
           }
          ],
          "scattercarpet": [
           {
            "marker": {
             "colorbar": {
              "outlinewidth": 0,
              "ticks": ""
             }
            },
            "type": "scattercarpet"
           }
          ],
          "scattergeo": [
           {
            "marker": {
             "colorbar": {
              "outlinewidth": 0,
              "ticks": ""
             }
            },
            "type": "scattergeo"
           }
          ],
          "scattergl": [
           {
            "marker": {
             "colorbar": {
              "outlinewidth": 0,
              "ticks": ""
             }
            },
            "type": "scattergl"
           }
          ],
          "scattermapbox": [
           {
            "marker": {
             "colorbar": {
              "outlinewidth": 0,
              "ticks": ""
             }
            },
            "type": "scattermapbox"
           }
          ],
          "scatterpolar": [
           {
            "marker": {
             "colorbar": {
              "outlinewidth": 0,
              "ticks": ""
             }
            },
            "type": "scatterpolar"
           }
          ],
          "scatterpolargl": [
           {
            "marker": {
             "colorbar": {
              "outlinewidth": 0,
              "ticks": ""
             }
            },
            "type": "scatterpolargl"
           }
          ],
          "scatterternary": [
           {
            "marker": {
             "colorbar": {
              "outlinewidth": 0,
              "ticks": ""
             }
            },
            "type": "scatterternary"
           }
          ],
          "surface": [
           {
            "colorbar": {
             "outlinewidth": 0,
             "ticks": ""
            },
            "colorscale": [
             [
              0,
              "#0d0887"
             ],
             [
              0.1111111111111111,
              "#46039f"
             ],
             [
              0.2222222222222222,
              "#7201a8"
             ],
             [
              0.3333333333333333,
              "#9c179e"
             ],
             [
              0.4444444444444444,
              "#bd3786"
             ],
             [
              0.5555555555555556,
              "#d8576b"
             ],
             [
              0.6666666666666666,
              "#ed7953"
             ],
             [
              0.7777777777777778,
              "#fb9f3a"
             ],
             [
              0.8888888888888888,
              "#fdca26"
             ],
             [
              1,
              "#f0f921"
             ]
            ],
            "type": "surface"
           }
          ],
          "table": [
           {
            "cells": {
             "fill": {
              "color": "#EBF0F8"
             },
             "line": {
              "color": "white"
             }
            },
            "header": {
             "fill": {
              "color": "#C8D4E3"
             },
             "line": {
              "color": "white"
             }
            },
            "type": "table"
           }
          ]
         },
         "layout": {
          "annotationdefaults": {
           "arrowcolor": "#2a3f5f",
           "arrowhead": 0,
           "arrowwidth": 1
          },
          "autotypenumbers": "strict",
          "coloraxis": {
           "colorbar": {
            "outlinewidth": 0,
            "ticks": ""
           }
          },
          "colorscale": {
           "diverging": [
            [
             0,
             "#8e0152"
            ],
            [
             0.1,
             "#c51b7d"
            ],
            [
             0.2,
             "#de77ae"
            ],
            [
             0.3,
             "#f1b6da"
            ],
            [
             0.4,
             "#fde0ef"
            ],
            [
             0.5,
             "#f7f7f7"
            ],
            [
             0.6,
             "#e6f5d0"
            ],
            [
             0.7,
             "#b8e186"
            ],
            [
             0.8,
             "#7fbc41"
            ],
            [
             0.9,
             "#4d9221"
            ],
            [
             1,
             "#276419"
            ]
           ],
           "sequential": [
            [
             0,
             "#0d0887"
            ],
            [
             0.1111111111111111,
             "#46039f"
            ],
            [
             0.2222222222222222,
             "#7201a8"
            ],
            [
             0.3333333333333333,
             "#9c179e"
            ],
            [
             0.4444444444444444,
             "#bd3786"
            ],
            [
             0.5555555555555556,
             "#d8576b"
            ],
            [
             0.6666666666666666,
             "#ed7953"
            ],
            [
             0.7777777777777778,
             "#fb9f3a"
            ],
            [
             0.8888888888888888,
             "#fdca26"
            ],
            [
             1,
             "#f0f921"
            ]
           ],
           "sequentialminus": [
            [
             0,
             "#0d0887"
            ],
            [
             0.1111111111111111,
             "#46039f"
            ],
            [
             0.2222222222222222,
             "#7201a8"
            ],
            [
             0.3333333333333333,
             "#9c179e"
            ],
            [
             0.4444444444444444,
             "#bd3786"
            ],
            [
             0.5555555555555556,
             "#d8576b"
            ],
            [
             0.6666666666666666,
             "#ed7953"
            ],
            [
             0.7777777777777778,
             "#fb9f3a"
            ],
            [
             0.8888888888888888,
             "#fdca26"
            ],
            [
             1,
             "#f0f921"
            ]
           ]
          },
          "colorway": [
           "#636efa",
           "#EF553B",
           "#00cc96",
           "#ab63fa",
           "#FFA15A",
           "#19d3f3",
           "#FF6692",
           "#B6E880",
           "#FF97FF",
           "#FECB52"
          ],
          "font": {
           "color": "#2a3f5f"
          },
          "geo": {
           "bgcolor": "white",
           "lakecolor": "white",
           "landcolor": "white",
           "showlakes": true,
           "showland": true,
           "subunitcolor": "#C8D4E3"
          },
          "height": 400,
          "hoverlabel": {
           "align": "left"
          },
          "hovermode": "closest",
          "mapbox": {
           "style": "light"
          },
          "margin": {
           "b": 2,
           "l": 2,
           "r": 2,
           "t": 30
          },
          "paper_bgcolor": "white",
          "plot_bgcolor": "white",
          "polar": {
           "angularaxis": {
            "gridcolor": "#EBF0F8",
            "linecolor": "#EBF0F8",
            "ticks": ""
           },
           "bgcolor": "white",
           "radialaxis": {
            "gridcolor": "#EBF0F8",
            "linecolor": "#EBF0F8",
            "ticks": ""
           }
          },
          "scene": {
           "camera": {
            "eye": {
             "x": 1.5,
             "y": 1.5,
             "z": 0.1
            }
           },
           "xaxis": {
            "backgroundcolor": "white",
            "gridcolor": "#DFE8F3",
            "gridwidth": 2,
            "linecolor": "#EBF0F8",
            "showbackground": true,
            "ticks": "",
            "zerolinecolor": "#EBF0F8"
           },
           "yaxis": {
            "backgroundcolor": "white",
            "gridcolor": "#DFE8F3",
            "gridwidth": 2,
            "linecolor": "#EBF0F8",
            "showbackground": true,
            "ticks": "",
            "zerolinecolor": "#EBF0F8"
           },
           "zaxis": {
            "backgroundcolor": "white",
            "gridcolor": "#DFE8F3",
            "gridwidth": 2,
            "linecolor": "#EBF0F8",
            "showbackground": true,
            "ticks": "",
            "zerolinecolor": "#EBF0F8"
           }
          },
          "shapedefaults": {
           "line": {
            "color": "#2a3f5f"
           }
          },
          "ternary": {
           "aaxis": {
            "gridcolor": "#DFE8F3",
            "linecolor": "#A2B1C6",
            "ticks": ""
           },
           "baxis": {
            "gridcolor": "#DFE8F3",
            "linecolor": "#A2B1C6",
            "ticks": ""
           },
           "bgcolor": "white",
           "caxis": {
            "gridcolor": "#DFE8F3",
            "linecolor": "#A2B1C6",
            "ticks": ""
           }
          },
          "title": {
           "x": 0.5
          },
          "xaxis": {
           "automargin": true,
           "gridcolor": "#EBF0F8",
           "linecolor": "#EBF0F8",
           "linewidth": 2,
           "showline": true,
           "ticks": "",
           "title": {
            "standoff": 15
           },
           "zerolinecolor": "#EBF0F8",
           "zerolinewidth": 2
          },
          "yaxis": {
           "automargin": true,
           "gridcolor": "#EBF0F8",
           "linecolor": "#EBF0F8",
           "linewidth": 2,
           "showline": true,
           "ticks": "",
           "title": {
            "standoff": 15
           },
           "zerolinecolor": "#EBF0F8",
           "zerolinewidth": 2
          }
         }
        },
        "xaxis": {
         "anchor": "y",
         "domain": [
          0,
          1
         ],
         "title": {
          "text": "month old when trained"
         }
        },
        "yaxis": {
         "anchor": "x",
         "domain": [
          0,
          1
         ],
         "title": {
          "text": "mean rescues per year"
         }
        }
       }
      },
      "text/html": [
       "<div>                        <script type=\"text/javascript\">window.PlotlyConfig = {MathJaxConfig: 'local'};</script>\n",
       "        <script charset=\"utf-8\" src=\"https://cdn.plot.ly/plotly-2.24.1.min.js\"></script>                <div id=\"676ddf76-c405-4c78-9f4f-e983a93a7e5b\" class=\"plotly-graph-div\" style=\"height:400px; width:100%;\"></div>            <script type=\"text/javascript\">                                    window.PLOTLYENV=window.PLOTLYENV || {};                                    if (document.getElementById(\"676ddf76-c405-4c78-9f4f-e983a93a7e5b\")) {                    Plotly.newPlot(                        \"676ddf76-c405-4c78-9f4f-e983a93a7e5b\",                        [{\"hovertemplate\":\"month old when trained=%{x}\\u003cbr\\u003emean rescues per year=%{y}\\u003cextra\\u003e\\u003c\\u002fextra\\u003e\",\"legendgroup\":\"\",\"marker\":{\"color\":\"#636efa\",\"symbol\":\"circle\",\"size\":19},\"mode\":\"markers\",\"name\":\"\",\"orientation\":\"v\",\"showlegend\":false,\"x\":[68,53,41,3,4,50,12,63,43,36,36,14,26,50,51,35,38,52,58,9,23,34,26,29,57,6,1,68,18,9,71,18,70,55,35,47,21,20,7,17,71,65,62,44,61,23,29,7,19,23],\"xaxis\":\"x\",\"y\":[21.1,14.9,20.5,19.4,24.9,12.9,21.1,16.6,15.3,19.6,20.2,24.2,21.8,20.0,23.8,19.8,18.3,19.2,17.9,21.5,20.9,19.3,19.5,19.3,14.1,24.0,32.4,17.7,24.5,21.1,15.4,23.0,16.8,13.4,21.7,15.8,14.9,15.9,23.7,25.4,15.3,16.5,21.2,16.7,16.7,23.6,24.3,21.8,25.9,20.7],\"yaxis\":\"y\",\"type\":\"scatter\"}],                        {\"template\":{\"data\":{\"barpolar\":[{\"marker\":{\"line\":{\"color\":\"white\",\"width\":0.5},\"pattern\":{\"fillmode\":\"overlay\",\"size\":10,\"solidity\":0.2}},\"type\":\"barpolar\"}],\"bar\":[{\"error_x\":{\"color\":\"#2a3f5f\"},\"error_y\":{\"color\":\"#2a3f5f\"},\"marker\":{\"line\":{\"color\":\"white\",\"width\":0.5},\"pattern\":{\"fillmode\":\"overlay\",\"size\":10,\"solidity\":0.2}},\"type\":\"bar\"}],\"carpet\":[{\"aaxis\":{\"endlinecolor\":\"#2a3f5f\",\"gridcolor\":\"#C8D4E3\",\"linecolor\":\"#C8D4E3\",\"minorgridcolor\":\"#C8D4E3\",\"startlinecolor\":\"#2a3f5f\"},\"baxis\":{\"endlinecolor\":\"#2a3f5f\",\"gridcolor\":\"#C8D4E3\",\"linecolor\":\"#C8D4E3\",\"minorgridcolor\":\"#C8D4E3\",\"startlinecolor\":\"#2a3f5f\"},\"type\":\"carpet\"}],\"choropleth\":[{\"colorbar\":{\"outlinewidth\":0,\"ticks\":\"\"},\"type\":\"choropleth\"}],\"contourcarpet\":[{\"colorbar\":{\"outlinewidth\":0,\"ticks\":\"\"},\"type\":\"contourcarpet\"}],\"contour\":[{\"colorbar\":{\"outlinewidth\":0,\"ticks\":\"\"},\"colorscale\":[[0.0,\"#0d0887\"],[0.1111111111111111,\"#46039f\"],[0.2222222222222222,\"#7201a8\"],[0.3333333333333333,\"#9c179e\"],[0.4444444444444444,\"#bd3786\"],[0.5555555555555556,\"#d8576b\"],[0.6666666666666666,\"#ed7953\"],[0.7777777777777778,\"#fb9f3a\"],[0.8888888888888888,\"#fdca26\"],[1.0,\"#f0f921\"]],\"type\":\"contour\"}],\"heatmapgl\":[{\"colorbar\":{\"outlinewidth\":0,\"ticks\":\"\"},\"colorscale\":[[0.0,\"#0d0887\"],[0.1111111111111111,\"#46039f\"],[0.2222222222222222,\"#7201a8\"],[0.3333333333333333,\"#9c179e\"],[0.4444444444444444,\"#bd3786\"],[0.5555555555555556,\"#d8576b\"],[0.6666666666666666,\"#ed7953\"],[0.7777777777777778,\"#fb9f3a\"],[0.8888888888888888,\"#fdca26\"],[1.0,\"#f0f921\"]],\"type\":\"heatmapgl\"}],\"heatmap\":[{\"colorbar\":{\"outlinewidth\":0,\"ticks\":\"\"},\"colorscale\":[[0.0,\"#0d0887\"],[0.1111111111111111,\"#46039f\"],[0.2222222222222222,\"#7201a8\"],[0.3333333333333333,\"#9c179e\"],[0.4444444444444444,\"#bd3786\"],[0.5555555555555556,\"#d8576b\"],[0.6666666666666666,\"#ed7953\"],[0.7777777777777778,\"#fb9f3a\"],[0.8888888888888888,\"#fdca26\"],[1.0,\"#f0f921\"]],\"type\":\"heatmap\"}],\"histogram2dcontour\":[{\"colorbar\":{\"outlinewidth\":0,\"ticks\":\"\"},\"colorscale\":[[0.0,\"#0d0887\"],[0.1111111111111111,\"#46039f\"],[0.2222222222222222,\"#7201a8\"],[0.3333333333333333,\"#9c179e\"],[0.4444444444444444,\"#bd3786\"],[0.5555555555555556,\"#d8576b\"],[0.6666666666666666,\"#ed7953\"],[0.7777777777777778,\"#fb9f3a\"],[0.8888888888888888,\"#fdca26\"],[1.0,\"#f0f921\"]],\"type\":\"histogram2dcontour\"}],\"histogram2d\":[{\"colorbar\":{\"outlinewidth\":0,\"ticks\":\"\"},\"colorscale\":[[0.0,\"#0d0887\"],[0.1111111111111111,\"#46039f\"],[0.2222222222222222,\"#7201a8\"],[0.3333333333333333,\"#9c179e\"],[0.4444444444444444,\"#bd3786\"],[0.5555555555555556,\"#d8576b\"],[0.6666666666666666,\"#ed7953\"],[0.7777777777777778,\"#fb9f3a\"],[0.8888888888888888,\"#fdca26\"],[1.0,\"#f0f921\"]],\"type\":\"histogram2d\"}],\"histogram\":[{\"marker\":{\"pattern\":{\"fillmode\":\"overlay\",\"size\":10,\"solidity\":0.2},\"line\":{\"width\":1}},\"type\":\"histogram\"}],\"mesh3d\":[{\"colorbar\":{\"outlinewidth\":0,\"ticks\":\"\"},\"type\":\"mesh3d\"}],\"parcoords\":[{\"line\":{\"colorbar\":{\"outlinewidth\":0,\"ticks\":\"\"}},\"type\":\"parcoords\"}],\"pie\":[{\"automargin\":true,\"type\":\"pie\"}],\"scatter3d\":[{\"line\":{\"colorbar\":{\"outlinewidth\":0,\"ticks\":\"\"}},\"marker\":{\"colorbar\":{\"outlinewidth\":0,\"ticks\":\"\"},\"opacity\":0.8},\"type\":\"scatter3d\"}],\"scattercarpet\":[{\"marker\":{\"colorbar\":{\"outlinewidth\":0,\"ticks\":\"\"}},\"type\":\"scattercarpet\"}],\"scattergeo\":[{\"marker\":{\"colorbar\":{\"outlinewidth\":0,\"ticks\":\"\"}},\"type\":\"scattergeo\"}],\"scattergl\":[{\"marker\":{\"colorbar\":{\"outlinewidth\":0,\"ticks\":\"\"}},\"type\":\"scattergl\"}],\"scattermapbox\":[{\"marker\":{\"colorbar\":{\"outlinewidth\":0,\"ticks\":\"\"}},\"type\":\"scattermapbox\"}],\"scatterpolargl\":[{\"marker\":{\"colorbar\":{\"outlinewidth\":0,\"ticks\":\"\"}},\"type\":\"scatterpolargl\"}],\"scatterpolar\":[{\"marker\":{\"colorbar\":{\"outlinewidth\":0,\"ticks\":\"\"}},\"type\":\"scatterpolar\"}],\"scatter\":[{\"fillpattern\":{\"fillmode\":\"overlay\",\"size\":10,\"solidity\":0.2},\"type\":\"scatter\",\"marker\":{\"opacity\":0.8}}],\"scatterternary\":[{\"marker\":{\"colorbar\":{\"outlinewidth\":0,\"ticks\":\"\"}},\"type\":\"scatterternary\"}],\"surface\":[{\"colorbar\":{\"outlinewidth\":0,\"ticks\":\"\"},\"colorscale\":[[0.0,\"#0d0887\"],[0.1111111111111111,\"#46039f\"],[0.2222222222222222,\"#7201a8\"],[0.3333333333333333,\"#9c179e\"],[0.4444444444444444,\"#bd3786\"],[0.5555555555555556,\"#d8576b\"],[0.6666666666666666,\"#ed7953\"],[0.7777777777777778,\"#fb9f3a\"],[0.8888888888888888,\"#fdca26\"],[1.0,\"#f0f921\"]],\"type\":\"surface\"}],\"table\":[{\"cells\":{\"fill\":{\"color\":\"#EBF0F8\"},\"line\":{\"color\":\"white\"}},\"header\":{\"fill\":{\"color\":\"#C8D4E3\"},\"line\":{\"color\":\"white\"}},\"type\":\"table\"}],\"box\":[{\"boxpoints\":\"outliers\",\"notched\":false,\"type\":\"box\"}]},\"layout\":{\"annotationdefaults\":{\"arrowcolor\":\"#2a3f5f\",\"arrowhead\":0,\"arrowwidth\":1},\"autotypenumbers\":\"strict\",\"coloraxis\":{\"colorbar\":{\"outlinewidth\":0,\"ticks\":\"\"}},\"colorscale\":{\"diverging\":[[0,\"#8e0152\"],[0.1,\"#c51b7d\"],[0.2,\"#de77ae\"],[0.3,\"#f1b6da\"],[0.4,\"#fde0ef\"],[0.5,\"#f7f7f7\"],[0.6,\"#e6f5d0\"],[0.7,\"#b8e186\"],[0.8,\"#7fbc41\"],[0.9,\"#4d9221\"],[1,\"#276419\"]],\"sequential\":[[0.0,\"#0d0887\"],[0.1111111111111111,\"#46039f\"],[0.2222222222222222,\"#7201a8\"],[0.3333333333333333,\"#9c179e\"],[0.4444444444444444,\"#bd3786\"],[0.5555555555555556,\"#d8576b\"],[0.6666666666666666,\"#ed7953\"],[0.7777777777777778,\"#fb9f3a\"],[0.8888888888888888,\"#fdca26\"],[1.0,\"#f0f921\"]],\"sequentialminus\":[[0.0,\"#0d0887\"],[0.1111111111111111,\"#46039f\"],[0.2222222222222222,\"#7201a8\"],[0.3333333333333333,\"#9c179e\"],[0.4444444444444444,\"#bd3786\"],[0.5555555555555556,\"#d8576b\"],[0.6666666666666666,\"#ed7953\"],[0.7777777777777778,\"#fb9f3a\"],[0.8888888888888888,\"#fdca26\"],[1.0,\"#f0f921\"]]},\"colorway\":[\"#636efa\",\"#EF553B\",\"#00cc96\",\"#ab63fa\",\"#FFA15A\",\"#19d3f3\",\"#FF6692\",\"#B6E880\",\"#FF97FF\",\"#FECB52\"],\"font\":{\"color\":\"#2a3f5f\"},\"geo\":{\"bgcolor\":\"white\",\"lakecolor\":\"white\",\"landcolor\":\"white\",\"showlakes\":true,\"showland\":true,\"subunitcolor\":\"#C8D4E3\"},\"hoverlabel\":{\"align\":\"left\"},\"hovermode\":\"closest\",\"mapbox\":{\"style\":\"light\"},\"paper_bgcolor\":\"white\",\"plot_bgcolor\":\"white\",\"polar\":{\"angularaxis\":{\"gridcolor\":\"#EBF0F8\",\"linecolor\":\"#EBF0F8\",\"ticks\":\"\"},\"bgcolor\":\"white\",\"radialaxis\":{\"gridcolor\":\"#EBF0F8\",\"linecolor\":\"#EBF0F8\",\"ticks\":\"\"}},\"scene\":{\"xaxis\":{\"backgroundcolor\":\"white\",\"gridcolor\":\"#DFE8F3\",\"gridwidth\":2,\"linecolor\":\"#EBF0F8\",\"showbackground\":true,\"ticks\":\"\",\"zerolinecolor\":\"#EBF0F8\"},\"yaxis\":{\"backgroundcolor\":\"white\",\"gridcolor\":\"#DFE8F3\",\"gridwidth\":2,\"linecolor\":\"#EBF0F8\",\"showbackground\":true,\"ticks\":\"\",\"zerolinecolor\":\"#EBF0F8\"},\"zaxis\":{\"backgroundcolor\":\"white\",\"gridcolor\":\"#DFE8F3\",\"gridwidth\":2,\"linecolor\":\"#EBF0F8\",\"showbackground\":true,\"ticks\":\"\",\"zerolinecolor\":\"#EBF0F8\"},\"camera\":{\"eye\":{\"x\":1.5,\"y\":1.5,\"z\":0.1}}},\"shapedefaults\":{\"line\":{\"color\":\"#2a3f5f\"}},\"ternary\":{\"aaxis\":{\"gridcolor\":\"#DFE8F3\",\"linecolor\":\"#A2B1C6\",\"ticks\":\"\"},\"baxis\":{\"gridcolor\":\"#DFE8F3\",\"linecolor\":\"#A2B1C6\",\"ticks\":\"\"},\"bgcolor\":\"white\",\"caxis\":{\"gridcolor\":\"#DFE8F3\",\"linecolor\":\"#A2B1C6\",\"ticks\":\"\"}},\"title\":{\"x\":0.5},\"xaxis\":{\"automargin\":true,\"gridcolor\":\"#EBF0F8\",\"linecolor\":\"#EBF0F8\",\"ticks\":\"\",\"title\":{\"standoff\":15},\"zerolinecolor\":\"#EBF0F8\",\"zerolinewidth\":2,\"linewidth\":2,\"showline\":true},\"yaxis\":{\"automargin\":true,\"gridcolor\":\"#EBF0F8\",\"linecolor\":\"#EBF0F8\",\"ticks\":\"\",\"title\":{\"standoff\":15},\"zerolinecolor\":\"#EBF0F8\",\"zerolinewidth\":2,\"linewidth\":2,\"showline\":true},\"height\":400,\"margin\":{\"b\":2,\"l\":2,\"r\":2,\"t\":30}}},\"xaxis\":{\"anchor\":\"y\",\"domain\":[0.0,1.0],\"title\":{\"text\":\"month old when trained\"}},\"yaxis\":{\"anchor\":\"x\",\"domain\":[0.0,1.0],\"title\":{\"text\":\"mean rescues per year\"}},\"legend\":{\"tracegroupgap\":0},\"shapes\":[{\"path\":\"M1.0 20.999941124236486 L 1.3517587939698492 20.980704605872578 L 1.7035175879396984 20.961468087508667 L 2.0552763819095476 20.942231569144756 L 2.407035175879397 20.922995050780845 L 2.758793969849246 20.903758532416937 L 3.1105527638190957 20.884522014053026 L 3.462311557788945 20.865285495689115 L 3.814070351758794 20.846048977325207 L 4.165829145728644 20.826812458961296 L 4.517587939698492 20.807575940597385 L 4.869346733668342 20.788339422233474 L 5.2211055276381915 20.769102903869566 L 5.572864321608041 20.749866385505655 L 5.92462311557789 20.730629867141744 L 6.276381909547739 20.711393348777836 L 6.628140703517588 20.692156830413925 L 6.9798994974874375 20.672920312050014 L 7.331658291457287 20.653683793686103 L 7.683417085427136 20.634447275322195 L 8.035175879396984 20.615210756958284 L 8.386934673366834 20.595974238594373 L 8.738693467336685 20.57673772023046 L 9.090452261306533 20.557501201866554 L 9.442211055276383 20.538264683502643 L 9.793969849246231 20.51902816513873 L 10.145728643216081 20.499791646774824 L 10.49748743718593 20.480555128410913 L 10.84924623115578 20.461318610047 L 11.201005025125628 20.44208209168309 L 11.552763819095478 20.422845573319183 L 11.904522613065327 20.40360905495527 L 12.256281407035177 20.38437253659136 L 12.608040201005027 20.365136018227453 L 12.959798994974875 20.345899499863542 L 13.311557788944725 20.32666298149963 L 13.663316582914574 20.30742646313572 L 14.015075376884424 20.288189944771812 L 14.366834170854272 20.2689534264079 L 14.718592964824122 20.24971690804399 L 15.07035175879397 20.230480389680082 L 15.42211055276382 20.21124387131617 L 15.773869346733669 20.19200735295226 L 16.12562814070352 20.17277083458835 L 16.47738693467337 20.15353431622444 L 16.82914572864322 20.13429779786053 L 17.180904522613066 20.11506127949662 L 17.532663316582916 20.09582476113271 L 17.884422110552766 20.0765882427688 L 18.236180904522616 20.05735172440489 L 18.587939698492463 20.038115206040978 L 18.939698492462313 20.01887868767707 L 19.291457286432163 19.99964216931316 L 19.643216080402013 19.980405650949248 L 19.99497487437186 19.96116913258534 L 20.34673366834171 19.94193261422143 L 20.69849246231156 19.922696095857518 L 21.05025125628141 19.903459577493607 L 21.402010050251256 19.8842230591297 L 21.753768844221106 19.864986540765788 L 22.105527638190956 19.845750022401877 L 22.457286432160807 19.82651350403797 L 22.809045226130653 19.807276985674058 L 23.160804020100503 19.788040467310147 L 23.512562814070353 19.768803948946235 L 23.864321608040203 19.749567430582328 L 24.216080402010054 19.730330912218417 L 24.5678391959799 19.711094393854506 L 24.91959798994975 19.691857875490598 L 25.2713567839196 19.672621357126687 L 25.62311557788945 19.653384838762776 L 25.974874371859297 19.634148320398864 L 26.326633165829147 19.614911802034957 L 26.678391959798997 19.595675283671046 L 27.030150753768847 19.576438765307135 L 27.381909547738694 19.557202246943227 L 27.733668341708544 19.537965728579316 L 28.085427135678394 19.518729210215405 L 28.437185929648244 19.499492691851493 L 28.78894472361809 19.480256173487586 L 29.14070351758794 19.461019655123675 L 29.49246231155779 19.441783136759764 L 29.84422110552764 19.422546618395852 L 30.19597989949749 19.403310100031945 L 30.547738693467338 19.384073581668034 L 30.899497487437188 19.364837063304122 L 31.251256281407038 19.345600544940215 L 31.603015075376888 19.326364026576304 L 31.954773869346734 19.307127508212393 L 32.30653266331659 19.28789098984848 L 32.65829145728644 19.268654471484574 L 33.01005025125628 19.249417953120663 L 33.36180904522613 19.23018143475675 L 33.71356783919598 19.210944916392844 L 34.06532663316583 19.191708398028933 L 34.41708542713568 19.17247187966502 L 34.76884422110553 19.15323536130111 L 35.12060301507538 19.133998842937203 L 35.47236180904523 19.11476232457329 L 35.824120603015075 19.09552580620938 L 36.175879396984925 19.07628928784547 L 36.527638190954775 19.05705276948156 L 36.879396984924625 19.03781625111765 L 37.231155778894475 19.01857973275374 L 37.582914572864325 18.99934321438983 L 37.934673366834176 18.98010669602592 L 38.286432160804026 18.96087017766201 L 38.63819095477387 18.9416336592981 L 38.98994974874372 18.92239714093419 L 39.34170854271357 18.90316062257028 L 39.69346733668342 18.88392410420637 L 40.04522613065327 18.86468758584246 L 40.39698492462312 18.84545106747855 L 40.74874371859297 18.82621454911464 L 41.10050251256282 18.806978030750727 L 41.45226130653267 18.78774151238682 L 41.80402010050251 18.76850499402291 L 42.15577889447236 18.749268475658997 L 42.50753768844221 18.73003195729509 L 42.85929648241206 18.71079543893118 L 43.21105527638191 18.691558920567267 L 43.56281407035176 18.672322402203356 L 43.91457286432161 18.65308588383945 L 44.26633165829146 18.633849365475537 L 44.618090452261306 18.614612847111626 L 44.969849246231156 18.59537632874772 L 45.321608040201006 18.576139810383808 L 45.67336683417086 18.556903292019896 L 46.02512562814071 18.537666773655985 L 46.37688442211056 18.518430255292078 L 46.72864321608041 18.499193736928166 L 47.08040201005026 18.479957218564255 L 47.43216080402011 18.460720700200348 L 47.78391959798995 18.441484181836437 L 48.1356783919598 18.422247663472525 L 48.48743718592965 18.403011145108614 L 48.8391959798995 18.383774626744707 L 49.19095477386935 18.364538108380795 L 49.5427135678392 18.345301590016884 L 49.89447236180905 18.326065071652977 L 50.2462311557789 18.306828553289066 L 50.597989949748744 18.287592034925154 L 50.949748743718594 18.268355516561243 L 51.301507537688444 18.249118998197336 L 51.653266331658294 18.229882479833424 L 52.005025125628144 18.210645961469513 L 52.356783919597994 18.191409443105606 L 52.708542713567844 18.172172924741695 L 53.060301507537694 18.152936406377783 L 53.412060301507545 18.133699888013872 L 53.76381909547739 18.114463369649965 L 54.11557788944724 18.095226851286053 L 54.46733668341709 18.075990332922142 L 54.81909547738694 18.05675381455823 L 55.17085427135679 18.037517296194324 L 55.52261306532664 18.018280777830412 L 55.87437185929649 17.9990442594665 L 56.22613065326634 17.97980774110259 L 56.57788944723618 17.960571222738682 L 56.92964824120603 17.94133470437477 L 57.28140703517588 17.92209818601086 L 57.63316582914573 17.902861667646953 L 57.98492462311558 17.88362514928304 L 58.33668341708543 17.86438863091913 L 58.68844221105528 17.84515211255522 L 59.04020100502513 17.82591559419131 L 59.39195979899498 17.8066790758274 L 59.743718592964825 17.78744255746349 L 60.095477386934675 17.76820603909958 L 60.447236180904525 17.74896952073567 L 60.798994974874375 17.72973300237176 L 61.150753768844226 17.710496484007848 L 61.502512562814076 17.69125996564394 L 61.854271356783926 17.67202344728003 L 62.206030150753776 17.652786928916118 L 62.55778894472362 17.63355041055221 L 62.90954773869347 17.6143138921883 L 63.26130653266332 17.595077373824388 L 63.61306532663317 17.575840855460477 L 63.96482412060302 17.55660433709657 L 64.31658291457288 17.53736781873266 L 64.66834170854273 17.518131300368747 L 65.02010050251256 17.49889478200484 L 65.37185929648241 17.47965826364093 L 65.72361809045226 17.460421745277017 L 66.07537688442211 17.441185226913106 L 66.42713567839196 17.4219487085492 L 66.77889447236181 17.402712190185287 L 67.13065326633166 17.383475671821376 L 67.48241206030151 17.36423915345747 L 67.83417085427136 17.345002635093557 L 68.18592964824121 17.325766116729646 L 68.53768844221106 17.306529598365735 L 68.88944723618091 17.287293080001827 L 69.24120603015076 17.268056561637916 L 69.59296482412061 17.248820043274005 L 69.94472361809046 17.229583524910097 L 70.2964824120603 17.210347006546186 L 70.64824120603015 17.191110488182275 L 71.0 17.171873969818364\",\"type\":\"path\",\"line\":{\"color\":\"rgb(228,26,28)\"}}]},                        {\"responsive\": true}                    )                };                            </script>        </div>"
      ],
      "text/plain": [
       "Figure({\n",
       "    'data': [{'hovertemplate': 'month old when trained=%{x}<br>mean rescues per year=%{y}<extra></extra>',\n",
       "              'legendgroup': '',\n",
       "              'marker': {'color': '#636efa', 'size': 19, 'symbol': 'circle'},\n",
       "              'mode': 'markers',\n",
       "              'name': '',\n",
       "              'orientation': 'v',\n",
       "              'showlegend': False,\n",
       "              'type': 'scatter',\n",
       "              'x': array([68, 53, 41,  3,  4, 50, 12, 63, 43, 36, 36, 14, 26, 50, 51, 35, 38, 52,\n",
       "                          58,  9, 23, 34, 26, 29, 57,  6,  1, 68, 18,  9, 71, 18, 70, 55, 35, 47,\n",
       "                          21, 20,  7, 17, 71, 65, 62, 44, 61, 23, 29,  7, 19, 23], dtype=int64),\n",
       "              'xaxis': 'x',\n",
       "              'y': array([21.1, 14.9, 20.5, 19.4, 24.9, 12.9, 21.1, 16.6, 15.3, 19.6, 20.2, 24.2,\n",
       "                          21.8, 20. , 23.8, 19.8, 18.3, 19.2, 17.9, 21.5, 20.9, 19.3, 19.5, 19.3,\n",
       "                          14.1, 24. , 32.4, 17.7, 24.5, 21.1, 15.4, 23. , 16.8, 13.4, 21.7, 15.8,\n",
       "                          14.9, 15.9, 23.7, 25.4, 15.3, 16.5, 21.2, 16.7, 16.7, 23.6, 24.3, 21.8,\n",
       "                          25.9, 20.7]),\n",
       "              'yaxis': 'y'}],\n",
       "    'layout': {'legend': {'tracegroupgap': 0},\n",
       "               'shapes': [{'line': {'color': 'rgb(228,26,28)'},\n",
       "                           'path': ('M1.0 20.999941124236486 L 1.35' ... '2275 L 71.0 17.171873969818364'),\n",
       "                           'type': 'path'}],\n",
       "               'template': '...',\n",
       "               'xaxis': {'anchor': 'y', 'domain': [0.0, 1.0], 'title': {'text': 'month old when trained'}},\n",
       "               'yaxis': {'anchor': 'x', 'domain': [0.0, 1.0], 'title': {'text': 'mean rescues per year'}}}\n",
       "})"
      ]
     },
     "execution_count": 16,
     "metadata": {},
     "output_type": "execute_result"
    }
   ],
   "source": [
    "# Plot the data and trendline after training\n",
    "graphing.scatter_2D(data, \"month_old_when_trained\", \"mean_rescues_per_year\", trendline=model.predict)"
   ]
  },
  {
   "cell_type": "markdown",
   "metadata": {},
   "source": [
    "Standardizing data\n",
    "Let's use standardization as the form of feature scaling for this model, applying it to the month_old_when_trained feature:"
   ]
  },
  {
   "cell_type": "code",
   "execution_count": 17,
   "metadata": {},
   "outputs": [
    {
     "data": {
      "text/html": [
       "<div>\n",
       "<style scoped>\n",
       "    .dataframe tbody tr th:only-of-type {\n",
       "        vertical-align: middle;\n",
       "    }\n",
       "\n",
       "    .dataframe tbody tr th {\n",
       "        vertical-align: top;\n",
       "    }\n",
       "\n",
       "    .dataframe thead th {\n",
       "        text-align: right;\n",
       "    }\n",
       "</style>\n",
       "<table border=\"1\" class=\"dataframe\">\n",
       "  <thead>\n",
       "    <tr style=\"text-align: right;\">\n",
       "      <th></th>\n",
       "      <th>month_old_when_trained</th>\n",
       "      <th>mean_rescues_per_year</th>\n",
       "      <th>age_last_year</th>\n",
       "      <th>weight_last_year</th>\n",
       "      <th>rescues_last_year</th>\n",
       "      <th>standardized_age_when_trained</th>\n",
       "    </tr>\n",
       "  </thead>\n",
       "  <tbody>\n",
       "    <tr>\n",
       "      <th>0</th>\n",
       "      <td>68</td>\n",
       "      <td>21.1</td>\n",
       "      <td>9</td>\n",
       "      <td>14.5</td>\n",
       "      <td>35</td>\n",
       "      <td>1.537654</td>\n",
       "    </tr>\n",
       "    <tr>\n",
       "      <th>1</th>\n",
       "      <td>53</td>\n",
       "      <td>14.9</td>\n",
       "      <td>5</td>\n",
       "      <td>14.0</td>\n",
       "      <td>30</td>\n",
       "      <td>0.826655</td>\n",
       "    </tr>\n",
       "    <tr>\n",
       "      <th>2</th>\n",
       "      <td>41</td>\n",
       "      <td>20.5</td>\n",
       "      <td>6</td>\n",
       "      <td>17.7</td>\n",
       "      <td>34</td>\n",
       "      <td>0.257856</td>\n",
       "    </tr>\n",
       "    <tr>\n",
       "      <th>3</th>\n",
       "      <td>3</td>\n",
       "      <td>19.4</td>\n",
       "      <td>1</td>\n",
       "      <td>13.7</td>\n",
       "      <td>29</td>\n",
       "      <td>-1.543342</td>\n",
       "    </tr>\n",
       "    <tr>\n",
       "      <th>4</th>\n",
       "      <td>4</td>\n",
       "      <td>24.9</td>\n",
       "      <td>4</td>\n",
       "      <td>18.4</td>\n",
       "      <td>30</td>\n",
       "      <td>-1.495942</td>\n",
       "    </tr>\n",
       "  </tbody>\n",
       "</table>\n",
       "</div>"
      ],
      "text/plain": [
       "   month_old_when_trained  mean_rescues_per_year  age_last_year  \\\n",
       "0                      68                   21.1              9   \n",
       "1                      53                   14.9              5   \n",
       "2                      41                   20.5              6   \n",
       "3                       3                   19.4              1   \n",
       "4                       4                   24.9              4   \n",
       "\n",
       "   weight_last_year  rescues_last_year  standardized_age_when_trained  \n",
       "0              14.5                 35                       1.537654  \n",
       "1              14.0                 30                       0.826655  \n",
       "2              17.7                 34                       0.257856  \n",
       "3              13.7                 29                      -1.543342  \n",
       "4              18.4                 30                      -1.495942  "
      ]
     },
     "execution_count": 17,
     "metadata": {},
     "output_type": "execute_result"
    }
   ],
   "source": [
    "# Notice that it \"centers\" the mean age around 0\n",
    "data[\"standardized_age_when_trained\"] = (data.month_old_when_trained - numpy.mean(data.month_old_when_trained)) / (numpy.std(data.month_old_when_trained))\n",
    "\n",
    "# Print a sample of the new dataset\n",
    "data.head()"
   ]
  },
  {
   "cell_type": "markdown",
   "metadata": {},
   "source": [
    "Visualizing Scaled Features"
   ]
  },
  {
   "cell_type": "code",
   "execution_count": 18,
   "metadata": {},
   "outputs": [
    {
     "ename": "ValueError",
     "evalue": "Mime type rendering requires nbformat>=4.2.0 but it is not installed",
     "output_type": "error",
     "traceback": [
      "\u001b[1;31m---------------------------------------------------------------------------\u001b[0m",
      "\u001b[1;31mValueError\u001b[0m                                Traceback (most recent call last)",
      "\u001b[1;32mc:\\Users\\User\\Desktop\\Dog Training\\Feature_scaling.ipynb Cell 12\u001b[0m in \u001b[0;36m6\n\u001b[0;32m      <a href='vscode-notebook-cell:/c%3A/Users/User/Desktop/Dog%20Training/Feature_scaling.ipynb#X13sZmlsZQ%3D%3D?line=2'>3</a>\u001b[0m \u001b[39mimport\u001b[39;00m \u001b[39mplotly\u001b[39;00m\u001b[39m.\u001b[39;00m\u001b[39mexpress\u001b[39;00m \u001b[39mas\u001b[39;00m \u001b[39mpx\u001b[39;00m\n\u001b[0;32m      <a href='vscode-notebook-cell:/c%3A/Users/User/Desktop/Dog%20Training/Feature_scaling.ipynb#X13sZmlsZQ%3D%3D?line=4'>5</a>\u001b[0m fig \u001b[39m=\u001b[39m px\u001b[39m.\u001b[39mbox(data,y\u001b[39m=\u001b[39m[\u001b[39m\"\u001b[39m\u001b[39mmonth_old_when_trained\u001b[39m\u001b[39m\"\u001b[39m, \u001b[39m\"\u001b[39m\u001b[39mstandardized_age_when_trained\u001b[39m\u001b[39m\"\u001b[39m])\n\u001b[1;32m----> <a href='vscode-notebook-cell:/c%3A/Users/User/Desktop/Dog%20Training/Feature_scaling.ipynb#X13sZmlsZQ%3D%3D?line=5'>6</a>\u001b[0m fig\u001b[39m.\u001b[39;49mshow()\n",
      "File \u001b[1;32m~\\AppData\\Local\\Packages\\PythonSoftwareFoundation.Python.3.10_qbz5n2kfra8p0\\LocalCache\\local-packages\\Python310\\site-packages\\plotly\\basedatatypes.py:3409\u001b[0m, in \u001b[0;36mBaseFigure.show\u001b[1;34m(self, *args, **kwargs)\u001b[0m\n\u001b[0;32m   3376\u001b[0m \u001b[39m\"\"\"\u001b[39;00m\n\u001b[0;32m   3377\u001b[0m \u001b[39mShow a figure using either the default renderer(s) or the renderer(s)\u001b[39;00m\n\u001b[0;32m   3378\u001b[0m \u001b[39mspecified by the renderer argument\u001b[39;00m\n\u001b[1;32m   (...)\u001b[0m\n\u001b[0;32m   3405\u001b[0m \u001b[39mNone\u001b[39;00m\n\u001b[0;32m   3406\u001b[0m \u001b[39m\"\"\"\u001b[39;00m\n\u001b[0;32m   3407\u001b[0m \u001b[39mimport\u001b[39;00m \u001b[39mplotly\u001b[39;00m\u001b[39m.\u001b[39;00m\u001b[39mio\u001b[39;00m \u001b[39mas\u001b[39;00m \u001b[39mpio\u001b[39;00m\n\u001b[1;32m-> 3409\u001b[0m \u001b[39mreturn\u001b[39;00m pio\u001b[39m.\u001b[39mshow(\u001b[39mself\u001b[39m, \u001b[39m*\u001b[39margs, \u001b[39m*\u001b[39m\u001b[39m*\u001b[39mkwargs)\n",
      "File \u001b[1;32m~\\AppData\\Local\\Packages\\PythonSoftwareFoundation.Python.3.10_qbz5n2kfra8p0\\LocalCache\\local-packages\\Python310\\site-packages\\plotly\\io\\_renderers.py:396\u001b[0m, in \u001b[0;36mshow\u001b[1;34m(fig, renderer, validate, **kwargs)\u001b[0m\n\u001b[0;32m    391\u001b[0m         \u001b[39mraise\u001b[39;00m \u001b[39mValueError\u001b[39;00m(\n\u001b[0;32m    392\u001b[0m             \u001b[39m\"\u001b[39m\u001b[39mMime type rendering requires ipython but it is not installed\u001b[39m\u001b[39m\"\u001b[39m\n\u001b[0;32m    393\u001b[0m         )\n\u001b[0;32m    395\u001b[0m     \u001b[39mif\u001b[39;00m \u001b[39mnot\u001b[39;00m nbformat \u001b[39mor\u001b[39;00m Version(nbformat\u001b[39m.\u001b[39m__version__) \u001b[39m<\u001b[39m Version(\u001b[39m\"\u001b[39m\u001b[39m4.2.0\u001b[39m\u001b[39m\"\u001b[39m):\n\u001b[1;32m--> 396\u001b[0m         \u001b[39mraise\u001b[39;00m \u001b[39mValueError\u001b[39;00m(\n\u001b[0;32m    397\u001b[0m             \u001b[39m\"\u001b[39m\u001b[39mMime type rendering requires nbformat>=4.2.0 but it is not installed\u001b[39m\u001b[39m\"\u001b[39m\n\u001b[0;32m    398\u001b[0m         )\n\u001b[0;32m    400\u001b[0m     ipython_display\u001b[39m.\u001b[39mdisplay(bundle, raw\u001b[39m=\u001b[39m\u001b[39mTrue\u001b[39;00m)\n\u001b[0;32m    402\u001b[0m \u001b[39m# external renderers\u001b[39;00m\n",
      "\u001b[1;31mValueError\u001b[0m: Mime type rendering requires nbformat>=4.2.0 but it is not installed"
     ]
    }
   ],
   "source": [
    "from plotly.subplots import make_subplots\n",
    "import plotly.graph_objects as go\n",
    "import plotly.express as px\n",
    "\n",
    "fig = px.box(data,y=[\"month_old_when_trained\", \"standardized_age_when_trained\"])\n",
    "fig.show()"
   ]
  },
  {
   "cell_type": "code",
   "execution_count": 19,
   "metadata": {},
   "outputs": [
    {
     "name": "stdout",
     "output_type": "stream",
     "text": [
      "Iteration 0  Current estimate: y = -0.002469271695567481 * x + 0.01989 Cost: 409.47558290398973\n",
      "Iteration 100  Current estimate: y = -0.23732823396711047 * x + 1.9116805097144178 Cost: 336.7707406040323\n",
      "Iteration 200  Current estimate: y = -0.4498267787096775 * x + 3.623357706888266 Cost: 277.25100655774355\n",
      "Iteration 300  Current estimate: y = -0.6420937932658433 * x + 5.172069793284766 Cost: 228.52524594986943\n",
      "Iteration 400  Current estimate: y = -0.8160554781852589 * x + 6.573332327196407 Cost: 188.63595906277715\n",
      "Iteration 500  Current estimate: y = -0.9734546445990158 * x + 7.841183663924317 Cost: 155.98064104392154\n",
      "Iteration 600  Current estimate: y = -1.1158681743324268 * x + 8.988325597103357 Cost: 129.24740317153262\n",
      "Iteration 700  Current estimate: y = -1.2447228176779617 * x + 10.026250609868582 Cost: 107.3622692791277\n",
      "Iteration 800  Current estimate: y = -1.3613094870961393 * x + 10.965357010711452 Cost: 89.44603003512722\n",
      "Iteration 900  Current estimate: y = -1.4667961900438484 * x + 11.8150531074983 Cost: 74.77892174936702\n",
      "Iteration 1000  Current estimate: y = -1.5622397304958524 * x + 12.583851463304212 Cost: 62.77171071939301\n",
      "Iteration 1100  Current estimate: y = -1.648596296389555 * x + 13.279454178351335 Cost: 52.94202146440177\n",
      "Iteration 1200  Current estimate: y = -1.7267310390618837 * x + 13.908830052436938 Cost: 44.89495786166459\n",
      "Iteration 1300  Current estimate: y = -1.7974267406485578 * x + 14.478284400892429 Cost: 38.30723866254353\n",
      "Iteration 1400  Current estimate: y = -1.8613916562788748 * x + 14.993522223514702 Cost: 32.91421005124923\n",
      "Iteration 1500  Current estimate: y = -1.9192666096319775 * x + 15.459705359319308 Cost: 28.49921349126829\n",
      "Iteration 1600  Current estimate: y = -1.9716314129404362 * x + 15.88150419971215 Cost: 24.884881725287755\n",
      "Iteration 1700  Current estimate: y = -2.019010675759084 * x + 16.263144478161262 Cost: 21.92601325572035\n",
      "Iteration 1800  Current estimate: y = -2.0618790606934327 * x + 16.608449605124303 Cost: 19.503739046527773\n",
      "Iteration 1900  Current estimate: y = -2.100666038741482 * x + 16.920878972358576 Cost: 17.520747100495903\n",
      "Iteration 2000  Current estimate: y = -2.135760191889627 * x + 17.203562610359846 Cost: 15.897373065011378\n",
      "Iteration 2100  Current estimate: y = -2.1675131060676733 * x + 17.459332546140928 Cost: 14.568399811055967\n",
      "Iteration 2200  Current estimate: y = -2.1962428934639444 * x + 17.69075117550343 Cost: 13.480437412296949\n",
      "Iteration 2300  Current estimate: y = -2.2222373794883374 * x + 17.90013693404643 Cost: 12.589778268036145\n",
      "Iteration 2400  Current estimate: y = -2.245756986311467 * x + 18.089587524093606 Cost: 11.860641202122501\n",
      "Iteration 2500  Current estimate: y = -2.2670373418682375 * x + 18.26100093023434 Cost: 11.263733996582848\n",
      "Iteration 2600  Current estimate: y = -2.2862916404637894 * x + 18.41609443402049 Cost: 10.775076611460438\n",
      "Iteration 2700  Current estimate: y = -2.3037127786312275 * x + 18.55642181831455 Cost: 10.375037815113883\n",
      "Iteration 2800  Current estimate: y = -2.319475287638908 * x + 18.683388933648818 Cost: 10.04754652273875\n",
      "Iteration 2900  Current estimate: y = -2.3337370820078647 * x + 18.798267782544944 Cost: 9.779446159571398\n",
      "Iteration 3000  Current estimate: y = -2.3466410415566474 * x + 18.902209262895628 Cost: 9.559966111081634\n",
      "Iteration 3100  Current estimate: y = -2.3583164428230607 * x + 18.996254698076292 Cost: 9.380289026291589\n",
      "Iteration 3200  Current estimate: y = -2.368880254203313 * x + 19.081346269299672 Cost: 9.233196591144043\n",
      "Iteration 3300  Current estimate: y = -2.378438307783756 * x + 19.158336454728143 Cost: 9.112779541285361\n",
      "Iteration 3400  Current estimate: y = -2.3870863596050333 * x + 19.22799656990864 Cost: 9.014200264369299\n",
      "Iteration 3500  Current estimate: y = -2.3949110489807546 * x + 19.291024495090983 Cost: 8.93349845471112\n",
      "Iteration 3600  Current estimate: y = -2.401990766481511 * x + 19.34805166684485 Cost: 8.867432012697625\n",
      "Iteration 3700  Current estimate: y = -2.4083964392799797 * x + 19.399649404019865 Cost: 8.813346797275454\n",
      "Iteration 3800  Current estimate: y = -2.4141922417250155 * x + 19.44633463142465 Cost: 8.769069998977995\n",
      "Iteration 3900  Current estimate: y = -2.419436238263504 * x + 19.488575058566685 Cost: 8.73282284987875\n",
      "Iteration 4000  Current estimate: y = -2.424180965151019 * x + 19.526793865335563 Cost: 8.703149163696683\n",
      "Iteration 4100  Current estimate: y = -2.428473956779045 * x + 19.56137394157209 Cost: 8.678856835237426\n",
      "Iteration 4200  Current estimate: y = -2.4323582218917084 * x + 19.592661722997484 Cost: 8.658969948978951\n",
      "Iteration 4300  Current estimate: y = -2.4358726744629524 * x + 19.620970661931807 Cost: 8.642689572821464\n",
      "Iteration 4400  Current estimate: y = -2.4390525235508185 * x + 19.646584367572686 Cost: 8.629361661936676\n",
      "Iteration 4500  Current estimate: y = -2.4419296260345265 * x + 19.669759447295053 Cost: 8.618450783291436\n",
      "Iteration 4600  Current estimate: y = -2.444532805768227 * x + 19.690728077436592 Cost: 8.609518605259927\n",
      "Iteration 4700  Current estimate: y = -2.4468881423488047 * x + 19.709700329324388 Cost: 8.60220628816974\n",
      "Iteration 4800  Current estimate: y = -2.449019232390721 * x + 19.72686627384553 Cost: 8.59622006834308\n",
      "Iteration 4900  Current estimate: y = -2.450947425925441 * x + 19.742397885646056 Cost: 8.591319456488982\n",
      "Iteration 5000  Current estimate: y = -2.4526920402937717 * x + 19.756450766035165 Cost: 8.5873075763309\n",
      "Iteration 5100  Current estimate: y = -2.4542705536739753 * x + 19.769165701855563 Cost: 8.584023255335477\n",
      "Iteration 5200  Current estimate: y = -2.4556987801844965 * x + 19.780670075936904 Cost: 8.581334549796948\n",
      "Iteration 5300  Current estimate: y = -2.4569910283155174 * x + 19.791079143263175 Cost: 8.579133444155014\n",
      "Iteration 5400  Current estimate: y = -2.4581602442765864 * x + 19.800497185638758 Cost: 8.577331511597684\n",
      "Iteration 5500  Current estimate: y = -2.4592181416964425 * x + 19.80901855642137 Cost: 8.575856361618827\n",
      "Iteration 5600  Current estimate: y = -2.4601753189743794 * x + 19.816728625788134 Cost: 8.57464873181533\n",
      "Iteration 5700  Current estimate: y = -2.461041365458852 * x + 19.82370463600485 Cost: 8.573660107090257\n",
      "Model training complete after 5700 iterations\n"
     ]
    }
   ],
   "source": [
    "# Let's retrain our model, this time using the standardized feature\n",
    "model_norm = gradient_descent(data.standardized_age_when_trained, data.mean_rescues_per_year, learning_rate=5E-4, number_of_iterations=8000)"
   ]
  },
  {
   "cell_type": "markdown",
   "metadata": {},
   "source": [
    "Despite still being allowed a maximum of 8000 iterations, the model stopped at the 5700 mark.\n",
    "\n",
    "Why? Because this time, using the standardized feature, it was quickly able to reach a point where the cost could no longer be improved.\n",
    "\n",
    "In other words, it \"converged\" much faster than the previous version."
   ]
  },
  {
   "cell_type": "code",
   "execution_count": 20,
   "metadata": {},
   "outputs": [
    {
     "ename": "ValueError",
     "evalue": "Mime type rendering requires nbformat>=4.2.0 but it is not installed",
     "output_type": "error",
     "traceback": [
      "\u001b[1;31m---------------------------------------------------------------------------\u001b[0m",
      "\u001b[1;31mValueError\u001b[0m                                Traceback (most recent call last)",
      "File \u001b[1;32m~\\AppData\\Local\\Packages\\PythonSoftwareFoundation.Python.3.10_qbz5n2kfra8p0\\LocalCache\\local-packages\\Python310\\site-packages\\IPython\\core\\formatters.py:921\u001b[0m, in \u001b[0;36mIPythonDisplayFormatter.__call__\u001b[1;34m(self, obj)\u001b[0m\n\u001b[0;32m    919\u001b[0m method \u001b[39m=\u001b[39m get_real_method(obj, \u001b[39mself\u001b[39m\u001b[39m.\u001b[39mprint_method)\n\u001b[0;32m    920\u001b[0m \u001b[39mif\u001b[39;00m method \u001b[39mis\u001b[39;00m \u001b[39mnot\u001b[39;00m \u001b[39mNone\u001b[39;00m:\n\u001b[1;32m--> 921\u001b[0m     method()\n\u001b[0;32m    922\u001b[0m     \u001b[39mreturn\u001b[39;00m \u001b[39mTrue\u001b[39;00m\n",
      "File \u001b[1;32m~\\AppData\\Local\\Packages\\PythonSoftwareFoundation.Python.3.10_qbz5n2kfra8p0\\LocalCache\\local-packages\\Python310\\site-packages\\plotly\\basedatatypes.py:834\u001b[0m, in \u001b[0;36mBaseFigure._ipython_display_\u001b[1;34m(self)\u001b[0m\n\u001b[0;32m    831\u001b[0m \u001b[39mimport\u001b[39;00m \u001b[39mplotly\u001b[39;00m\u001b[39m.\u001b[39;00m\u001b[39mio\u001b[39;00m \u001b[39mas\u001b[39;00m \u001b[39mpio\u001b[39;00m\n\u001b[0;32m    833\u001b[0m \u001b[39mif\u001b[39;00m pio\u001b[39m.\u001b[39mrenderers\u001b[39m.\u001b[39mrender_on_display \u001b[39mand\u001b[39;00m pio\u001b[39m.\u001b[39mrenderers\u001b[39m.\u001b[39mdefault:\n\u001b[1;32m--> 834\u001b[0m     pio\u001b[39m.\u001b[39;49mshow(\u001b[39mself\u001b[39;49m)\n\u001b[0;32m    835\u001b[0m \u001b[39melse\u001b[39;00m:\n\u001b[0;32m    836\u001b[0m     \u001b[39mprint\u001b[39m(\u001b[39mrepr\u001b[39m(\u001b[39mself\u001b[39m))\n",
      "File \u001b[1;32m~\\AppData\\Local\\Packages\\PythonSoftwareFoundation.Python.3.10_qbz5n2kfra8p0\\LocalCache\\local-packages\\Python310\\site-packages\\plotly\\io\\_renderers.py:396\u001b[0m, in \u001b[0;36mshow\u001b[1;34m(fig, renderer, validate, **kwargs)\u001b[0m\n\u001b[0;32m    391\u001b[0m         \u001b[39mraise\u001b[39;00m \u001b[39mValueError\u001b[39;00m(\n\u001b[0;32m    392\u001b[0m             \u001b[39m\"\u001b[39m\u001b[39mMime type rendering requires ipython but it is not installed\u001b[39m\u001b[39m\"\u001b[39m\n\u001b[0;32m    393\u001b[0m         )\n\u001b[0;32m    395\u001b[0m     \u001b[39mif\u001b[39;00m \u001b[39mnot\u001b[39;00m nbformat \u001b[39mor\u001b[39;00m Version(nbformat\u001b[39m.\u001b[39m__version__) \u001b[39m<\u001b[39m Version(\u001b[39m\"\u001b[39m\u001b[39m4.2.0\u001b[39m\u001b[39m\"\u001b[39m):\n\u001b[1;32m--> 396\u001b[0m         \u001b[39mraise\u001b[39;00m \u001b[39mValueError\u001b[39;00m(\n\u001b[0;32m    397\u001b[0m             \u001b[39m\"\u001b[39m\u001b[39mMime type rendering requires nbformat>=4.2.0 but it is not installed\u001b[39m\u001b[39m\"\u001b[39m\n\u001b[0;32m    398\u001b[0m         )\n\u001b[0;32m    400\u001b[0m     ipython_display\u001b[39m.\u001b[39mdisplay(bundle, raw\u001b[39m=\u001b[39m\u001b[39mTrue\u001b[39;00m)\n\u001b[0;32m    402\u001b[0m \u001b[39m# external renderers\u001b[39;00m\n",
      "\u001b[1;31mValueError\u001b[0m: Mime type rendering requires nbformat>=4.2.0 but it is not installed"
     ]
    },
    {
     "data": {
      "application/vnd.plotly.v1+json": {
       "config": {
        "plotlyServerURL": "https://plot.ly"
       },
       "data": [
        {
         "hovertemplate": "standardized age when trained=%{x}<br>mean rescues per year=%{y}<extra></extra>",
         "legendgroup": "",
         "marker": {
          "color": "#636efa",
          "size": 19,
          "symbol": "circle"
         },
         "mode": "markers",
         "name": "",
         "orientation": "v",
         "showlegend": false,
         "type": "scatter",
         "x": [
          1.5376542162729387,
          0.8266550410542556,
          0.257855700879309,
          -1.5433422096746885,
          -1.4959422646601095,
          0.6844552060105189,
          -1.1167427045434786,
          1.3006544912000444,
          0.35265559090846677,
          0.0208559758064146,
          0.0208559758064146,
          -1.0219428145143208,
          -0.4531434743393742,
          0.6844552060105189,
          0.7318551510250978,
          -0.02654396920816428,
          0.11565586583557236,
          0.7792550960396767,
          1.06365476612715,
          -1.2589425395872151,
          -0.5953433093831109,
          -0.07394391422274316,
          -0.4531434743393742,
          -0.31094363929563756,
          1.016254821112571,
          -1.4011423746309517,
          -1.6381420997038463,
          1.5376542162729387,
          -0.8323430344560052,
          -1.2589425395872151,
          1.6798540513166753,
          -0.8323430344560052,
          1.6324541063020965,
          0.9214549310834134,
          -0.02654396920816428,
          0.5422553709667823,
          -0.6901431994122686,
          -0.7375431444268475,
          -1.353742429616373,
          -0.8797429794705841,
          1.6798540513166753,
          1.3954543812292022,
          1.2532545461854654,
          0.40005553592304566,
          1.2058546011708866,
          -0.5953433093831109,
          -0.31094363929563756,
          -1.353742429616373,
          -0.7849430894414263,
          -0.5953433093831109
         ],
         "xaxis": "x",
         "y": [
          21.1,
          14.9,
          20.5,
          19.4,
          24.9,
          12.9,
          21.1,
          16.6,
          15.3,
          19.6,
          20.2,
          24.2,
          21.8,
          20,
          23.8,
          19.8,
          18.3,
          19.2,
          17.9,
          21.5,
          20.9,
          19.3,
          19.5,
          19.3,
          14.1,
          24,
          32.4,
          17.7,
          24.5,
          21.1,
          15.4,
          23,
          16.8,
          13.4,
          21.7,
          15.8,
          14.9,
          15.9,
          23.7,
          25.4,
          15.3,
          16.5,
          21.2,
          16.7,
          16.7,
          23.6,
          24.3,
          21.8,
          25.9,
          20.7
         ],
         "yaxis": "y"
        }
       ],
       "layout": {
        "legend": {
         "tracegroupgap": 0
        },
        "shapes": [
         {
          "line": {
           "color": "rgb(228,26,28)"
          },
          "path": "M-1.6381420997038463 23.855240105875637 L -1.621468752211281 23.814206307995764 L -1.6047954047187154 23.77317251011589 L -1.58812205722615 23.732138712236015 L -1.5714487097335845 23.691104914356142 L -1.5547753622410192 23.65007111647627 L -1.5381020147484536 23.609037318596396 L -1.5214286672558883 23.568003520716523 L -1.5047553197633228 23.52696972283665 L -1.4880819722707574 23.485935924956777 L -1.471408624778192 23.444902127076904 L -1.4547352772856266 23.40386832919703 L -1.438061929793061 23.36283453131716 L -1.4213885823004957 23.321800733437286 L -1.4047152348079301 23.280766935557413 L -1.3880418873153648 23.23973313767754 L -1.3713685398227993 23.198699339797667 L -1.354695192330234 23.157665541917794 L -1.3380218448376684 23.116631744037917 L -1.321348497345103 23.075597946158048 L -1.3046751498525375 23.03456414827817 L -1.2880018023599722 22.9935303503983 L -1.2713284548674066 22.952496552518426 L -1.2546551073748413 22.911462754638553 L -1.2379817598822758 22.87042895675868 L -1.2213084123897104 22.829395158878807 L -1.2046350648971451 22.788361360998934 L -1.1879617174045796 22.74732756311906 L -1.171288369912014 22.706293765239188 L -1.1546150224194487 22.665259967359315 L -1.1379416749268834 22.624226169479442 L -1.1212683274343178 22.58319237159957 L -1.1045949799417523 22.542158573719696 L -1.087921632449187 22.501124775839823 L -1.0712482849566216 22.46009097795995 L -1.054574937464056 22.419057180080074 L -1.0379015899714905 22.3780233822002 L -1.0212282424789252 22.336989584320328 L -1.0045548949863599 22.295955786440455 L -0.9878815474937943 22.254921988560582 L -0.9712082000012289 22.21388819068071 L -0.9545348525086634 22.172854392800836 L -0.937861505016098 22.131820594920963 L -0.9211881575235326 22.09078679704109 L -0.9045148100309671 22.049752999161218 L -0.8878414625384017 22.008719201281345 L -0.8711681150458362 21.96768540340147 L -0.8544947675532708 21.9266516055216 L -0.8378214200607055 21.885617807641726 L -0.82114807256814 21.844584009761853 L -0.8044747250755746 21.803550211881976 L -0.7878013775830092 21.762516414002103 L -0.7711280300904437 21.72148261612223 L -0.7544546825978783 21.680448818242358 L -0.7377813351053129 21.639415020362485 L -0.7211079876127474 21.59838122248261 L -0.704434640120182 21.55734742460274 L -0.6877612926276165 21.516313626722866 L -0.6710879451350511 21.475279828842993 L -0.6544145976424857 21.43424603096312 L -0.6377412501499202 21.393212233083247 L -0.6210679026573547 21.352178435203374 L -0.6043945551647893 21.3111446373235 L -0.5877212076722238 21.27011083944363 L -0.5710478601796585 21.229077041563755 L -0.5543745126870931 21.188043243683882 L -0.5377011651945276 21.14700944580401 L -0.5210278177019623 21.105975647924133 L -0.5043544702093967 21.06494185004426 L -0.4876811227168314 21.023908052164387 L -0.47100777522426585 20.982874254284514 L -0.4543344277317005 20.94184045640464 L -0.43766108023913497 20.90080665852477 L -0.42098773274656964 20.859772860644895 L -0.4043143852540041 20.818739062765022 L -0.38764103776143877 20.77770526488515 L -0.3709676902688732 20.736671467005277 L -0.3542943427763079 20.695637669125404 L -0.33762099528374234 20.65460387124553 L -0.320947647791177 20.613570073365658 L -0.30427430029861147 20.572536275485785 L -0.28760095280604614 20.531502477605912 L -0.2709276053134806 20.490468679726035 L -0.25425425782091526 20.449434881846162 L -0.23758091032834971 20.40840108396629 L -0.2209075628357844 20.367367286086417 L -0.20423421534321884 20.326333488206544 L -0.1875608678506535 20.28529969032667 L -0.17088752035808796 20.244265892446798 L -0.15421417286552264 20.203232094566925 L -0.1375408253729571 20.162198296687052 L -0.12086747788039176 20.12116449880718 L -0.10419413038782621 20.080130700927306 L -0.08752078289526088 20.039096903047433 L -0.07084743540269534 19.99806310516756 L -0.05417408791013001 19.957029307287687 L -0.03750074041756468 19.915995509407814 L -0.020827392924999133 19.87496171152794 L -0.004154045432433806 19.83392791364807 L 0.012519302060131743 19.792894115768192 L 0.02919264955269707 19.75186031788832 L 0.04586599704526262 19.710826520008446 L 0.06253934453782795 19.669792722128573 L 0.0792126920303935 19.6287589242487 L 0.09588603952295882 19.587725126368827 L 0.11255938701552437 19.546691328488954 L 0.1292327345080897 19.50565753060908 L 0.14590608200065525 19.46462373272921 L 0.16257942949322057 19.423589934849335 L 0.17925277698578612 19.382556136969463 L 0.19592612447835145 19.34152233908959 L 0.212599471970917 19.300488541209717 L 0.22927281946348232 19.259454743329844 L 0.24594616695604787 19.218420945449967 L 0.2626195144486132 19.177387147570094 L 0.27929286194117875 19.13635334969022 L 0.2959662094337441 19.09531955181035 L 0.3126395569263096 19.054285753930476 L 0.32931290441887495 19.013251956050603 L 0.3459862519114405 18.97221815817073 L 0.36265959940400583 18.931184360290857 L 0.37933294689657115 18.890150562410984 L 0.3960062943891369 18.84911676453111 L 0.41267964188170225 18.808082966651238 L 0.4293529893742676 18.767049168771365 L 0.4460263368668329 18.726015370891492 L 0.4626996843593987 18.68498157301162 L 0.479373031851964 18.643947775131743 L 0.49604637934452933 18.602913977251873 L 0.5127197268370947 18.561880179372 L 0.52939307432966 18.520846381492127 L 0.5460664218222258 18.47981258361225 L 0.5627397693147911 18.438778785732378 L 0.5794131168073564 18.397744987852505 L 0.5960864642999217 18.356711189972632 L 0.6127598117924875 18.31567739209276 L 0.6294331592850528 18.274643594212886 L 0.6461065067776182 18.233609796333013 L 0.6627798542701835 18.19257599845314 L 0.6794532017627493 18.151542200573267 L 0.6961265492553146 18.110508402693394 L 0.7127998967478799 18.06947460481352 L 0.7294732442404452 18.02844080693365 L 0.746146591733011 17.987407009053772 L 0.7628199392255763 17.9463732111739 L 0.7794932867181417 17.90533941329403 L 0.796166634210707 17.864305615414153 L 0.8128399817032728 17.82327181753428 L 0.8295133291958381 17.782238019654407 L 0.8461866766884034 17.741204221774534 L 0.8628600241809687 17.70017042389466 L 0.8795333716735345 17.65913662601479 L 0.8962067191660998 17.618102828134916 L 0.9128800666586652 17.577069030255043 L 0.9295534141512305 17.53603523237517 L 0.9462267616437963 17.495001434495297 L 0.9629001091363616 17.453967636615424 L 0.9795734566289269 17.41293383873555 L 0.9962468041214922 17.371900040855678 L 1.012920151614058 17.3308662429758 L 1.0295934991066233 17.28983244509593 L 1.0462668465991887 17.248798647216056 L 1.062940194091754 17.207764849336186 L 1.0796135415843193 17.16673105145631 L 1.096286889076885 17.125697253576437 L 1.1129602365694504 17.084663455696564 L 1.1296335840620157 17.04362965781669 L 1.146306931554581 17.002595859936818 L 1.1629802790471468 16.961562062056945 L 1.1796536265397122 16.920528264177072 L 1.1963269740322775 16.8794944662972 L 1.2130003215248428 16.838460668417326 L 1.2296736690174086 16.797426870537453 L 1.246347016509974 16.75639307265758 L 1.2630203640025393 16.715359274777708 L 1.2796937114951046 16.674325476897835 L 1.2963670589876704 16.633291679017958 L 1.3130404064802357 16.592257881138085 L 1.329713753972801 16.551224083258212 L 1.3463871014653663 16.51019028537834 L 1.363060448957932 16.469156487498466 L 1.3797337964504974 16.428122689618593 L 1.3964071439430628 16.38708889173872 L 1.413080491435628 16.346055093858848 L 1.4297538389281939 16.305021295978975 L 1.4464271864207592 16.2639874980991 L 1.4631005339133245 16.22295370021923 L 1.4797738814058898 16.181919902339356 L 1.4964472288984556 16.140886104459483 L 1.513120576391021 16.09985230657961 L 1.5297939238835863 16.058818508699737 L 1.5464672713761516 16.017784710819864 L 1.563140618868717 15.97675091293999 L 1.5798139663612827 15.935717115060116 L 1.596487313853848 15.894683317180244 L 1.6131606613464133 15.85364951930037 L 1.6298340088389787 15.812615721420496 L 1.6465073563315444 15.771581923540623 L 1.6631807038241098 15.73054812566075 L 1.6798540513166753 15.689514327780877",
          "type": "path"
         }
        ],
        "template": {
         "data": {
          "bar": [
           {
            "error_x": {
             "color": "#2a3f5f"
            },
            "error_y": {
             "color": "#2a3f5f"
            },
            "marker": {
             "line": {
              "color": "white",
              "width": 0.5
             },
             "pattern": {
              "fillmode": "overlay",
              "size": 10,
              "solidity": 0.2
             }
            },
            "type": "bar"
           }
          ],
          "barpolar": [
           {
            "marker": {
             "line": {
              "color": "white",
              "width": 0.5
             },
             "pattern": {
              "fillmode": "overlay",
              "size": 10,
              "solidity": 0.2
             }
            },
            "type": "barpolar"
           }
          ],
          "box": [
           {
            "boxpoints": "outliers",
            "notched": false,
            "type": "box"
           }
          ],
          "carpet": [
           {
            "aaxis": {
             "endlinecolor": "#2a3f5f",
             "gridcolor": "#C8D4E3",
             "linecolor": "#C8D4E3",
             "minorgridcolor": "#C8D4E3",
             "startlinecolor": "#2a3f5f"
            },
            "baxis": {
             "endlinecolor": "#2a3f5f",
             "gridcolor": "#C8D4E3",
             "linecolor": "#C8D4E3",
             "minorgridcolor": "#C8D4E3",
             "startlinecolor": "#2a3f5f"
            },
            "type": "carpet"
           }
          ],
          "choropleth": [
           {
            "colorbar": {
             "outlinewidth": 0,
             "ticks": ""
            },
            "type": "choropleth"
           }
          ],
          "contour": [
           {
            "colorbar": {
             "outlinewidth": 0,
             "ticks": ""
            },
            "colorscale": [
             [
              0,
              "#0d0887"
             ],
             [
              0.1111111111111111,
              "#46039f"
             ],
             [
              0.2222222222222222,
              "#7201a8"
             ],
             [
              0.3333333333333333,
              "#9c179e"
             ],
             [
              0.4444444444444444,
              "#bd3786"
             ],
             [
              0.5555555555555556,
              "#d8576b"
             ],
             [
              0.6666666666666666,
              "#ed7953"
             ],
             [
              0.7777777777777778,
              "#fb9f3a"
             ],
             [
              0.8888888888888888,
              "#fdca26"
             ],
             [
              1,
              "#f0f921"
             ]
            ],
            "type": "contour"
           }
          ],
          "contourcarpet": [
           {
            "colorbar": {
             "outlinewidth": 0,
             "ticks": ""
            },
            "type": "contourcarpet"
           }
          ],
          "heatmap": [
           {
            "colorbar": {
             "outlinewidth": 0,
             "ticks": ""
            },
            "colorscale": [
             [
              0,
              "#0d0887"
             ],
             [
              0.1111111111111111,
              "#46039f"
             ],
             [
              0.2222222222222222,
              "#7201a8"
             ],
             [
              0.3333333333333333,
              "#9c179e"
             ],
             [
              0.4444444444444444,
              "#bd3786"
             ],
             [
              0.5555555555555556,
              "#d8576b"
             ],
             [
              0.6666666666666666,
              "#ed7953"
             ],
             [
              0.7777777777777778,
              "#fb9f3a"
             ],
             [
              0.8888888888888888,
              "#fdca26"
             ],
             [
              1,
              "#f0f921"
             ]
            ],
            "type": "heatmap"
           }
          ],
          "heatmapgl": [
           {
            "colorbar": {
             "outlinewidth": 0,
             "ticks": ""
            },
            "colorscale": [
             [
              0,
              "#0d0887"
             ],
             [
              0.1111111111111111,
              "#46039f"
             ],
             [
              0.2222222222222222,
              "#7201a8"
             ],
             [
              0.3333333333333333,
              "#9c179e"
             ],
             [
              0.4444444444444444,
              "#bd3786"
             ],
             [
              0.5555555555555556,
              "#d8576b"
             ],
             [
              0.6666666666666666,
              "#ed7953"
             ],
             [
              0.7777777777777778,
              "#fb9f3a"
             ],
             [
              0.8888888888888888,
              "#fdca26"
             ],
             [
              1,
              "#f0f921"
             ]
            ],
            "type": "heatmapgl"
           }
          ],
          "histogram": [
           {
            "marker": {
             "line": {
              "width": 1
             },
             "pattern": {
              "fillmode": "overlay",
              "size": 10,
              "solidity": 0.2
             }
            },
            "type": "histogram"
           }
          ],
          "histogram2d": [
           {
            "colorbar": {
             "outlinewidth": 0,
             "ticks": ""
            },
            "colorscale": [
             [
              0,
              "#0d0887"
             ],
             [
              0.1111111111111111,
              "#46039f"
             ],
             [
              0.2222222222222222,
              "#7201a8"
             ],
             [
              0.3333333333333333,
              "#9c179e"
             ],
             [
              0.4444444444444444,
              "#bd3786"
             ],
             [
              0.5555555555555556,
              "#d8576b"
             ],
             [
              0.6666666666666666,
              "#ed7953"
             ],
             [
              0.7777777777777778,
              "#fb9f3a"
             ],
             [
              0.8888888888888888,
              "#fdca26"
             ],
             [
              1,
              "#f0f921"
             ]
            ],
            "type": "histogram2d"
           }
          ],
          "histogram2dcontour": [
           {
            "colorbar": {
             "outlinewidth": 0,
             "ticks": ""
            },
            "colorscale": [
             [
              0,
              "#0d0887"
             ],
             [
              0.1111111111111111,
              "#46039f"
             ],
             [
              0.2222222222222222,
              "#7201a8"
             ],
             [
              0.3333333333333333,
              "#9c179e"
             ],
             [
              0.4444444444444444,
              "#bd3786"
             ],
             [
              0.5555555555555556,
              "#d8576b"
             ],
             [
              0.6666666666666666,
              "#ed7953"
             ],
             [
              0.7777777777777778,
              "#fb9f3a"
             ],
             [
              0.8888888888888888,
              "#fdca26"
             ],
             [
              1,
              "#f0f921"
             ]
            ],
            "type": "histogram2dcontour"
           }
          ],
          "mesh3d": [
           {
            "colorbar": {
             "outlinewidth": 0,
             "ticks": ""
            },
            "type": "mesh3d"
           }
          ],
          "parcoords": [
           {
            "line": {
             "colorbar": {
              "outlinewidth": 0,
              "ticks": ""
             }
            },
            "type": "parcoords"
           }
          ],
          "pie": [
           {
            "automargin": true,
            "type": "pie"
           }
          ],
          "scatter": [
           {
            "fillpattern": {
             "fillmode": "overlay",
             "size": 10,
             "solidity": 0.2
            },
            "marker": {
             "opacity": 0.8
            },
            "type": "scatter"
           }
          ],
          "scatter3d": [
           {
            "line": {
             "colorbar": {
              "outlinewidth": 0,
              "ticks": ""
             }
            },
            "marker": {
             "colorbar": {
              "outlinewidth": 0,
              "ticks": ""
             },
             "opacity": 0.8
            },
            "type": "scatter3d"
           }
          ],
          "scattercarpet": [
           {
            "marker": {
             "colorbar": {
              "outlinewidth": 0,
              "ticks": ""
             }
            },
            "type": "scattercarpet"
           }
          ],
          "scattergeo": [
           {
            "marker": {
             "colorbar": {
              "outlinewidth": 0,
              "ticks": ""
             }
            },
            "type": "scattergeo"
           }
          ],
          "scattergl": [
           {
            "marker": {
             "colorbar": {
              "outlinewidth": 0,
              "ticks": ""
             }
            },
            "type": "scattergl"
           }
          ],
          "scattermapbox": [
           {
            "marker": {
             "colorbar": {
              "outlinewidth": 0,
              "ticks": ""
             }
            },
            "type": "scattermapbox"
           }
          ],
          "scatterpolar": [
           {
            "marker": {
             "colorbar": {
              "outlinewidth": 0,
              "ticks": ""
             }
            },
            "type": "scatterpolar"
           }
          ],
          "scatterpolargl": [
           {
            "marker": {
             "colorbar": {
              "outlinewidth": 0,
              "ticks": ""
             }
            },
            "type": "scatterpolargl"
           }
          ],
          "scatterternary": [
           {
            "marker": {
             "colorbar": {
              "outlinewidth": 0,
              "ticks": ""
             }
            },
            "type": "scatterternary"
           }
          ],
          "surface": [
           {
            "colorbar": {
             "outlinewidth": 0,
             "ticks": ""
            },
            "colorscale": [
             [
              0,
              "#0d0887"
             ],
             [
              0.1111111111111111,
              "#46039f"
             ],
             [
              0.2222222222222222,
              "#7201a8"
             ],
             [
              0.3333333333333333,
              "#9c179e"
             ],
             [
              0.4444444444444444,
              "#bd3786"
             ],
             [
              0.5555555555555556,
              "#d8576b"
             ],
             [
              0.6666666666666666,
              "#ed7953"
             ],
             [
              0.7777777777777778,
              "#fb9f3a"
             ],
             [
              0.8888888888888888,
              "#fdca26"
             ],
             [
              1,
              "#f0f921"
             ]
            ],
            "type": "surface"
           }
          ],
          "table": [
           {
            "cells": {
             "fill": {
              "color": "#EBF0F8"
             },
             "line": {
              "color": "white"
             }
            },
            "header": {
             "fill": {
              "color": "#C8D4E3"
             },
             "line": {
              "color": "white"
             }
            },
            "type": "table"
           }
          ]
         },
         "layout": {
          "annotationdefaults": {
           "arrowcolor": "#2a3f5f",
           "arrowhead": 0,
           "arrowwidth": 1
          },
          "autotypenumbers": "strict",
          "coloraxis": {
           "colorbar": {
            "outlinewidth": 0,
            "ticks": ""
           }
          },
          "colorscale": {
           "diverging": [
            [
             0,
             "#8e0152"
            ],
            [
             0.1,
             "#c51b7d"
            ],
            [
             0.2,
             "#de77ae"
            ],
            [
             0.3,
             "#f1b6da"
            ],
            [
             0.4,
             "#fde0ef"
            ],
            [
             0.5,
             "#f7f7f7"
            ],
            [
             0.6,
             "#e6f5d0"
            ],
            [
             0.7,
             "#b8e186"
            ],
            [
             0.8,
             "#7fbc41"
            ],
            [
             0.9,
             "#4d9221"
            ],
            [
             1,
             "#276419"
            ]
           ],
           "sequential": [
            [
             0,
             "#0d0887"
            ],
            [
             0.1111111111111111,
             "#46039f"
            ],
            [
             0.2222222222222222,
             "#7201a8"
            ],
            [
             0.3333333333333333,
             "#9c179e"
            ],
            [
             0.4444444444444444,
             "#bd3786"
            ],
            [
             0.5555555555555556,
             "#d8576b"
            ],
            [
             0.6666666666666666,
             "#ed7953"
            ],
            [
             0.7777777777777778,
             "#fb9f3a"
            ],
            [
             0.8888888888888888,
             "#fdca26"
            ],
            [
             1,
             "#f0f921"
            ]
           ],
           "sequentialminus": [
            [
             0,
             "#0d0887"
            ],
            [
             0.1111111111111111,
             "#46039f"
            ],
            [
             0.2222222222222222,
             "#7201a8"
            ],
            [
             0.3333333333333333,
             "#9c179e"
            ],
            [
             0.4444444444444444,
             "#bd3786"
            ],
            [
             0.5555555555555556,
             "#d8576b"
            ],
            [
             0.6666666666666666,
             "#ed7953"
            ],
            [
             0.7777777777777778,
             "#fb9f3a"
            ],
            [
             0.8888888888888888,
             "#fdca26"
            ],
            [
             1,
             "#f0f921"
            ]
           ]
          },
          "colorway": [
           "#636efa",
           "#EF553B",
           "#00cc96",
           "#ab63fa",
           "#FFA15A",
           "#19d3f3",
           "#FF6692",
           "#B6E880",
           "#FF97FF",
           "#FECB52"
          ],
          "font": {
           "color": "#2a3f5f"
          },
          "geo": {
           "bgcolor": "white",
           "lakecolor": "white",
           "landcolor": "white",
           "showlakes": true,
           "showland": true,
           "subunitcolor": "#C8D4E3"
          },
          "height": 400,
          "hoverlabel": {
           "align": "left"
          },
          "hovermode": "closest",
          "mapbox": {
           "style": "light"
          },
          "margin": {
           "b": 2,
           "l": 2,
           "r": 2,
           "t": 30
          },
          "paper_bgcolor": "white",
          "plot_bgcolor": "white",
          "polar": {
           "angularaxis": {
            "gridcolor": "#EBF0F8",
            "linecolor": "#EBF0F8",
            "ticks": ""
           },
           "bgcolor": "white",
           "radialaxis": {
            "gridcolor": "#EBF0F8",
            "linecolor": "#EBF0F8",
            "ticks": ""
           }
          },
          "scene": {
           "camera": {
            "eye": {
             "x": 1.5,
             "y": 1.5,
             "z": 0.1
            }
           },
           "xaxis": {
            "backgroundcolor": "white",
            "gridcolor": "#DFE8F3",
            "gridwidth": 2,
            "linecolor": "#EBF0F8",
            "showbackground": true,
            "ticks": "",
            "zerolinecolor": "#EBF0F8"
           },
           "yaxis": {
            "backgroundcolor": "white",
            "gridcolor": "#DFE8F3",
            "gridwidth": 2,
            "linecolor": "#EBF0F8",
            "showbackground": true,
            "ticks": "",
            "zerolinecolor": "#EBF0F8"
           },
           "zaxis": {
            "backgroundcolor": "white",
            "gridcolor": "#DFE8F3",
            "gridwidth": 2,
            "linecolor": "#EBF0F8",
            "showbackground": true,
            "ticks": "",
            "zerolinecolor": "#EBF0F8"
           }
          },
          "shapedefaults": {
           "line": {
            "color": "#2a3f5f"
           }
          },
          "ternary": {
           "aaxis": {
            "gridcolor": "#DFE8F3",
            "linecolor": "#A2B1C6",
            "ticks": ""
           },
           "baxis": {
            "gridcolor": "#DFE8F3",
            "linecolor": "#A2B1C6",
            "ticks": ""
           },
           "bgcolor": "white",
           "caxis": {
            "gridcolor": "#DFE8F3",
            "linecolor": "#A2B1C6",
            "ticks": ""
           }
          },
          "title": {
           "x": 0.5
          },
          "xaxis": {
           "automargin": true,
           "gridcolor": "#EBF0F8",
           "linecolor": "#EBF0F8",
           "linewidth": 2,
           "showline": true,
           "ticks": "",
           "title": {
            "standoff": 15
           },
           "zerolinecolor": "#EBF0F8",
           "zerolinewidth": 2
          },
          "yaxis": {
           "automargin": true,
           "gridcolor": "#EBF0F8",
           "linecolor": "#EBF0F8",
           "linewidth": 2,
           "showline": true,
           "ticks": "",
           "title": {
            "standoff": 15
           },
           "zerolinecolor": "#EBF0F8",
           "zerolinewidth": 2
          }
         }
        },
        "xaxis": {
         "anchor": "y",
         "domain": [
          0,
          1
         ],
         "title": {
          "text": "standardized age when trained"
         }
        },
        "yaxis": {
         "anchor": "x",
         "domain": [
          0,
          1
         ],
         "title": {
          "text": "mean rescues per year"
         }
        }
       }
      },
      "text/html": [
       "<div>                        <script type=\"text/javascript\">window.PlotlyConfig = {MathJaxConfig: 'local'};</script>\n",
       "        <script charset=\"utf-8\" src=\"https://cdn.plot.ly/plotly-2.24.1.min.js\"></script>                <div id=\"8f7e1e77-f22e-481b-8fdb-2d9c2e3ad32b\" class=\"plotly-graph-div\" style=\"height:400px; width:100%;\"></div>            <script type=\"text/javascript\">                                    window.PLOTLYENV=window.PLOTLYENV || {};                                    if (document.getElementById(\"8f7e1e77-f22e-481b-8fdb-2d9c2e3ad32b\")) {                    Plotly.newPlot(                        \"8f7e1e77-f22e-481b-8fdb-2d9c2e3ad32b\",                        [{\"hovertemplate\":\"standardized age when trained=%{x}\\u003cbr\\u003emean rescues per year=%{y}\\u003cextra\\u003e\\u003c\\u002fextra\\u003e\",\"legendgroup\":\"\",\"marker\":{\"color\":\"#636efa\",\"symbol\":\"circle\",\"size\":19},\"mode\":\"markers\",\"name\":\"\",\"orientation\":\"v\",\"showlegend\":false,\"x\":[1.5376542162729387,0.8266550410542556,0.257855700879309,-1.5433422096746885,-1.4959422646601095,0.6844552060105189,-1.1167427045434786,1.3006544912000444,0.35265559090846677,0.0208559758064146,0.0208559758064146,-1.0219428145143208,-0.4531434743393742,0.6844552060105189,0.7318551510250978,-0.02654396920816428,0.11565586583557236,0.7792550960396767,1.06365476612715,-1.2589425395872151,-0.5953433093831109,-0.07394391422274316,-0.4531434743393742,-0.31094363929563756,1.016254821112571,-1.4011423746309517,-1.6381420997038463,1.5376542162729387,-0.8323430344560052,-1.2589425395872151,1.6798540513166753,-0.8323430344560052,1.6324541063020965,0.9214549310834134,-0.02654396920816428,0.5422553709667823,-0.6901431994122686,-0.7375431444268475,-1.353742429616373,-0.8797429794705841,1.6798540513166753,1.3954543812292022,1.2532545461854654,0.40005553592304566,1.2058546011708866,-0.5953433093831109,-0.31094363929563756,-1.353742429616373,-0.7849430894414263,-0.5953433093831109],\"xaxis\":\"x\",\"y\":[21.1,14.9,20.5,19.4,24.9,12.9,21.1,16.6,15.3,19.6,20.2,24.2,21.8,20.0,23.8,19.8,18.3,19.2,17.9,21.5,20.9,19.3,19.5,19.3,14.1,24.0,32.4,17.7,24.5,21.1,15.4,23.0,16.8,13.4,21.7,15.8,14.9,15.9,23.7,25.4,15.3,16.5,21.2,16.7,16.7,23.6,24.3,21.8,25.9,20.7],\"yaxis\":\"y\",\"type\":\"scatter\"}],                        {\"template\":{\"data\":{\"barpolar\":[{\"marker\":{\"line\":{\"color\":\"white\",\"width\":0.5},\"pattern\":{\"fillmode\":\"overlay\",\"size\":10,\"solidity\":0.2}},\"type\":\"barpolar\"}],\"bar\":[{\"error_x\":{\"color\":\"#2a3f5f\"},\"error_y\":{\"color\":\"#2a3f5f\"},\"marker\":{\"line\":{\"color\":\"white\",\"width\":0.5},\"pattern\":{\"fillmode\":\"overlay\",\"size\":10,\"solidity\":0.2}},\"type\":\"bar\"}],\"carpet\":[{\"aaxis\":{\"endlinecolor\":\"#2a3f5f\",\"gridcolor\":\"#C8D4E3\",\"linecolor\":\"#C8D4E3\",\"minorgridcolor\":\"#C8D4E3\",\"startlinecolor\":\"#2a3f5f\"},\"baxis\":{\"endlinecolor\":\"#2a3f5f\",\"gridcolor\":\"#C8D4E3\",\"linecolor\":\"#C8D4E3\",\"minorgridcolor\":\"#C8D4E3\",\"startlinecolor\":\"#2a3f5f\"},\"type\":\"carpet\"}],\"choropleth\":[{\"colorbar\":{\"outlinewidth\":0,\"ticks\":\"\"},\"type\":\"choropleth\"}],\"contourcarpet\":[{\"colorbar\":{\"outlinewidth\":0,\"ticks\":\"\"},\"type\":\"contourcarpet\"}],\"contour\":[{\"colorbar\":{\"outlinewidth\":0,\"ticks\":\"\"},\"colorscale\":[[0.0,\"#0d0887\"],[0.1111111111111111,\"#46039f\"],[0.2222222222222222,\"#7201a8\"],[0.3333333333333333,\"#9c179e\"],[0.4444444444444444,\"#bd3786\"],[0.5555555555555556,\"#d8576b\"],[0.6666666666666666,\"#ed7953\"],[0.7777777777777778,\"#fb9f3a\"],[0.8888888888888888,\"#fdca26\"],[1.0,\"#f0f921\"]],\"type\":\"contour\"}],\"heatmapgl\":[{\"colorbar\":{\"outlinewidth\":0,\"ticks\":\"\"},\"colorscale\":[[0.0,\"#0d0887\"],[0.1111111111111111,\"#46039f\"],[0.2222222222222222,\"#7201a8\"],[0.3333333333333333,\"#9c179e\"],[0.4444444444444444,\"#bd3786\"],[0.5555555555555556,\"#d8576b\"],[0.6666666666666666,\"#ed7953\"],[0.7777777777777778,\"#fb9f3a\"],[0.8888888888888888,\"#fdca26\"],[1.0,\"#f0f921\"]],\"type\":\"heatmapgl\"}],\"heatmap\":[{\"colorbar\":{\"outlinewidth\":0,\"ticks\":\"\"},\"colorscale\":[[0.0,\"#0d0887\"],[0.1111111111111111,\"#46039f\"],[0.2222222222222222,\"#7201a8\"],[0.3333333333333333,\"#9c179e\"],[0.4444444444444444,\"#bd3786\"],[0.5555555555555556,\"#d8576b\"],[0.6666666666666666,\"#ed7953\"],[0.7777777777777778,\"#fb9f3a\"],[0.8888888888888888,\"#fdca26\"],[1.0,\"#f0f921\"]],\"type\":\"heatmap\"}],\"histogram2dcontour\":[{\"colorbar\":{\"outlinewidth\":0,\"ticks\":\"\"},\"colorscale\":[[0.0,\"#0d0887\"],[0.1111111111111111,\"#46039f\"],[0.2222222222222222,\"#7201a8\"],[0.3333333333333333,\"#9c179e\"],[0.4444444444444444,\"#bd3786\"],[0.5555555555555556,\"#d8576b\"],[0.6666666666666666,\"#ed7953\"],[0.7777777777777778,\"#fb9f3a\"],[0.8888888888888888,\"#fdca26\"],[1.0,\"#f0f921\"]],\"type\":\"histogram2dcontour\"}],\"histogram2d\":[{\"colorbar\":{\"outlinewidth\":0,\"ticks\":\"\"},\"colorscale\":[[0.0,\"#0d0887\"],[0.1111111111111111,\"#46039f\"],[0.2222222222222222,\"#7201a8\"],[0.3333333333333333,\"#9c179e\"],[0.4444444444444444,\"#bd3786\"],[0.5555555555555556,\"#d8576b\"],[0.6666666666666666,\"#ed7953\"],[0.7777777777777778,\"#fb9f3a\"],[0.8888888888888888,\"#fdca26\"],[1.0,\"#f0f921\"]],\"type\":\"histogram2d\"}],\"histogram\":[{\"marker\":{\"pattern\":{\"fillmode\":\"overlay\",\"size\":10,\"solidity\":0.2},\"line\":{\"width\":1}},\"type\":\"histogram\"}],\"mesh3d\":[{\"colorbar\":{\"outlinewidth\":0,\"ticks\":\"\"},\"type\":\"mesh3d\"}],\"parcoords\":[{\"line\":{\"colorbar\":{\"outlinewidth\":0,\"ticks\":\"\"}},\"type\":\"parcoords\"}],\"pie\":[{\"automargin\":true,\"type\":\"pie\"}],\"scatter3d\":[{\"line\":{\"colorbar\":{\"outlinewidth\":0,\"ticks\":\"\"}},\"marker\":{\"colorbar\":{\"outlinewidth\":0,\"ticks\":\"\"},\"opacity\":0.8},\"type\":\"scatter3d\"}],\"scattercarpet\":[{\"marker\":{\"colorbar\":{\"outlinewidth\":0,\"ticks\":\"\"}},\"type\":\"scattercarpet\"}],\"scattergeo\":[{\"marker\":{\"colorbar\":{\"outlinewidth\":0,\"ticks\":\"\"}},\"type\":\"scattergeo\"}],\"scattergl\":[{\"marker\":{\"colorbar\":{\"outlinewidth\":0,\"ticks\":\"\"}},\"type\":\"scattergl\"}],\"scattermapbox\":[{\"marker\":{\"colorbar\":{\"outlinewidth\":0,\"ticks\":\"\"}},\"type\":\"scattermapbox\"}],\"scatterpolargl\":[{\"marker\":{\"colorbar\":{\"outlinewidth\":0,\"ticks\":\"\"}},\"type\":\"scatterpolargl\"}],\"scatterpolar\":[{\"marker\":{\"colorbar\":{\"outlinewidth\":0,\"ticks\":\"\"}},\"type\":\"scatterpolar\"}],\"scatter\":[{\"fillpattern\":{\"fillmode\":\"overlay\",\"size\":10,\"solidity\":0.2},\"type\":\"scatter\",\"marker\":{\"opacity\":0.8}}],\"scatterternary\":[{\"marker\":{\"colorbar\":{\"outlinewidth\":0,\"ticks\":\"\"}},\"type\":\"scatterternary\"}],\"surface\":[{\"colorbar\":{\"outlinewidth\":0,\"ticks\":\"\"},\"colorscale\":[[0.0,\"#0d0887\"],[0.1111111111111111,\"#46039f\"],[0.2222222222222222,\"#7201a8\"],[0.3333333333333333,\"#9c179e\"],[0.4444444444444444,\"#bd3786\"],[0.5555555555555556,\"#d8576b\"],[0.6666666666666666,\"#ed7953\"],[0.7777777777777778,\"#fb9f3a\"],[0.8888888888888888,\"#fdca26\"],[1.0,\"#f0f921\"]],\"type\":\"surface\"}],\"table\":[{\"cells\":{\"fill\":{\"color\":\"#EBF0F8\"},\"line\":{\"color\":\"white\"}},\"header\":{\"fill\":{\"color\":\"#C8D4E3\"},\"line\":{\"color\":\"white\"}},\"type\":\"table\"}],\"box\":[{\"boxpoints\":\"outliers\",\"notched\":false,\"type\":\"box\"}]},\"layout\":{\"annotationdefaults\":{\"arrowcolor\":\"#2a3f5f\",\"arrowhead\":0,\"arrowwidth\":1},\"autotypenumbers\":\"strict\",\"coloraxis\":{\"colorbar\":{\"outlinewidth\":0,\"ticks\":\"\"}},\"colorscale\":{\"diverging\":[[0,\"#8e0152\"],[0.1,\"#c51b7d\"],[0.2,\"#de77ae\"],[0.3,\"#f1b6da\"],[0.4,\"#fde0ef\"],[0.5,\"#f7f7f7\"],[0.6,\"#e6f5d0\"],[0.7,\"#b8e186\"],[0.8,\"#7fbc41\"],[0.9,\"#4d9221\"],[1,\"#276419\"]],\"sequential\":[[0.0,\"#0d0887\"],[0.1111111111111111,\"#46039f\"],[0.2222222222222222,\"#7201a8\"],[0.3333333333333333,\"#9c179e\"],[0.4444444444444444,\"#bd3786\"],[0.5555555555555556,\"#d8576b\"],[0.6666666666666666,\"#ed7953\"],[0.7777777777777778,\"#fb9f3a\"],[0.8888888888888888,\"#fdca26\"],[1.0,\"#f0f921\"]],\"sequentialminus\":[[0.0,\"#0d0887\"],[0.1111111111111111,\"#46039f\"],[0.2222222222222222,\"#7201a8\"],[0.3333333333333333,\"#9c179e\"],[0.4444444444444444,\"#bd3786\"],[0.5555555555555556,\"#d8576b\"],[0.6666666666666666,\"#ed7953\"],[0.7777777777777778,\"#fb9f3a\"],[0.8888888888888888,\"#fdca26\"],[1.0,\"#f0f921\"]]},\"colorway\":[\"#636efa\",\"#EF553B\",\"#00cc96\",\"#ab63fa\",\"#FFA15A\",\"#19d3f3\",\"#FF6692\",\"#B6E880\",\"#FF97FF\",\"#FECB52\"],\"font\":{\"color\":\"#2a3f5f\"},\"geo\":{\"bgcolor\":\"white\",\"lakecolor\":\"white\",\"landcolor\":\"white\",\"showlakes\":true,\"showland\":true,\"subunitcolor\":\"#C8D4E3\"},\"hoverlabel\":{\"align\":\"left\"},\"hovermode\":\"closest\",\"mapbox\":{\"style\":\"light\"},\"paper_bgcolor\":\"white\",\"plot_bgcolor\":\"white\",\"polar\":{\"angularaxis\":{\"gridcolor\":\"#EBF0F8\",\"linecolor\":\"#EBF0F8\",\"ticks\":\"\"},\"bgcolor\":\"white\",\"radialaxis\":{\"gridcolor\":\"#EBF0F8\",\"linecolor\":\"#EBF0F8\",\"ticks\":\"\"}},\"scene\":{\"xaxis\":{\"backgroundcolor\":\"white\",\"gridcolor\":\"#DFE8F3\",\"gridwidth\":2,\"linecolor\":\"#EBF0F8\",\"showbackground\":true,\"ticks\":\"\",\"zerolinecolor\":\"#EBF0F8\"},\"yaxis\":{\"backgroundcolor\":\"white\",\"gridcolor\":\"#DFE8F3\",\"gridwidth\":2,\"linecolor\":\"#EBF0F8\",\"showbackground\":true,\"ticks\":\"\",\"zerolinecolor\":\"#EBF0F8\"},\"zaxis\":{\"backgroundcolor\":\"white\",\"gridcolor\":\"#DFE8F3\",\"gridwidth\":2,\"linecolor\":\"#EBF0F8\",\"showbackground\":true,\"ticks\":\"\",\"zerolinecolor\":\"#EBF0F8\"},\"camera\":{\"eye\":{\"x\":1.5,\"y\":1.5,\"z\":0.1}}},\"shapedefaults\":{\"line\":{\"color\":\"#2a3f5f\"}},\"ternary\":{\"aaxis\":{\"gridcolor\":\"#DFE8F3\",\"linecolor\":\"#A2B1C6\",\"ticks\":\"\"},\"baxis\":{\"gridcolor\":\"#DFE8F3\",\"linecolor\":\"#A2B1C6\",\"ticks\":\"\"},\"bgcolor\":\"white\",\"caxis\":{\"gridcolor\":\"#DFE8F3\",\"linecolor\":\"#A2B1C6\",\"ticks\":\"\"}},\"title\":{\"x\":0.5},\"xaxis\":{\"automargin\":true,\"gridcolor\":\"#EBF0F8\",\"linecolor\":\"#EBF0F8\",\"ticks\":\"\",\"title\":{\"standoff\":15},\"zerolinecolor\":\"#EBF0F8\",\"zerolinewidth\":2,\"linewidth\":2,\"showline\":true},\"yaxis\":{\"automargin\":true,\"gridcolor\":\"#EBF0F8\",\"linecolor\":\"#EBF0F8\",\"ticks\":\"\",\"title\":{\"standoff\":15},\"zerolinecolor\":\"#EBF0F8\",\"zerolinewidth\":2,\"linewidth\":2,\"showline\":true},\"height\":400,\"margin\":{\"b\":2,\"l\":2,\"r\":2,\"t\":30}}},\"xaxis\":{\"anchor\":\"y\",\"domain\":[0.0,1.0],\"title\":{\"text\":\"standardized age when trained\"}},\"yaxis\":{\"anchor\":\"x\",\"domain\":[0.0,1.0],\"title\":{\"text\":\"mean rescues per year\"}},\"legend\":{\"tracegroupgap\":0},\"shapes\":[{\"path\":\"M-1.6381420997038463 23.855240105875637 L -1.621468752211281 23.814206307995764 L -1.6047954047187154 23.77317251011589 L -1.58812205722615 23.732138712236015 L -1.5714487097335845 23.691104914356142 L -1.5547753622410192 23.65007111647627 L -1.5381020147484536 23.609037318596396 L -1.5214286672558883 23.568003520716523 L -1.5047553197633228 23.52696972283665 L -1.4880819722707574 23.485935924956777 L -1.471408624778192 23.444902127076904 L -1.4547352772856266 23.40386832919703 L -1.438061929793061 23.36283453131716 L -1.4213885823004957 23.321800733437286 L -1.4047152348079301 23.280766935557413 L -1.3880418873153648 23.23973313767754 L -1.3713685398227993 23.198699339797667 L -1.354695192330234 23.157665541917794 L -1.3380218448376684 23.116631744037917 L -1.321348497345103 23.075597946158048 L -1.3046751498525375 23.03456414827817 L -1.2880018023599722 22.9935303503983 L -1.2713284548674066 22.952496552518426 L -1.2546551073748413 22.911462754638553 L -1.2379817598822758 22.87042895675868 L -1.2213084123897104 22.829395158878807 L -1.2046350648971451 22.788361360998934 L -1.1879617174045796 22.74732756311906 L -1.171288369912014 22.706293765239188 L -1.1546150224194487 22.665259967359315 L -1.1379416749268834 22.624226169479442 L -1.1212683274343178 22.58319237159957 L -1.1045949799417523 22.542158573719696 L -1.087921632449187 22.501124775839823 L -1.0712482849566216 22.46009097795995 L -1.054574937464056 22.419057180080074 L -1.0379015899714905 22.3780233822002 L -1.0212282424789252 22.336989584320328 L -1.0045548949863599 22.295955786440455 L -0.9878815474937943 22.254921988560582 L -0.9712082000012289 22.21388819068071 L -0.9545348525086634 22.172854392800836 L -0.937861505016098 22.131820594920963 L -0.9211881575235326 22.09078679704109 L -0.9045148100309671 22.049752999161218 L -0.8878414625384017 22.008719201281345 L -0.8711681150458362 21.96768540340147 L -0.8544947675532708 21.9266516055216 L -0.8378214200607055 21.885617807641726 L -0.82114807256814 21.844584009761853 L -0.8044747250755746 21.803550211881976 L -0.7878013775830092 21.762516414002103 L -0.7711280300904437 21.72148261612223 L -0.7544546825978783 21.680448818242358 L -0.7377813351053129 21.639415020362485 L -0.7211079876127474 21.59838122248261 L -0.704434640120182 21.55734742460274 L -0.6877612926276165 21.516313626722866 L -0.6710879451350511 21.475279828842993 L -0.6544145976424857 21.43424603096312 L -0.6377412501499202 21.393212233083247 L -0.6210679026573547 21.352178435203374 L -0.6043945551647893 21.3111446373235 L -0.5877212076722238 21.27011083944363 L -0.5710478601796585 21.229077041563755 L -0.5543745126870931 21.188043243683882 L -0.5377011651945276 21.14700944580401 L -0.5210278177019623 21.105975647924133 L -0.5043544702093967 21.06494185004426 L -0.4876811227168314 21.023908052164387 L -0.47100777522426585 20.982874254284514 L -0.4543344277317005 20.94184045640464 L -0.43766108023913497 20.90080665852477 L -0.42098773274656964 20.859772860644895 L -0.4043143852540041 20.818739062765022 L -0.38764103776143877 20.77770526488515 L -0.3709676902688732 20.736671467005277 L -0.3542943427763079 20.695637669125404 L -0.33762099528374234 20.65460387124553 L -0.320947647791177 20.613570073365658 L -0.30427430029861147 20.572536275485785 L -0.28760095280604614 20.531502477605912 L -0.2709276053134806 20.490468679726035 L -0.25425425782091526 20.449434881846162 L -0.23758091032834971 20.40840108396629 L -0.2209075628357844 20.367367286086417 L -0.20423421534321884 20.326333488206544 L -0.1875608678506535 20.28529969032667 L -0.17088752035808796 20.244265892446798 L -0.15421417286552264 20.203232094566925 L -0.1375408253729571 20.162198296687052 L -0.12086747788039176 20.12116449880718 L -0.10419413038782621 20.080130700927306 L -0.08752078289526088 20.039096903047433 L -0.07084743540269534 19.99806310516756 L -0.05417408791013001 19.957029307287687 L -0.03750074041756468 19.915995509407814 L -0.020827392924999133 19.87496171152794 L -0.004154045432433806 19.83392791364807 L 0.012519302060131743 19.792894115768192 L 0.02919264955269707 19.75186031788832 L 0.04586599704526262 19.710826520008446 L 0.06253934453782795 19.669792722128573 L 0.0792126920303935 19.6287589242487 L 0.09588603952295882 19.587725126368827 L 0.11255938701552437 19.546691328488954 L 0.1292327345080897 19.50565753060908 L 0.14590608200065525 19.46462373272921 L 0.16257942949322057 19.423589934849335 L 0.17925277698578612 19.382556136969463 L 0.19592612447835145 19.34152233908959 L 0.212599471970917 19.300488541209717 L 0.22927281946348232 19.259454743329844 L 0.24594616695604787 19.218420945449967 L 0.2626195144486132 19.177387147570094 L 0.27929286194117875 19.13635334969022 L 0.2959662094337441 19.09531955181035 L 0.3126395569263096 19.054285753930476 L 0.32931290441887495 19.013251956050603 L 0.3459862519114405 18.97221815817073 L 0.36265959940400583 18.931184360290857 L 0.37933294689657115 18.890150562410984 L 0.3960062943891369 18.84911676453111 L 0.41267964188170225 18.808082966651238 L 0.4293529893742676 18.767049168771365 L 0.4460263368668329 18.726015370891492 L 0.4626996843593987 18.68498157301162 L 0.479373031851964 18.643947775131743 L 0.49604637934452933 18.602913977251873 L 0.5127197268370947 18.561880179372 L 0.52939307432966 18.520846381492127 L 0.5460664218222258 18.47981258361225 L 0.5627397693147911 18.438778785732378 L 0.5794131168073564 18.397744987852505 L 0.5960864642999217 18.356711189972632 L 0.6127598117924875 18.31567739209276 L 0.6294331592850528 18.274643594212886 L 0.6461065067776182 18.233609796333013 L 0.6627798542701835 18.19257599845314 L 0.6794532017627493 18.151542200573267 L 0.6961265492553146 18.110508402693394 L 0.7127998967478799 18.06947460481352 L 0.7294732442404452 18.02844080693365 L 0.746146591733011 17.987407009053772 L 0.7628199392255763 17.9463732111739 L 0.7794932867181417 17.90533941329403 L 0.796166634210707 17.864305615414153 L 0.8128399817032728 17.82327181753428 L 0.8295133291958381 17.782238019654407 L 0.8461866766884034 17.741204221774534 L 0.8628600241809687 17.70017042389466 L 0.8795333716735345 17.65913662601479 L 0.8962067191660998 17.618102828134916 L 0.9128800666586652 17.577069030255043 L 0.9295534141512305 17.53603523237517 L 0.9462267616437963 17.495001434495297 L 0.9629001091363616 17.453967636615424 L 0.9795734566289269 17.41293383873555 L 0.9962468041214922 17.371900040855678 L 1.012920151614058 17.3308662429758 L 1.0295934991066233 17.28983244509593 L 1.0462668465991887 17.248798647216056 L 1.062940194091754 17.207764849336186 L 1.0796135415843193 17.16673105145631 L 1.096286889076885 17.125697253576437 L 1.1129602365694504 17.084663455696564 L 1.1296335840620157 17.04362965781669 L 1.146306931554581 17.002595859936818 L 1.1629802790471468 16.961562062056945 L 1.1796536265397122 16.920528264177072 L 1.1963269740322775 16.8794944662972 L 1.2130003215248428 16.838460668417326 L 1.2296736690174086 16.797426870537453 L 1.246347016509974 16.75639307265758 L 1.2630203640025393 16.715359274777708 L 1.2796937114951046 16.674325476897835 L 1.2963670589876704 16.633291679017958 L 1.3130404064802357 16.592257881138085 L 1.329713753972801 16.551224083258212 L 1.3463871014653663 16.51019028537834 L 1.363060448957932 16.469156487498466 L 1.3797337964504974 16.428122689618593 L 1.3964071439430628 16.38708889173872 L 1.413080491435628 16.346055093858848 L 1.4297538389281939 16.305021295978975 L 1.4464271864207592 16.2639874980991 L 1.4631005339133245 16.22295370021923 L 1.4797738814058898 16.181919902339356 L 1.4964472288984556 16.140886104459483 L 1.513120576391021 16.09985230657961 L 1.5297939238835863 16.058818508699737 L 1.5464672713761516 16.017784710819864 L 1.563140618868717 15.97675091293999 L 1.5798139663612827 15.935717115060116 L 1.596487313853848 15.894683317180244 L 1.6131606613464133 15.85364951930037 L 1.6298340088389787 15.812615721420496 L 1.6465073563315444 15.771581923540623 L 1.6631807038241098 15.73054812566075 L 1.6798540513166753 15.689514327780877\",\"type\":\"path\",\"line\":{\"color\":\"rgb(228,26,28)\"}}]},                        {\"responsive\": true}                    )                };                            </script>        </div>"
      ],
      "text/plain": [
       "Figure({\n",
       "    'data': [{'hovertemplate': 'standardized age when trained=%{x}<br>mean rescues per year=%{y}<extra></extra>',\n",
       "              'legendgroup': '',\n",
       "              'marker': {'color': '#636efa', 'size': 19, 'symbol': 'circle'},\n",
       "              'mode': 'markers',\n",
       "              'name': '',\n",
       "              'orientation': 'v',\n",
       "              'showlegend': False,\n",
       "              'type': 'scatter',\n",
       "              'x': array([ 1.53765422,  0.82665504,  0.2578557 , -1.54334221, -1.49594226,\n",
       "                           0.68445521, -1.1167427 ,  1.30065449,  0.35265559,  0.02085598,\n",
       "                           0.02085598, -1.02194281, -0.45314347,  0.68445521,  0.73185515,\n",
       "                          -0.02654397,  0.11565587,  0.7792551 ,  1.06365477, -1.25894254,\n",
       "                          -0.59534331, -0.07394391, -0.45314347, -0.31094364,  1.01625482,\n",
       "                          -1.40114237, -1.6381421 ,  1.53765422, -0.83234303, -1.25894254,\n",
       "                           1.67985405, -0.83234303,  1.63245411,  0.92145493, -0.02654397,\n",
       "                           0.54225537, -0.6901432 , -0.73754314, -1.35374243, -0.87974298,\n",
       "                           1.67985405,  1.39545438,  1.25325455,  0.40005554,  1.2058546 ,\n",
       "                          -0.59534331, -0.31094364, -1.35374243, -0.78494309, -0.59534331]),\n",
       "              'xaxis': 'x',\n",
       "              'y': array([21.1, 14.9, 20.5, 19.4, 24.9, 12.9, 21.1, 16.6, 15.3, 19.6, 20.2, 24.2,\n",
       "                          21.8, 20. , 23.8, 19.8, 18.3, 19.2, 17.9, 21.5, 20.9, 19.3, 19.5, 19.3,\n",
       "                          14.1, 24. , 32.4, 17.7, 24.5, 21.1, 15.4, 23. , 16.8, 13.4, 21.7, 15.8,\n",
       "                          14.9, 15.9, 23.7, 25.4, 15.3, 16.5, 21.2, 16.7, 16.7, 23.6, 24.3, 21.8,\n",
       "                          25.9, 20.7]),\n",
       "              'yaxis': 'y'}],\n",
       "    'layout': {'legend': {'tracegroupgap': 0},\n",
       "               'shapes': [{'line': {'color': 'rgb(228,26,28)'},\n",
       "                           'path': ('M-1.6381420997038463 23.855240' ... '40513166753 15.689514327780877'),\n",
       "                           'type': 'path'}],\n",
       "               'template': '...',\n",
       "               'xaxis': {'anchor': 'y', 'domain': [0.0, 1.0], 'title': {'text': 'standardized age when trained'}},\n",
       "               'yaxis': {'anchor': 'x', 'domain': [0.0, 1.0], 'title': {'text': 'mean rescues per year'}}}\n",
       "})"
      ]
     },
     "execution_count": 20,
     "metadata": {},
     "output_type": "execute_result"
    }
   ],
   "source": [
    "# Plot the data and trendline again, after training with standardized feature\n",
    "graphing.scatter_2D(data, \"standardized_age_when_trained\", \"mean_rescues_per_year\", trendline=model_norm.predict)"
   ]
  },
  {
   "cell_type": "code",
   "execution_count": 21,
   "metadata": {},
   "outputs": [
    {
     "ename": "ValueError",
     "evalue": "Mime type rendering requires nbformat>=4.2.0 but it is not installed",
     "output_type": "error",
     "traceback": [
      "\u001b[1;31m---------------------------------------------------------------------------\u001b[0m",
      "\u001b[1;31mValueError\u001b[0m                                Traceback (most recent call last)",
      "\u001b[1;32mc:\\Users\\User\\Desktop\\Dog Training\\Feature_scaling.ipynb Cell 16\u001b[0m in \u001b[0;36m1\n\u001b[0;32m     <a href='vscode-notebook-cell:/c%3A/Users/User/Desktop/Dog%20Training/Feature_scaling.ipynb#X23sZmlsZQ%3D%3D?line=13'>14</a>\u001b[0m fig \u001b[39m=\u001b[39m graphing\u001b[39m.\u001b[39mscatter_2D(df, label_x\u001b[39m=\u001b[39m\u001b[39m\"\u001b[39m\u001b[39mnumber of iterations\u001b[39m\u001b[39m\"\u001b[39m, label_y\u001b[39m=\u001b[39m\u001b[39m\"\u001b[39m\u001b[39mcost\u001b[39m\u001b[39m\"\u001b[39m, title\u001b[39m=\u001b[39m\u001b[39m\"\u001b[39m\u001b[39mTraining Cost vs Iterations\u001b[39m\u001b[39m\"\u001b[39m, label_colour\u001b[39m=\u001b[39m\u001b[39m\"\u001b[39m\u001b[39mModel\u001b[39m\u001b[39m\"\u001b[39m)\n\u001b[0;32m     <a href='vscode-notebook-cell:/c%3A/Users/User/Desktop/Dog%20Training/Feature_scaling.ipynb#X23sZmlsZQ%3D%3D?line=14'>15</a>\u001b[0m fig\u001b[39m.\u001b[39mupdate_traces(mode\u001b[39m=\u001b[39m\u001b[39m'\u001b[39m\u001b[39mlines\u001b[39m\u001b[39m'\u001b[39m)\n\u001b[1;32m---> <a href='vscode-notebook-cell:/c%3A/Users/User/Desktop/Dog%20Training/Feature_scaling.ipynb#X23sZmlsZQ%3D%3D?line=15'>16</a>\u001b[0m fig\u001b[39m.\u001b[39;49mshow()\n",
      "File \u001b[1;32m~\\AppData\\Local\\Packages\\PythonSoftwareFoundation.Python.3.10_qbz5n2kfra8p0\\LocalCache\\local-packages\\Python310\\site-packages\\plotly\\basedatatypes.py:3409\u001b[0m, in \u001b[0;36mBaseFigure.show\u001b[1;34m(self, *args, **kwargs)\u001b[0m\n\u001b[0;32m   3376\u001b[0m \u001b[39m\"\"\"\u001b[39;00m\n\u001b[0;32m   3377\u001b[0m \u001b[39mShow a figure using either the default renderer(s) or the renderer(s)\u001b[39;00m\n\u001b[0;32m   3378\u001b[0m \u001b[39mspecified by the renderer argument\u001b[39;00m\n\u001b[1;32m   (...)\u001b[0m\n\u001b[0;32m   3405\u001b[0m \u001b[39mNone\u001b[39;00m\n\u001b[0;32m   3406\u001b[0m \u001b[39m\"\"\"\u001b[39;00m\n\u001b[0;32m   3407\u001b[0m \u001b[39mimport\u001b[39;00m \u001b[39mplotly\u001b[39;00m\u001b[39m.\u001b[39;00m\u001b[39mio\u001b[39;00m \u001b[39mas\u001b[39;00m \u001b[39mpio\u001b[39;00m\n\u001b[1;32m-> 3409\u001b[0m \u001b[39mreturn\u001b[39;00m pio\u001b[39m.\u001b[39mshow(\u001b[39mself\u001b[39m, \u001b[39m*\u001b[39margs, \u001b[39m*\u001b[39m\u001b[39m*\u001b[39mkwargs)\n",
      "File \u001b[1;32m~\\AppData\\Local\\Packages\\PythonSoftwareFoundation.Python.3.10_qbz5n2kfra8p0\\LocalCache\\local-packages\\Python310\\site-packages\\plotly\\io\\_renderers.py:396\u001b[0m, in \u001b[0;36mshow\u001b[1;34m(fig, renderer, validate, **kwargs)\u001b[0m\n\u001b[0;32m    391\u001b[0m         \u001b[39mraise\u001b[39;00m \u001b[39mValueError\u001b[39;00m(\n\u001b[0;32m    392\u001b[0m             \u001b[39m\"\u001b[39m\u001b[39mMime type rendering requires ipython but it is not installed\u001b[39m\u001b[39m\"\u001b[39m\n\u001b[0;32m    393\u001b[0m         )\n\u001b[0;32m    395\u001b[0m     \u001b[39mif\u001b[39;00m \u001b[39mnot\u001b[39;00m nbformat \u001b[39mor\u001b[39;00m Version(nbformat\u001b[39m.\u001b[39m__version__) \u001b[39m<\u001b[39m Version(\u001b[39m\"\u001b[39m\u001b[39m4.2.0\u001b[39m\u001b[39m\"\u001b[39m):\n\u001b[1;32m--> 396\u001b[0m         \u001b[39mraise\u001b[39;00m \u001b[39mValueError\u001b[39;00m(\n\u001b[0;32m    397\u001b[0m             \u001b[39m\"\u001b[39m\u001b[39mMime type rendering requires nbformat>=4.2.0 but it is not installed\u001b[39m\u001b[39m\"\u001b[39m\n\u001b[0;32m    398\u001b[0m         )\n\u001b[0;32m    400\u001b[0m     ipython_display\u001b[39m.\u001b[39mdisplay(bundle, raw\u001b[39m=\u001b[39m\u001b[39mTrue\u001b[39;00m)\n\u001b[0;32m    402\u001b[0m \u001b[39m# external renderers\u001b[39;00m\n",
      "\u001b[1;31mValueError\u001b[0m: Mime type rendering requires nbformat>=4.2.0 but it is not installed"
     ]
    }
   ],
   "source": [
    "cost1 = model.cost_history\n",
    "cost2 = model_norm.cost_history\n",
    "\n",
    "# Creates dataframes with the cost history for each model\n",
    "df1 = pandas.DataFrame({\"cost\": cost1, \"Model\":\"No feature scaling\"})\n",
    "df1[\"number of iterations\"] = df1.index + 1\n",
    "df2 = pandas.DataFrame({\"cost\": cost2, \"Model\":\"With feature scaling\"})\n",
    "df2[\"number of iterations\"] = df2.index + 1\n",
    "\n",
    "# Concatenate dataframes into a single one that we can use in our plot\n",
    "df = pandas.concat([df1, df2])\n",
    "\n",
    "# Plot cost history for both models\n",
    "fig = graphing.scatter_2D(df, label_x=\"number of iterations\", label_y=\"cost\", title=\"Training Cost vs Iterations\", label_colour=\"Model\")\n",
    "fig.update_traces(mode='lines')\n",
    "fig.show()"
   ]
  },
  {
   "cell_type": "markdown",
   "metadata": {},
   "source": [
    "This plot clearly shows that using a standardized dataset allowed our model to converge much faster. Reaching the lowest cost and finding the optimal weights required a much smaller number of iterations.\n",
    "\n",
    "This is very important when you are developing a new model, because it allows you to iterate quicker; but also when your model is deployed to a production environment, because it requires less compute time for training and costs less than a \"slow\" model."
   ]
  }
 ],
 "metadata": {
  "kernelspec": {
   "display_name": "Python 3",
   "language": "python",
   "name": "python3"
  },
  "language_info": {
   "codemirror_mode": {
    "name": "ipython",
    "version": 3
   },
   "file_extension": ".py",
   "mimetype": "text/x-python",
   "name": "python",
   "nbconvert_exporter": "python",
   "pygments_lexer": "ipython3",
   "version": "3.10.11"
  },
  "orig_nbformat": 4
 },
 "nbformat": 4,
 "nbformat_minor": 2
}
